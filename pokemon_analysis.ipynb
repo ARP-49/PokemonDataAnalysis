{
 "metadata": {
  "language_info": {
   "codemirror_mode": {
    "name": "ipython",
    "version": 3
   },
   "file_extension": ".py",
   "mimetype": "text/x-python",
   "name": "python",
   "nbconvert_exporter": "python",
   "pygments_lexer": "ipython3",
   "version": "3.7.2-final"
  },
  "orig_nbformat": 2,
  "kernelspec": {
   "name": "python3",
   "display_name": "Python 3.7.2 32-bit",
   "metadata": {
    "interpreter": {
     "hash": "13fc793b7aba8b2dd975d7d5d0a4879a25d6ea695384c8a6e4a377524eae5182"
    }
   }
  }
 },
 "nbformat": 4,
 "nbformat_minor": 2,
 "cells": [
  {
   "cell_type": "code",
   "execution_count": 4,
   "metadata": {},
   "outputs": [],
   "source": [
    "#pokemon dataset\n",
    "import pandas as pd \n",
    "pokedf= pd.read_csv('D:\\DataAnalysis\\pokemon_data.csv',index_col= '#')"
   ]
  },
  {
   "cell_type": "code",
   "execution_count": 123,
   "metadata": {},
   "outputs": [
    {
     "output_type": "execute_result",
     "data": {
      "text/plain": [
       "                    Name Type 1  Type 2  HP  Attack  Defense  Sp. Atk  \\\n",
       "#                                                                       \n",
       "1              Bulbasaur  Grass  Poison  45      49       49       65   \n",
       "2                Ivysaur  Grass  Poison  60      62       63       80   \n",
       "3               Venusaur  Grass  Poison  80      82       83      100   \n",
       "3  VenusaurMega Venusaur  Grass  Poison  80     100      123      122   \n",
       "4             Charmander   Fire     NaN  39      52       43       60   \n",
       "\n",
       "   Sp. Def  Speed  Generation  Legendary  \n",
       "#                                         \n",
       "1       65     45           1      False  \n",
       "2       80     60           1      False  \n",
       "3      100     80           1      False  \n",
       "3      120     80           1      False  \n",
       "4       50     65           1      False  "
      ],
      "text/html": "<div>\n<style scoped>\n    .dataframe tbody tr th:only-of-type {\n        vertical-align: middle;\n    }\n\n    .dataframe tbody tr th {\n        vertical-align: top;\n    }\n\n    .dataframe thead th {\n        text-align: right;\n    }\n</style>\n<table border=\"1\" class=\"dataframe\">\n  <thead>\n    <tr style=\"text-align: right;\">\n      <th></th>\n      <th>Name</th>\n      <th>Type 1</th>\n      <th>Type 2</th>\n      <th>HP</th>\n      <th>Attack</th>\n      <th>Defense</th>\n      <th>Sp. Atk</th>\n      <th>Sp. Def</th>\n      <th>Speed</th>\n      <th>Generation</th>\n      <th>Legendary</th>\n    </tr>\n    <tr>\n      <th>#</th>\n      <th></th>\n      <th></th>\n      <th></th>\n      <th></th>\n      <th></th>\n      <th></th>\n      <th></th>\n      <th></th>\n      <th></th>\n      <th></th>\n      <th></th>\n    </tr>\n  </thead>\n  <tbody>\n    <tr>\n      <th>1</th>\n      <td>Bulbasaur</td>\n      <td>Grass</td>\n      <td>Poison</td>\n      <td>45</td>\n      <td>49</td>\n      <td>49</td>\n      <td>65</td>\n      <td>65</td>\n      <td>45</td>\n      <td>1</td>\n      <td>False</td>\n    </tr>\n    <tr>\n      <th>2</th>\n      <td>Ivysaur</td>\n      <td>Grass</td>\n      <td>Poison</td>\n      <td>60</td>\n      <td>62</td>\n      <td>63</td>\n      <td>80</td>\n      <td>80</td>\n      <td>60</td>\n      <td>1</td>\n      <td>False</td>\n    </tr>\n    <tr>\n      <th>3</th>\n      <td>Venusaur</td>\n      <td>Grass</td>\n      <td>Poison</td>\n      <td>80</td>\n      <td>82</td>\n      <td>83</td>\n      <td>100</td>\n      <td>100</td>\n      <td>80</td>\n      <td>1</td>\n      <td>False</td>\n    </tr>\n    <tr>\n      <th>3</th>\n      <td>VenusaurMega Venusaur</td>\n      <td>Grass</td>\n      <td>Poison</td>\n      <td>80</td>\n      <td>100</td>\n      <td>123</td>\n      <td>122</td>\n      <td>120</td>\n      <td>80</td>\n      <td>1</td>\n      <td>False</td>\n    </tr>\n    <tr>\n      <th>4</th>\n      <td>Charmander</td>\n      <td>Fire</td>\n      <td>NaN</td>\n      <td>39</td>\n      <td>52</td>\n      <td>43</td>\n      <td>60</td>\n      <td>50</td>\n      <td>65</td>\n      <td>1</td>\n      <td>False</td>\n    </tr>\n  </tbody>\n</table>\n</div>"
     },
     "metadata": {},
     "execution_count": 123
    }
   ],
   "source": [
    "pokedf.head()"
   ]
  },
  {
   "cell_type": "code",
   "execution_count": 124,
   "metadata": {},
   "outputs": [
    {
     "output_type": "execute_result",
     "data": {
      "text/plain": [
       "                          Name    Type 1  Type 2   HP  Attack  Defense  \\\n",
       "#                                                                        \n",
       "1                    Bulbasaur     Grass  Poison   45      49       49   \n",
       "2                      Ivysaur     Grass  Poison   60      62       63   \n",
       "3                     Venusaur     Grass  Poison   80      82       83   \n",
       "3        VenusaurMega Venusaur     Grass  Poison   80     100      123   \n",
       "4                   Charmander      Fire     NaN   39      52       43   \n",
       "5                   Charmeleon      Fire     NaN   58      64       58   \n",
       "6                    Charizard      Fire  Flying   78      84       78   \n",
       "6    CharizardMega Charizard X      Fire  Dragon   78     130      111   \n",
       "6    CharizardMega Charizard Y      Fire  Flying   78     104       78   \n",
       "7                     Squirtle     Water     NaN   44      48       65   \n",
       "8                    Wartortle     Water     NaN   59      63       80   \n",
       "9                    Blastoise     Water     NaN   79      83      100   \n",
       "9      BlastoiseMega Blastoise     Water     NaN   79     103      120   \n",
       "10                    Caterpie       Bug     NaN   45      30       35   \n",
       "11                     Metapod       Bug     NaN   50      20       55   \n",
       "12                  Butterfree       Bug  Flying   60      45       50   \n",
       "13                      Weedle       Bug  Poison   40      35       30   \n",
       "14                      Kakuna       Bug  Poison   45      25       50   \n",
       "15                    Beedrill       Bug  Poison   65      90       40   \n",
       "15       BeedrillMega Beedrill       Bug  Poison   65     150       40   \n",
       "16                      Pidgey    Normal  Flying   40      45       40   \n",
       "17                   Pidgeotto    Normal  Flying   63      60       55   \n",
       "18                     Pidgeot    Normal  Flying   83      80       75   \n",
       "18         PidgeotMega Pidgeot    Normal  Flying   83      80       80   \n",
       "19                     Rattata    Normal     NaN   30      56       35   \n",
       "20                    Raticate    Normal     NaN   55      81       60   \n",
       "21                     Spearow    Normal  Flying   40      60       30   \n",
       "22                      Fearow    Normal  Flying   65      90       65   \n",
       "23                       Ekans    Poison     NaN   35      60       44   \n",
       "24                       Arbok    Poison     NaN   60      85       69   \n",
       "..                         ...       ...     ...  ...     ...      ...   \n",
       "700                    Sylveon     Fairy     NaN   95      65       65   \n",
       "701                   Hawlucha  Fighting  Flying   78      92       75   \n",
       "702                    Dedenne  Electric   Fairy   67      58       57   \n",
       "703                    Carbink      Rock   Fairy   50      50      150   \n",
       "704                      Goomy    Dragon     NaN   45      50       35   \n",
       "705                    Sliggoo    Dragon     NaN   68      75       53   \n",
       "706                     Goodra    Dragon     NaN   90     100       70   \n",
       "707                     Klefki     Steel   Fairy   57      80       91   \n",
       "708                   Phantump     Ghost   Grass   43      70       48   \n",
       "709                  Trevenant     Ghost   Grass   85     110       76   \n",
       "710      PumpkabooAverage Size     Ghost   Grass   49      66       70   \n",
       "710        PumpkabooSmall Size     Ghost   Grass   44      66       70   \n",
       "710        PumpkabooLarge Size     Ghost   Grass   54      66       70   \n",
       "710        PumpkabooSuper Size     Ghost   Grass   59      66       70   \n",
       "711      GourgeistAverage Size     Ghost   Grass   65      90      122   \n",
       "711        GourgeistSmall Size     Ghost   Grass   55      85      122   \n",
       "711        GourgeistLarge Size     Ghost   Grass   75      95      122   \n",
       "711        GourgeistSuper Size     Ghost   Grass   85     100      122   \n",
       "712                   Bergmite       Ice     NaN   55      69       85   \n",
       "713                    Avalugg       Ice     NaN   95     117      184   \n",
       "714                     Noibat    Flying  Dragon   40      30       35   \n",
       "715                    Noivern    Flying  Dragon   85      70       80   \n",
       "716                    Xerneas     Fairy     NaN  126     131       95   \n",
       "717                    Yveltal      Dark  Flying  126     131       95   \n",
       "718           Zygarde50% Forme    Dragon  Ground  108     100      121   \n",
       "719                    Diancie      Rock   Fairy   50     100      150   \n",
       "719        DiancieMega Diancie      Rock   Fairy   50     160      110   \n",
       "720        HoopaHoopa Confined   Psychic   Ghost   80     110       60   \n",
       "720         HoopaHoopa Unbound   Psychic    Dark   80     160       60   \n",
       "721                  Volcanion      Fire   Water   80     110      120   \n",
       "\n",
       "     Sp. Atk  Sp. Def  Speed  Generation  Legendary  \n",
       "#                                                    \n",
       "1         65       65     45           1      False  \n",
       "2         80       80     60           1      False  \n",
       "3        100      100     80           1      False  \n",
       "3        122      120     80           1      False  \n",
       "4         60       50     65           1      False  \n",
       "5         80       65     80           1      False  \n",
       "6        109       85    100           1      False  \n",
       "6        130       85    100           1      False  \n",
       "6        159      115    100           1      False  \n",
       "7         50       64     43           1      False  \n",
       "8         65       80     58           1      False  \n",
       "9         85      105     78           1      False  \n",
       "9        135      115     78           1      False  \n",
       "10        20       20     45           1      False  \n",
       "11        25       25     30           1      False  \n",
       "12        90       80     70           1      False  \n",
       "13        20       20     50           1      False  \n",
       "14        25       25     35           1      False  \n",
       "15        45       80     75           1      False  \n",
       "15        15       80    145           1      False  \n",
       "16        35       35     56           1      False  \n",
       "17        50       50     71           1      False  \n",
       "18        70       70    101           1      False  \n",
       "18       135       80    121           1      False  \n",
       "19        25       35     72           1      False  \n",
       "20        50       70     97           1      False  \n",
       "21        31       31     70           1      False  \n",
       "22        61       61    100           1      False  \n",
       "23        40       54     55           1      False  \n",
       "24        65       79     80           1      False  \n",
       "..       ...      ...    ...         ...        ...  \n",
       "700      110      130     60           6      False  \n",
       "701       74       63    118           6      False  \n",
       "702       81       67    101           6      False  \n",
       "703       50      150     50           6      False  \n",
       "704       55       75     40           6      False  \n",
       "705       83      113     60           6      False  \n",
       "706      110      150     80           6      False  \n",
       "707       80       87     75           6      False  \n",
       "708       50       60     38           6      False  \n",
       "709       65       82     56           6      False  \n",
       "710       44       55     51           6      False  \n",
       "710       44       55     56           6      False  \n",
       "710       44       55     46           6      False  \n",
       "710       44       55     41           6      False  \n",
       "711       58       75     84           6      False  \n",
       "711       58       75     99           6      False  \n",
       "711       58       75     69           6      False  \n",
       "711       58       75     54           6      False  \n",
       "712       32       35     28           6      False  \n",
       "713       44       46     28           6      False  \n",
       "714       45       40     55           6      False  \n",
       "715       97       80    123           6      False  \n",
       "716      131       98     99           6       True  \n",
       "717      131       98     99           6       True  \n",
       "718       81       95     95           6       True  \n",
       "719      100      150     50           6       True  \n",
       "719      160      110    110           6       True  \n",
       "720      150      130     70           6       True  \n",
       "720      170      130     80           6       True  \n",
       "721      130       90     70           6       True  \n",
       "\n",
       "[800 rows x 11 columns]"
      ],
      "text/html": "<div>\n<style scoped>\n    .dataframe tbody tr th:only-of-type {\n        vertical-align: middle;\n    }\n\n    .dataframe tbody tr th {\n        vertical-align: top;\n    }\n\n    .dataframe thead th {\n        text-align: right;\n    }\n</style>\n<table border=\"1\" class=\"dataframe\">\n  <thead>\n    <tr style=\"text-align: right;\">\n      <th></th>\n      <th>Name</th>\n      <th>Type 1</th>\n      <th>Type 2</th>\n      <th>HP</th>\n      <th>Attack</th>\n      <th>Defense</th>\n      <th>Sp. Atk</th>\n      <th>Sp. Def</th>\n      <th>Speed</th>\n      <th>Generation</th>\n      <th>Legendary</th>\n    </tr>\n    <tr>\n      <th>#</th>\n      <th></th>\n      <th></th>\n      <th></th>\n      <th></th>\n      <th></th>\n      <th></th>\n      <th></th>\n      <th></th>\n      <th></th>\n      <th></th>\n      <th></th>\n    </tr>\n  </thead>\n  <tbody>\n    <tr>\n      <th>1</th>\n      <td>Bulbasaur</td>\n      <td>Grass</td>\n      <td>Poison</td>\n      <td>45</td>\n      <td>49</td>\n      <td>49</td>\n      <td>65</td>\n      <td>65</td>\n      <td>45</td>\n      <td>1</td>\n      <td>False</td>\n    </tr>\n    <tr>\n      <th>2</th>\n      <td>Ivysaur</td>\n      <td>Grass</td>\n      <td>Poison</td>\n      <td>60</td>\n      <td>62</td>\n      <td>63</td>\n      <td>80</td>\n      <td>80</td>\n      <td>60</td>\n      <td>1</td>\n      <td>False</td>\n    </tr>\n    <tr>\n      <th>3</th>\n      <td>Venusaur</td>\n      <td>Grass</td>\n      <td>Poison</td>\n      <td>80</td>\n      <td>82</td>\n      <td>83</td>\n      <td>100</td>\n      <td>100</td>\n      <td>80</td>\n      <td>1</td>\n      <td>False</td>\n    </tr>\n    <tr>\n      <th>3</th>\n      <td>VenusaurMega Venusaur</td>\n      <td>Grass</td>\n      <td>Poison</td>\n      <td>80</td>\n      <td>100</td>\n      <td>123</td>\n      <td>122</td>\n      <td>120</td>\n      <td>80</td>\n      <td>1</td>\n      <td>False</td>\n    </tr>\n    <tr>\n      <th>4</th>\n      <td>Charmander</td>\n      <td>Fire</td>\n      <td>NaN</td>\n      <td>39</td>\n      <td>52</td>\n      <td>43</td>\n      <td>60</td>\n      <td>50</td>\n      <td>65</td>\n      <td>1</td>\n      <td>False</td>\n    </tr>\n    <tr>\n      <th>5</th>\n      <td>Charmeleon</td>\n      <td>Fire</td>\n      <td>NaN</td>\n      <td>58</td>\n      <td>64</td>\n      <td>58</td>\n      <td>80</td>\n      <td>65</td>\n      <td>80</td>\n      <td>1</td>\n      <td>False</td>\n    </tr>\n    <tr>\n      <th>6</th>\n      <td>Charizard</td>\n      <td>Fire</td>\n      <td>Flying</td>\n      <td>78</td>\n      <td>84</td>\n      <td>78</td>\n      <td>109</td>\n      <td>85</td>\n      <td>100</td>\n      <td>1</td>\n      <td>False</td>\n    </tr>\n    <tr>\n      <th>6</th>\n      <td>CharizardMega Charizard X</td>\n      <td>Fire</td>\n      <td>Dragon</td>\n      <td>78</td>\n      <td>130</td>\n      <td>111</td>\n      <td>130</td>\n      <td>85</td>\n      <td>100</td>\n      <td>1</td>\n      <td>False</td>\n    </tr>\n    <tr>\n      <th>6</th>\n      <td>CharizardMega Charizard Y</td>\n      <td>Fire</td>\n      <td>Flying</td>\n      <td>78</td>\n      <td>104</td>\n      <td>78</td>\n      <td>159</td>\n      <td>115</td>\n      <td>100</td>\n      <td>1</td>\n      <td>False</td>\n    </tr>\n    <tr>\n      <th>7</th>\n      <td>Squirtle</td>\n      <td>Water</td>\n      <td>NaN</td>\n      <td>44</td>\n      <td>48</td>\n      <td>65</td>\n      <td>50</td>\n      <td>64</td>\n      <td>43</td>\n      <td>1</td>\n      <td>False</td>\n    </tr>\n    <tr>\n      <th>8</th>\n      <td>Wartortle</td>\n      <td>Water</td>\n      <td>NaN</td>\n      <td>59</td>\n      <td>63</td>\n      <td>80</td>\n      <td>65</td>\n      <td>80</td>\n      <td>58</td>\n      <td>1</td>\n      <td>False</td>\n    </tr>\n    <tr>\n      <th>9</th>\n      <td>Blastoise</td>\n      <td>Water</td>\n      <td>NaN</td>\n      <td>79</td>\n      <td>83</td>\n      <td>100</td>\n      <td>85</td>\n      <td>105</td>\n      <td>78</td>\n      <td>1</td>\n      <td>False</td>\n    </tr>\n    <tr>\n      <th>9</th>\n      <td>BlastoiseMega Blastoise</td>\n      <td>Water</td>\n      <td>NaN</td>\n      <td>79</td>\n      <td>103</td>\n      <td>120</td>\n      <td>135</td>\n      <td>115</td>\n      <td>78</td>\n      <td>1</td>\n      <td>False</td>\n    </tr>\n    <tr>\n      <th>10</th>\n      <td>Caterpie</td>\n      <td>Bug</td>\n      <td>NaN</td>\n      <td>45</td>\n      <td>30</td>\n      <td>35</td>\n      <td>20</td>\n      <td>20</td>\n      <td>45</td>\n      <td>1</td>\n      <td>False</td>\n    </tr>\n    <tr>\n      <th>11</th>\n      <td>Metapod</td>\n      <td>Bug</td>\n      <td>NaN</td>\n      <td>50</td>\n      <td>20</td>\n      <td>55</td>\n      <td>25</td>\n      <td>25</td>\n      <td>30</td>\n      <td>1</td>\n      <td>False</td>\n    </tr>\n    <tr>\n      <th>12</th>\n      <td>Butterfree</td>\n      <td>Bug</td>\n      <td>Flying</td>\n      <td>60</td>\n      <td>45</td>\n      <td>50</td>\n      <td>90</td>\n      <td>80</td>\n      <td>70</td>\n      <td>1</td>\n      <td>False</td>\n    </tr>\n    <tr>\n      <th>13</th>\n      <td>Weedle</td>\n      <td>Bug</td>\n      <td>Poison</td>\n      <td>40</td>\n      <td>35</td>\n      <td>30</td>\n      <td>20</td>\n      <td>20</td>\n      <td>50</td>\n      <td>1</td>\n      <td>False</td>\n    </tr>\n    <tr>\n      <th>14</th>\n      <td>Kakuna</td>\n      <td>Bug</td>\n      <td>Poison</td>\n      <td>45</td>\n      <td>25</td>\n      <td>50</td>\n      <td>25</td>\n      <td>25</td>\n      <td>35</td>\n      <td>1</td>\n      <td>False</td>\n    </tr>\n    <tr>\n      <th>15</th>\n      <td>Beedrill</td>\n      <td>Bug</td>\n      <td>Poison</td>\n      <td>65</td>\n      <td>90</td>\n      <td>40</td>\n      <td>45</td>\n      <td>80</td>\n      <td>75</td>\n      <td>1</td>\n      <td>False</td>\n    </tr>\n    <tr>\n      <th>15</th>\n      <td>BeedrillMega Beedrill</td>\n      <td>Bug</td>\n      <td>Poison</td>\n      <td>65</td>\n      <td>150</td>\n      <td>40</td>\n      <td>15</td>\n      <td>80</td>\n      <td>145</td>\n      <td>1</td>\n      <td>False</td>\n    </tr>\n    <tr>\n      <th>16</th>\n      <td>Pidgey</td>\n      <td>Normal</td>\n      <td>Flying</td>\n      <td>40</td>\n      <td>45</td>\n      <td>40</td>\n      <td>35</td>\n      <td>35</td>\n      <td>56</td>\n      <td>1</td>\n      <td>False</td>\n    </tr>\n    <tr>\n      <th>17</th>\n      <td>Pidgeotto</td>\n      <td>Normal</td>\n      <td>Flying</td>\n      <td>63</td>\n      <td>60</td>\n      <td>55</td>\n      <td>50</td>\n      <td>50</td>\n      <td>71</td>\n      <td>1</td>\n      <td>False</td>\n    </tr>\n    <tr>\n      <th>18</th>\n      <td>Pidgeot</td>\n      <td>Normal</td>\n      <td>Flying</td>\n      <td>83</td>\n      <td>80</td>\n      <td>75</td>\n      <td>70</td>\n      <td>70</td>\n      <td>101</td>\n      <td>1</td>\n      <td>False</td>\n    </tr>\n    <tr>\n      <th>18</th>\n      <td>PidgeotMega Pidgeot</td>\n      <td>Normal</td>\n      <td>Flying</td>\n      <td>83</td>\n      <td>80</td>\n      <td>80</td>\n      <td>135</td>\n      <td>80</td>\n      <td>121</td>\n      <td>1</td>\n      <td>False</td>\n    </tr>\n    <tr>\n      <th>19</th>\n      <td>Rattata</td>\n      <td>Normal</td>\n      <td>NaN</td>\n      <td>30</td>\n      <td>56</td>\n      <td>35</td>\n      <td>25</td>\n      <td>35</td>\n      <td>72</td>\n      <td>1</td>\n      <td>False</td>\n    </tr>\n    <tr>\n      <th>20</th>\n      <td>Raticate</td>\n      <td>Normal</td>\n      <td>NaN</td>\n      <td>55</td>\n      <td>81</td>\n      <td>60</td>\n      <td>50</td>\n      <td>70</td>\n      <td>97</td>\n      <td>1</td>\n      <td>False</td>\n    </tr>\n    <tr>\n      <th>21</th>\n      <td>Spearow</td>\n      <td>Normal</td>\n      <td>Flying</td>\n      <td>40</td>\n      <td>60</td>\n      <td>30</td>\n      <td>31</td>\n      <td>31</td>\n      <td>70</td>\n      <td>1</td>\n      <td>False</td>\n    </tr>\n    <tr>\n      <th>22</th>\n      <td>Fearow</td>\n      <td>Normal</td>\n      <td>Flying</td>\n      <td>65</td>\n      <td>90</td>\n      <td>65</td>\n      <td>61</td>\n      <td>61</td>\n      <td>100</td>\n      <td>1</td>\n      <td>False</td>\n    </tr>\n    <tr>\n      <th>23</th>\n      <td>Ekans</td>\n      <td>Poison</td>\n      <td>NaN</td>\n      <td>35</td>\n      <td>60</td>\n      <td>44</td>\n      <td>40</td>\n      <td>54</td>\n      <td>55</td>\n      <td>1</td>\n      <td>False</td>\n    </tr>\n    <tr>\n      <th>24</th>\n      <td>Arbok</td>\n      <td>Poison</td>\n      <td>NaN</td>\n      <td>60</td>\n      <td>85</td>\n      <td>69</td>\n      <td>65</td>\n      <td>79</td>\n      <td>80</td>\n      <td>1</td>\n      <td>False</td>\n    </tr>\n    <tr>\n      <th>...</th>\n      <td>...</td>\n      <td>...</td>\n      <td>...</td>\n      <td>...</td>\n      <td>...</td>\n      <td>...</td>\n      <td>...</td>\n      <td>...</td>\n      <td>...</td>\n      <td>...</td>\n      <td>...</td>\n    </tr>\n    <tr>\n      <th>700</th>\n      <td>Sylveon</td>\n      <td>Fairy</td>\n      <td>NaN</td>\n      <td>95</td>\n      <td>65</td>\n      <td>65</td>\n      <td>110</td>\n      <td>130</td>\n      <td>60</td>\n      <td>6</td>\n      <td>False</td>\n    </tr>\n    <tr>\n      <th>701</th>\n      <td>Hawlucha</td>\n      <td>Fighting</td>\n      <td>Flying</td>\n      <td>78</td>\n      <td>92</td>\n      <td>75</td>\n      <td>74</td>\n      <td>63</td>\n      <td>118</td>\n      <td>6</td>\n      <td>False</td>\n    </tr>\n    <tr>\n      <th>702</th>\n      <td>Dedenne</td>\n      <td>Electric</td>\n      <td>Fairy</td>\n      <td>67</td>\n      <td>58</td>\n      <td>57</td>\n      <td>81</td>\n      <td>67</td>\n      <td>101</td>\n      <td>6</td>\n      <td>False</td>\n    </tr>\n    <tr>\n      <th>703</th>\n      <td>Carbink</td>\n      <td>Rock</td>\n      <td>Fairy</td>\n      <td>50</td>\n      <td>50</td>\n      <td>150</td>\n      <td>50</td>\n      <td>150</td>\n      <td>50</td>\n      <td>6</td>\n      <td>False</td>\n    </tr>\n    <tr>\n      <th>704</th>\n      <td>Goomy</td>\n      <td>Dragon</td>\n      <td>NaN</td>\n      <td>45</td>\n      <td>50</td>\n      <td>35</td>\n      <td>55</td>\n      <td>75</td>\n      <td>40</td>\n      <td>6</td>\n      <td>False</td>\n    </tr>\n    <tr>\n      <th>705</th>\n      <td>Sliggoo</td>\n      <td>Dragon</td>\n      <td>NaN</td>\n      <td>68</td>\n      <td>75</td>\n      <td>53</td>\n      <td>83</td>\n      <td>113</td>\n      <td>60</td>\n      <td>6</td>\n      <td>False</td>\n    </tr>\n    <tr>\n      <th>706</th>\n      <td>Goodra</td>\n      <td>Dragon</td>\n      <td>NaN</td>\n      <td>90</td>\n      <td>100</td>\n      <td>70</td>\n      <td>110</td>\n      <td>150</td>\n      <td>80</td>\n      <td>6</td>\n      <td>False</td>\n    </tr>\n    <tr>\n      <th>707</th>\n      <td>Klefki</td>\n      <td>Steel</td>\n      <td>Fairy</td>\n      <td>57</td>\n      <td>80</td>\n      <td>91</td>\n      <td>80</td>\n      <td>87</td>\n      <td>75</td>\n      <td>6</td>\n      <td>False</td>\n    </tr>\n    <tr>\n      <th>708</th>\n      <td>Phantump</td>\n      <td>Ghost</td>\n      <td>Grass</td>\n      <td>43</td>\n      <td>70</td>\n      <td>48</td>\n      <td>50</td>\n      <td>60</td>\n      <td>38</td>\n      <td>6</td>\n      <td>False</td>\n    </tr>\n    <tr>\n      <th>709</th>\n      <td>Trevenant</td>\n      <td>Ghost</td>\n      <td>Grass</td>\n      <td>85</td>\n      <td>110</td>\n      <td>76</td>\n      <td>65</td>\n      <td>82</td>\n      <td>56</td>\n      <td>6</td>\n      <td>False</td>\n    </tr>\n    <tr>\n      <th>710</th>\n      <td>PumpkabooAverage Size</td>\n      <td>Ghost</td>\n      <td>Grass</td>\n      <td>49</td>\n      <td>66</td>\n      <td>70</td>\n      <td>44</td>\n      <td>55</td>\n      <td>51</td>\n      <td>6</td>\n      <td>False</td>\n    </tr>\n    <tr>\n      <th>710</th>\n      <td>PumpkabooSmall Size</td>\n      <td>Ghost</td>\n      <td>Grass</td>\n      <td>44</td>\n      <td>66</td>\n      <td>70</td>\n      <td>44</td>\n      <td>55</td>\n      <td>56</td>\n      <td>6</td>\n      <td>False</td>\n    </tr>\n    <tr>\n      <th>710</th>\n      <td>PumpkabooLarge Size</td>\n      <td>Ghost</td>\n      <td>Grass</td>\n      <td>54</td>\n      <td>66</td>\n      <td>70</td>\n      <td>44</td>\n      <td>55</td>\n      <td>46</td>\n      <td>6</td>\n      <td>False</td>\n    </tr>\n    <tr>\n      <th>710</th>\n      <td>PumpkabooSuper Size</td>\n      <td>Ghost</td>\n      <td>Grass</td>\n      <td>59</td>\n      <td>66</td>\n      <td>70</td>\n      <td>44</td>\n      <td>55</td>\n      <td>41</td>\n      <td>6</td>\n      <td>False</td>\n    </tr>\n    <tr>\n      <th>711</th>\n      <td>GourgeistAverage Size</td>\n      <td>Ghost</td>\n      <td>Grass</td>\n      <td>65</td>\n      <td>90</td>\n      <td>122</td>\n      <td>58</td>\n      <td>75</td>\n      <td>84</td>\n      <td>6</td>\n      <td>False</td>\n    </tr>\n    <tr>\n      <th>711</th>\n      <td>GourgeistSmall Size</td>\n      <td>Ghost</td>\n      <td>Grass</td>\n      <td>55</td>\n      <td>85</td>\n      <td>122</td>\n      <td>58</td>\n      <td>75</td>\n      <td>99</td>\n      <td>6</td>\n      <td>False</td>\n    </tr>\n    <tr>\n      <th>711</th>\n      <td>GourgeistLarge Size</td>\n      <td>Ghost</td>\n      <td>Grass</td>\n      <td>75</td>\n      <td>95</td>\n      <td>122</td>\n      <td>58</td>\n      <td>75</td>\n      <td>69</td>\n      <td>6</td>\n      <td>False</td>\n    </tr>\n    <tr>\n      <th>711</th>\n      <td>GourgeistSuper Size</td>\n      <td>Ghost</td>\n      <td>Grass</td>\n      <td>85</td>\n      <td>100</td>\n      <td>122</td>\n      <td>58</td>\n      <td>75</td>\n      <td>54</td>\n      <td>6</td>\n      <td>False</td>\n    </tr>\n    <tr>\n      <th>712</th>\n      <td>Bergmite</td>\n      <td>Ice</td>\n      <td>NaN</td>\n      <td>55</td>\n      <td>69</td>\n      <td>85</td>\n      <td>32</td>\n      <td>35</td>\n      <td>28</td>\n      <td>6</td>\n      <td>False</td>\n    </tr>\n    <tr>\n      <th>713</th>\n      <td>Avalugg</td>\n      <td>Ice</td>\n      <td>NaN</td>\n      <td>95</td>\n      <td>117</td>\n      <td>184</td>\n      <td>44</td>\n      <td>46</td>\n      <td>28</td>\n      <td>6</td>\n      <td>False</td>\n    </tr>\n    <tr>\n      <th>714</th>\n      <td>Noibat</td>\n      <td>Flying</td>\n      <td>Dragon</td>\n      <td>40</td>\n      <td>30</td>\n      <td>35</td>\n      <td>45</td>\n      <td>40</td>\n      <td>55</td>\n      <td>6</td>\n      <td>False</td>\n    </tr>\n    <tr>\n      <th>715</th>\n      <td>Noivern</td>\n      <td>Flying</td>\n      <td>Dragon</td>\n      <td>85</td>\n      <td>70</td>\n      <td>80</td>\n      <td>97</td>\n      <td>80</td>\n      <td>123</td>\n      <td>6</td>\n      <td>False</td>\n    </tr>\n    <tr>\n      <th>716</th>\n      <td>Xerneas</td>\n      <td>Fairy</td>\n      <td>NaN</td>\n      <td>126</td>\n      <td>131</td>\n      <td>95</td>\n      <td>131</td>\n      <td>98</td>\n      <td>99</td>\n      <td>6</td>\n      <td>True</td>\n    </tr>\n    <tr>\n      <th>717</th>\n      <td>Yveltal</td>\n      <td>Dark</td>\n      <td>Flying</td>\n      <td>126</td>\n      <td>131</td>\n      <td>95</td>\n      <td>131</td>\n      <td>98</td>\n      <td>99</td>\n      <td>6</td>\n      <td>True</td>\n    </tr>\n    <tr>\n      <th>718</th>\n      <td>Zygarde50% Forme</td>\n      <td>Dragon</td>\n      <td>Ground</td>\n      <td>108</td>\n      <td>100</td>\n      <td>121</td>\n      <td>81</td>\n      <td>95</td>\n      <td>95</td>\n      <td>6</td>\n      <td>True</td>\n    </tr>\n    <tr>\n      <th>719</th>\n      <td>Diancie</td>\n      <td>Rock</td>\n      <td>Fairy</td>\n      <td>50</td>\n      <td>100</td>\n      <td>150</td>\n      <td>100</td>\n      <td>150</td>\n      <td>50</td>\n      <td>6</td>\n      <td>True</td>\n    </tr>\n    <tr>\n      <th>719</th>\n      <td>DiancieMega Diancie</td>\n      <td>Rock</td>\n      <td>Fairy</td>\n      <td>50</td>\n      <td>160</td>\n      <td>110</td>\n      <td>160</td>\n      <td>110</td>\n      <td>110</td>\n      <td>6</td>\n      <td>True</td>\n    </tr>\n    <tr>\n      <th>720</th>\n      <td>HoopaHoopa Confined</td>\n      <td>Psychic</td>\n      <td>Ghost</td>\n      <td>80</td>\n      <td>110</td>\n      <td>60</td>\n      <td>150</td>\n      <td>130</td>\n      <td>70</td>\n      <td>6</td>\n      <td>True</td>\n    </tr>\n    <tr>\n      <th>720</th>\n      <td>HoopaHoopa Unbound</td>\n      <td>Psychic</td>\n      <td>Dark</td>\n      <td>80</td>\n      <td>160</td>\n      <td>60</td>\n      <td>170</td>\n      <td>130</td>\n      <td>80</td>\n      <td>6</td>\n      <td>True</td>\n    </tr>\n    <tr>\n      <th>721</th>\n      <td>Volcanion</td>\n      <td>Fire</td>\n      <td>Water</td>\n      <td>80</td>\n      <td>110</td>\n      <td>120</td>\n      <td>130</td>\n      <td>90</td>\n      <td>70</td>\n      <td>6</td>\n      <td>True</td>\n    </tr>\n  </tbody>\n</table>\n<p>800 rows × 11 columns</p>\n</div>"
     },
     "metadata": {},
     "execution_count": 124
    }
   ],
   "source": [
    "pokedf"
   ]
  },
  {
   "cell_type": "code",
   "execution_count": 125,
   "metadata": {},
   "outputs": [
    {
     "output_type": "execute_result",
     "data": {
      "text/plain": [
       "#\n",
       "3          VenusaurMega Venusaur\n",
       "6      CharizardMega Charizard X\n",
       "6      CharizardMega Charizard Y\n",
       "9        BlastoiseMega Blastoise\n",
       "15         BeedrillMega Beedrill\n",
       "18           PidgeotMega Pidgeot\n",
       "65         AlakazamMega Alakazam\n",
       "80           SlowbroMega Slowbro\n",
       "94             GengarMega Gengar\n",
       "115    KangaskhanMega Kangaskhan\n",
       "127            PinsirMega Pinsir\n",
       "130        GyaradosMega Gyarados\n",
       "142    AerodactylMega Aerodactyl\n",
       "150          MewtwoMega Mewtwo X\n",
       "150          MewtwoMega Mewtwo Y\n",
       "154                     Meganium\n",
       "181        AmpharosMega Ampharos\n",
       "208          SteelixMega Steelix\n",
       "212            ScizorMega Scizor\n",
       "214      HeracrossMega Heracross\n",
       "229        HoundoomMega Houndoom\n",
       "248      TyranitarMega Tyranitar\n",
       "254        SceptileMega Sceptile\n",
       "257        BlazikenMega Blaziken\n",
       "260        SwampertMega Swampert\n",
       "282      GardevoirMega Gardevoir\n",
       "302          SableyeMega Sableye\n",
       "303            MawileMega Mawile\n",
       "306            AggronMega Aggron\n",
       "308        MedichamMega Medicham\n",
       "310      ManectricMega Manectric\n",
       "319        SharpedoMega Sharpedo\n",
       "323        CameruptMega Camerupt\n",
       "334          AltariaMega Altaria\n",
       "354          BanetteMega Banette\n",
       "359              AbsolMega Absol\n",
       "362            GlalieMega Glalie\n",
       "373      SalamenceMega Salamence\n",
       "376      MetagrossMega Metagross\n",
       "380            LatiasMega Latias\n",
       "381            LatiosMega Latios\n",
       "384        RayquazaMega Rayquaza\n",
       "428          LopunnyMega Lopunny\n",
       "445        GarchompMega Garchomp\n",
       "448          LucarioMega Lucario\n",
       "460      AbomasnowMega Abomasnow\n",
       "475          GalladeMega Gallade\n",
       "531            AudinoMega Audino\n",
       "719          DiancieMega Diancie\n",
       "Name: Name, dtype: object"
      ]
     },
     "metadata": {},
     "execution_count": 125
    }
   ],
   "source": [
    "megafilt=pokedf['Name'].str.contains('Mega')\n",
    "pokedf.loc[megafilt,'Name']"
   ]
  },
  {
   "cell_type": "code",
   "execution_count": 126,
   "metadata": {},
   "outputs": [
    {
     "output_type": "execute_result",
     "data": {
      "text/plain": [
       "                          Name    Type 1  Type 2   HP  Attack  Defense  \\\n",
       "#                                                                        \n",
       "1                    Bulbasaur     Grass  Poison   45      49       49   \n",
       "2                      Ivysaur     Grass  Poison   60      62       63   \n",
       "3                     Venusaur     Grass  Poison   80      82       83   \n",
       "3        VenusaurMega Venusaur     Grass  Poison   80     100      123   \n",
       "4                   Charmander      Fire     NaN   39      52       43   \n",
       "5                   Charmeleon      Fire     NaN   58      64       58   \n",
       "6                    Charizard      Fire  Flying   78      84       78   \n",
       "6    CharizardMega Charizard X      Fire  Dragon   78     130      111   \n",
       "6    CharizardMega Charizard Y      Fire  Flying   78     104       78   \n",
       "7                     Squirtle     Water     NaN   44      48       65   \n",
       "8                    Wartortle     Water     NaN   59      63       80   \n",
       "9                    Blastoise     Water     NaN   79      83      100   \n",
       "9      BlastoiseMega Blastoise     Water     NaN   79     103      120   \n",
       "10                    Caterpie       Bug     NaN   45      30       35   \n",
       "11                     Metapod       Bug     NaN   50      20       55   \n",
       "12                  Butterfree       Bug  Flying   60      45       50   \n",
       "13                      Weedle       Bug  Poison   40      35       30   \n",
       "14                      Kakuna       Bug  Poison   45      25       50   \n",
       "15                    Beedrill       Bug  Poison   65      90       40   \n",
       "15       BeedrillMega Beedrill       Bug  Poison   65     150       40   \n",
       "16                      Pidgey    Normal  Flying   40      45       40   \n",
       "17                   Pidgeotto    Normal  Flying   63      60       55   \n",
       "18                     Pidgeot    Normal  Flying   83      80       75   \n",
       "18         PidgeotMega Pidgeot    Normal  Flying   83      80       80   \n",
       "19                     Rattata    Normal     NaN   30      56       35   \n",
       "20                    Raticate    Normal     NaN   55      81       60   \n",
       "21                     Spearow    Normal  Flying   40      60       30   \n",
       "22                      Fearow    Normal  Flying   65      90       65   \n",
       "23                       Ekans    Poison     NaN   35      60       44   \n",
       "24                       Arbok    Poison     NaN   60      85       69   \n",
       "..                         ...       ...     ...  ...     ...      ...   \n",
       "700                    Sylveon     Fairy     NaN   95      65       65   \n",
       "701                   Hawlucha  Fighting  Flying   78      92       75   \n",
       "702                    Dedenne  Electric   Fairy   67      58       57   \n",
       "703                    Carbink      Rock   Fairy   50      50      150   \n",
       "704                      Goomy    Dragon     NaN   45      50       35   \n",
       "705                    Sliggoo    Dragon     NaN   68      75       53   \n",
       "706                     Goodra    Dragon     NaN   90     100       70   \n",
       "707                     Klefki     Steel   Fairy   57      80       91   \n",
       "708                   Phantump     Ghost   Grass   43      70       48   \n",
       "709                  Trevenant     Ghost   Grass   85     110       76   \n",
       "710      PumpkabooAverage Size     Ghost   Grass   49      66       70   \n",
       "710        PumpkabooSmall Size     Ghost   Grass   44      66       70   \n",
       "710        PumpkabooLarge Size     Ghost   Grass   54      66       70   \n",
       "710        PumpkabooSuper Size     Ghost   Grass   59      66       70   \n",
       "711      GourgeistAverage Size     Ghost   Grass   65      90      122   \n",
       "711        GourgeistSmall Size     Ghost   Grass   55      85      122   \n",
       "711        GourgeistLarge Size     Ghost   Grass   75      95      122   \n",
       "711        GourgeistSuper Size     Ghost   Grass   85     100      122   \n",
       "712                   Bergmite       Ice     NaN   55      69       85   \n",
       "713                    Avalugg       Ice     NaN   95     117      184   \n",
       "714                     Noibat    Flying  Dragon   40      30       35   \n",
       "715                    Noivern    Flying  Dragon   85      70       80   \n",
       "716                    Xerneas     Fairy     NaN  126     131       95   \n",
       "717                    Yveltal      Dark  Flying  126     131       95   \n",
       "718           Zygarde50% Forme    Dragon  Ground  108     100      121   \n",
       "719                    Diancie      Rock   Fairy   50     100      150   \n",
       "719        DiancieMega Diancie      Rock   Fairy   50     160      110   \n",
       "720        HoopaHoopa Confined   Psychic   Ghost   80     110       60   \n",
       "720         HoopaHoopa Unbound   Psychic    Dark   80     160       60   \n",
       "721                  Volcanion      Fire   Water   80     110      120   \n",
       "\n",
       "     Sp. Atk  Sp. Def  Speed  Generation  Legendary  \n",
       "#                                                    \n",
       "1         65       65     45           1      False  \n",
       "2         80       80     60           1      False  \n",
       "3        100      100     80           1      False  \n",
       "3        122      120     80           1      False  \n",
       "4         60       50     65           1      False  \n",
       "5         80       65     80           1      False  \n",
       "6        109       85    100           1      False  \n",
       "6        130       85    100           1      False  \n",
       "6        159      115    100           1      False  \n",
       "7         50       64     43           1      False  \n",
       "8         65       80     58           1      False  \n",
       "9         85      105     78           1      False  \n",
       "9        135      115     78           1      False  \n",
       "10        20       20     45           1      False  \n",
       "11        25       25     30           1      False  \n",
       "12        90       80     70           1      False  \n",
       "13        20       20     50           1      False  \n",
       "14        25       25     35           1      False  \n",
       "15        45       80     75           1      False  \n",
       "15        15       80    145           1      False  \n",
       "16        35       35     56           1      False  \n",
       "17        50       50     71           1      False  \n",
       "18        70       70    101           1      False  \n",
       "18       135       80    121           1      False  \n",
       "19        25       35     72           1      False  \n",
       "20        50       70     97           1      False  \n",
       "21        31       31     70           1      False  \n",
       "22        61       61    100           1      False  \n",
       "23        40       54     55           1      False  \n",
       "24        65       79     80           1      False  \n",
       "..       ...      ...    ...         ...        ...  \n",
       "700      110      130     60           6      False  \n",
       "701       74       63    118           6      False  \n",
       "702       81       67    101           6      False  \n",
       "703       50      150     50           6      False  \n",
       "704       55       75     40           6      False  \n",
       "705       83      113     60           6      False  \n",
       "706      110      150     80           6      False  \n",
       "707       80       87     75           6      False  \n",
       "708       50       60     38           6      False  \n",
       "709       65       82     56           6      False  \n",
       "710       44       55     51           6      False  \n",
       "710       44       55     56           6      False  \n",
       "710       44       55     46           6      False  \n",
       "710       44       55     41           6      False  \n",
       "711       58       75     84           6      False  \n",
       "711       58       75     99           6      False  \n",
       "711       58       75     69           6      False  \n",
       "711       58       75     54           6      False  \n",
       "712       32       35     28           6      False  \n",
       "713       44       46     28           6      False  \n",
       "714       45       40     55           6      False  \n",
       "715       97       80    123           6      False  \n",
       "716      131       98     99           6       True  \n",
       "717      131       98     99           6       True  \n",
       "718       81       95     95           6       True  \n",
       "719      100      150     50           6       True  \n",
       "719      160      110    110           6       True  \n",
       "720      150      130     70           6       True  \n",
       "720      170      130     80           6       True  \n",
       "721      130       90     70           6       True  \n",
       "\n",
       "[800 rows x 11 columns]"
      ],
      "text/html": "<div>\n<style scoped>\n    .dataframe tbody tr th:only-of-type {\n        vertical-align: middle;\n    }\n\n    .dataframe tbody tr th {\n        vertical-align: top;\n    }\n\n    .dataframe thead th {\n        text-align: right;\n    }\n</style>\n<table border=\"1\" class=\"dataframe\">\n  <thead>\n    <tr style=\"text-align: right;\">\n      <th></th>\n      <th>Name</th>\n      <th>Type 1</th>\n      <th>Type 2</th>\n      <th>HP</th>\n      <th>Attack</th>\n      <th>Defense</th>\n      <th>Sp. Atk</th>\n      <th>Sp. Def</th>\n      <th>Speed</th>\n      <th>Generation</th>\n      <th>Legendary</th>\n    </tr>\n    <tr>\n      <th>#</th>\n      <th></th>\n      <th></th>\n      <th></th>\n      <th></th>\n      <th></th>\n      <th></th>\n      <th></th>\n      <th></th>\n      <th></th>\n      <th></th>\n      <th></th>\n    </tr>\n  </thead>\n  <tbody>\n    <tr>\n      <th>1</th>\n      <td>Bulbasaur</td>\n      <td>Grass</td>\n      <td>Poison</td>\n      <td>45</td>\n      <td>49</td>\n      <td>49</td>\n      <td>65</td>\n      <td>65</td>\n      <td>45</td>\n      <td>1</td>\n      <td>False</td>\n    </tr>\n    <tr>\n      <th>2</th>\n      <td>Ivysaur</td>\n      <td>Grass</td>\n      <td>Poison</td>\n      <td>60</td>\n      <td>62</td>\n      <td>63</td>\n      <td>80</td>\n      <td>80</td>\n      <td>60</td>\n      <td>1</td>\n      <td>False</td>\n    </tr>\n    <tr>\n      <th>3</th>\n      <td>Venusaur</td>\n      <td>Grass</td>\n      <td>Poison</td>\n      <td>80</td>\n      <td>82</td>\n      <td>83</td>\n      <td>100</td>\n      <td>100</td>\n      <td>80</td>\n      <td>1</td>\n      <td>False</td>\n    </tr>\n    <tr>\n      <th>3</th>\n      <td>VenusaurMega Venusaur</td>\n      <td>Grass</td>\n      <td>Poison</td>\n      <td>80</td>\n      <td>100</td>\n      <td>123</td>\n      <td>122</td>\n      <td>120</td>\n      <td>80</td>\n      <td>1</td>\n      <td>False</td>\n    </tr>\n    <tr>\n      <th>4</th>\n      <td>Charmander</td>\n      <td>Fire</td>\n      <td>NaN</td>\n      <td>39</td>\n      <td>52</td>\n      <td>43</td>\n      <td>60</td>\n      <td>50</td>\n      <td>65</td>\n      <td>1</td>\n      <td>False</td>\n    </tr>\n    <tr>\n      <th>5</th>\n      <td>Charmeleon</td>\n      <td>Fire</td>\n      <td>NaN</td>\n      <td>58</td>\n      <td>64</td>\n      <td>58</td>\n      <td>80</td>\n      <td>65</td>\n      <td>80</td>\n      <td>1</td>\n      <td>False</td>\n    </tr>\n    <tr>\n      <th>6</th>\n      <td>Charizard</td>\n      <td>Fire</td>\n      <td>Flying</td>\n      <td>78</td>\n      <td>84</td>\n      <td>78</td>\n      <td>109</td>\n      <td>85</td>\n      <td>100</td>\n      <td>1</td>\n      <td>False</td>\n    </tr>\n    <tr>\n      <th>6</th>\n      <td>CharizardMega Charizard X</td>\n      <td>Fire</td>\n      <td>Dragon</td>\n      <td>78</td>\n      <td>130</td>\n      <td>111</td>\n      <td>130</td>\n      <td>85</td>\n      <td>100</td>\n      <td>1</td>\n      <td>False</td>\n    </tr>\n    <tr>\n      <th>6</th>\n      <td>CharizardMega Charizard Y</td>\n      <td>Fire</td>\n      <td>Flying</td>\n      <td>78</td>\n      <td>104</td>\n      <td>78</td>\n      <td>159</td>\n      <td>115</td>\n      <td>100</td>\n      <td>1</td>\n      <td>False</td>\n    </tr>\n    <tr>\n      <th>7</th>\n      <td>Squirtle</td>\n      <td>Water</td>\n      <td>NaN</td>\n      <td>44</td>\n      <td>48</td>\n      <td>65</td>\n      <td>50</td>\n      <td>64</td>\n      <td>43</td>\n      <td>1</td>\n      <td>False</td>\n    </tr>\n    <tr>\n      <th>8</th>\n      <td>Wartortle</td>\n      <td>Water</td>\n      <td>NaN</td>\n      <td>59</td>\n      <td>63</td>\n      <td>80</td>\n      <td>65</td>\n      <td>80</td>\n      <td>58</td>\n      <td>1</td>\n      <td>False</td>\n    </tr>\n    <tr>\n      <th>9</th>\n      <td>Blastoise</td>\n      <td>Water</td>\n      <td>NaN</td>\n      <td>79</td>\n      <td>83</td>\n      <td>100</td>\n      <td>85</td>\n      <td>105</td>\n      <td>78</td>\n      <td>1</td>\n      <td>False</td>\n    </tr>\n    <tr>\n      <th>9</th>\n      <td>BlastoiseMega Blastoise</td>\n      <td>Water</td>\n      <td>NaN</td>\n      <td>79</td>\n      <td>103</td>\n      <td>120</td>\n      <td>135</td>\n      <td>115</td>\n      <td>78</td>\n      <td>1</td>\n      <td>False</td>\n    </tr>\n    <tr>\n      <th>10</th>\n      <td>Caterpie</td>\n      <td>Bug</td>\n      <td>NaN</td>\n      <td>45</td>\n      <td>30</td>\n      <td>35</td>\n      <td>20</td>\n      <td>20</td>\n      <td>45</td>\n      <td>1</td>\n      <td>False</td>\n    </tr>\n    <tr>\n      <th>11</th>\n      <td>Metapod</td>\n      <td>Bug</td>\n      <td>NaN</td>\n      <td>50</td>\n      <td>20</td>\n      <td>55</td>\n      <td>25</td>\n      <td>25</td>\n      <td>30</td>\n      <td>1</td>\n      <td>False</td>\n    </tr>\n    <tr>\n      <th>12</th>\n      <td>Butterfree</td>\n      <td>Bug</td>\n      <td>Flying</td>\n      <td>60</td>\n      <td>45</td>\n      <td>50</td>\n      <td>90</td>\n      <td>80</td>\n      <td>70</td>\n      <td>1</td>\n      <td>False</td>\n    </tr>\n    <tr>\n      <th>13</th>\n      <td>Weedle</td>\n      <td>Bug</td>\n      <td>Poison</td>\n      <td>40</td>\n      <td>35</td>\n      <td>30</td>\n      <td>20</td>\n      <td>20</td>\n      <td>50</td>\n      <td>1</td>\n      <td>False</td>\n    </tr>\n    <tr>\n      <th>14</th>\n      <td>Kakuna</td>\n      <td>Bug</td>\n      <td>Poison</td>\n      <td>45</td>\n      <td>25</td>\n      <td>50</td>\n      <td>25</td>\n      <td>25</td>\n      <td>35</td>\n      <td>1</td>\n      <td>False</td>\n    </tr>\n    <tr>\n      <th>15</th>\n      <td>Beedrill</td>\n      <td>Bug</td>\n      <td>Poison</td>\n      <td>65</td>\n      <td>90</td>\n      <td>40</td>\n      <td>45</td>\n      <td>80</td>\n      <td>75</td>\n      <td>1</td>\n      <td>False</td>\n    </tr>\n    <tr>\n      <th>15</th>\n      <td>BeedrillMega Beedrill</td>\n      <td>Bug</td>\n      <td>Poison</td>\n      <td>65</td>\n      <td>150</td>\n      <td>40</td>\n      <td>15</td>\n      <td>80</td>\n      <td>145</td>\n      <td>1</td>\n      <td>False</td>\n    </tr>\n    <tr>\n      <th>16</th>\n      <td>Pidgey</td>\n      <td>Normal</td>\n      <td>Flying</td>\n      <td>40</td>\n      <td>45</td>\n      <td>40</td>\n      <td>35</td>\n      <td>35</td>\n      <td>56</td>\n      <td>1</td>\n      <td>False</td>\n    </tr>\n    <tr>\n      <th>17</th>\n      <td>Pidgeotto</td>\n      <td>Normal</td>\n      <td>Flying</td>\n      <td>63</td>\n      <td>60</td>\n      <td>55</td>\n      <td>50</td>\n      <td>50</td>\n      <td>71</td>\n      <td>1</td>\n      <td>False</td>\n    </tr>\n    <tr>\n      <th>18</th>\n      <td>Pidgeot</td>\n      <td>Normal</td>\n      <td>Flying</td>\n      <td>83</td>\n      <td>80</td>\n      <td>75</td>\n      <td>70</td>\n      <td>70</td>\n      <td>101</td>\n      <td>1</td>\n      <td>False</td>\n    </tr>\n    <tr>\n      <th>18</th>\n      <td>PidgeotMega Pidgeot</td>\n      <td>Normal</td>\n      <td>Flying</td>\n      <td>83</td>\n      <td>80</td>\n      <td>80</td>\n      <td>135</td>\n      <td>80</td>\n      <td>121</td>\n      <td>1</td>\n      <td>False</td>\n    </tr>\n    <tr>\n      <th>19</th>\n      <td>Rattata</td>\n      <td>Normal</td>\n      <td>NaN</td>\n      <td>30</td>\n      <td>56</td>\n      <td>35</td>\n      <td>25</td>\n      <td>35</td>\n      <td>72</td>\n      <td>1</td>\n      <td>False</td>\n    </tr>\n    <tr>\n      <th>20</th>\n      <td>Raticate</td>\n      <td>Normal</td>\n      <td>NaN</td>\n      <td>55</td>\n      <td>81</td>\n      <td>60</td>\n      <td>50</td>\n      <td>70</td>\n      <td>97</td>\n      <td>1</td>\n      <td>False</td>\n    </tr>\n    <tr>\n      <th>21</th>\n      <td>Spearow</td>\n      <td>Normal</td>\n      <td>Flying</td>\n      <td>40</td>\n      <td>60</td>\n      <td>30</td>\n      <td>31</td>\n      <td>31</td>\n      <td>70</td>\n      <td>1</td>\n      <td>False</td>\n    </tr>\n    <tr>\n      <th>22</th>\n      <td>Fearow</td>\n      <td>Normal</td>\n      <td>Flying</td>\n      <td>65</td>\n      <td>90</td>\n      <td>65</td>\n      <td>61</td>\n      <td>61</td>\n      <td>100</td>\n      <td>1</td>\n      <td>False</td>\n    </tr>\n    <tr>\n      <th>23</th>\n      <td>Ekans</td>\n      <td>Poison</td>\n      <td>NaN</td>\n      <td>35</td>\n      <td>60</td>\n      <td>44</td>\n      <td>40</td>\n      <td>54</td>\n      <td>55</td>\n      <td>1</td>\n      <td>False</td>\n    </tr>\n    <tr>\n      <th>24</th>\n      <td>Arbok</td>\n      <td>Poison</td>\n      <td>NaN</td>\n      <td>60</td>\n      <td>85</td>\n      <td>69</td>\n      <td>65</td>\n      <td>79</td>\n      <td>80</td>\n      <td>1</td>\n      <td>False</td>\n    </tr>\n    <tr>\n      <th>...</th>\n      <td>...</td>\n      <td>...</td>\n      <td>...</td>\n      <td>...</td>\n      <td>...</td>\n      <td>...</td>\n      <td>...</td>\n      <td>...</td>\n      <td>...</td>\n      <td>...</td>\n      <td>...</td>\n    </tr>\n    <tr>\n      <th>700</th>\n      <td>Sylveon</td>\n      <td>Fairy</td>\n      <td>NaN</td>\n      <td>95</td>\n      <td>65</td>\n      <td>65</td>\n      <td>110</td>\n      <td>130</td>\n      <td>60</td>\n      <td>6</td>\n      <td>False</td>\n    </tr>\n    <tr>\n      <th>701</th>\n      <td>Hawlucha</td>\n      <td>Fighting</td>\n      <td>Flying</td>\n      <td>78</td>\n      <td>92</td>\n      <td>75</td>\n      <td>74</td>\n      <td>63</td>\n      <td>118</td>\n      <td>6</td>\n      <td>False</td>\n    </tr>\n    <tr>\n      <th>702</th>\n      <td>Dedenne</td>\n      <td>Electric</td>\n      <td>Fairy</td>\n      <td>67</td>\n      <td>58</td>\n      <td>57</td>\n      <td>81</td>\n      <td>67</td>\n      <td>101</td>\n      <td>6</td>\n      <td>False</td>\n    </tr>\n    <tr>\n      <th>703</th>\n      <td>Carbink</td>\n      <td>Rock</td>\n      <td>Fairy</td>\n      <td>50</td>\n      <td>50</td>\n      <td>150</td>\n      <td>50</td>\n      <td>150</td>\n      <td>50</td>\n      <td>6</td>\n      <td>False</td>\n    </tr>\n    <tr>\n      <th>704</th>\n      <td>Goomy</td>\n      <td>Dragon</td>\n      <td>NaN</td>\n      <td>45</td>\n      <td>50</td>\n      <td>35</td>\n      <td>55</td>\n      <td>75</td>\n      <td>40</td>\n      <td>6</td>\n      <td>False</td>\n    </tr>\n    <tr>\n      <th>705</th>\n      <td>Sliggoo</td>\n      <td>Dragon</td>\n      <td>NaN</td>\n      <td>68</td>\n      <td>75</td>\n      <td>53</td>\n      <td>83</td>\n      <td>113</td>\n      <td>60</td>\n      <td>6</td>\n      <td>False</td>\n    </tr>\n    <tr>\n      <th>706</th>\n      <td>Goodra</td>\n      <td>Dragon</td>\n      <td>NaN</td>\n      <td>90</td>\n      <td>100</td>\n      <td>70</td>\n      <td>110</td>\n      <td>150</td>\n      <td>80</td>\n      <td>6</td>\n      <td>False</td>\n    </tr>\n    <tr>\n      <th>707</th>\n      <td>Klefki</td>\n      <td>Steel</td>\n      <td>Fairy</td>\n      <td>57</td>\n      <td>80</td>\n      <td>91</td>\n      <td>80</td>\n      <td>87</td>\n      <td>75</td>\n      <td>6</td>\n      <td>False</td>\n    </tr>\n    <tr>\n      <th>708</th>\n      <td>Phantump</td>\n      <td>Ghost</td>\n      <td>Grass</td>\n      <td>43</td>\n      <td>70</td>\n      <td>48</td>\n      <td>50</td>\n      <td>60</td>\n      <td>38</td>\n      <td>6</td>\n      <td>False</td>\n    </tr>\n    <tr>\n      <th>709</th>\n      <td>Trevenant</td>\n      <td>Ghost</td>\n      <td>Grass</td>\n      <td>85</td>\n      <td>110</td>\n      <td>76</td>\n      <td>65</td>\n      <td>82</td>\n      <td>56</td>\n      <td>6</td>\n      <td>False</td>\n    </tr>\n    <tr>\n      <th>710</th>\n      <td>PumpkabooAverage Size</td>\n      <td>Ghost</td>\n      <td>Grass</td>\n      <td>49</td>\n      <td>66</td>\n      <td>70</td>\n      <td>44</td>\n      <td>55</td>\n      <td>51</td>\n      <td>6</td>\n      <td>False</td>\n    </tr>\n    <tr>\n      <th>710</th>\n      <td>PumpkabooSmall Size</td>\n      <td>Ghost</td>\n      <td>Grass</td>\n      <td>44</td>\n      <td>66</td>\n      <td>70</td>\n      <td>44</td>\n      <td>55</td>\n      <td>56</td>\n      <td>6</td>\n      <td>False</td>\n    </tr>\n    <tr>\n      <th>710</th>\n      <td>PumpkabooLarge Size</td>\n      <td>Ghost</td>\n      <td>Grass</td>\n      <td>54</td>\n      <td>66</td>\n      <td>70</td>\n      <td>44</td>\n      <td>55</td>\n      <td>46</td>\n      <td>6</td>\n      <td>False</td>\n    </tr>\n    <tr>\n      <th>710</th>\n      <td>PumpkabooSuper Size</td>\n      <td>Ghost</td>\n      <td>Grass</td>\n      <td>59</td>\n      <td>66</td>\n      <td>70</td>\n      <td>44</td>\n      <td>55</td>\n      <td>41</td>\n      <td>6</td>\n      <td>False</td>\n    </tr>\n    <tr>\n      <th>711</th>\n      <td>GourgeistAverage Size</td>\n      <td>Ghost</td>\n      <td>Grass</td>\n      <td>65</td>\n      <td>90</td>\n      <td>122</td>\n      <td>58</td>\n      <td>75</td>\n      <td>84</td>\n      <td>6</td>\n      <td>False</td>\n    </tr>\n    <tr>\n      <th>711</th>\n      <td>GourgeistSmall Size</td>\n      <td>Ghost</td>\n      <td>Grass</td>\n      <td>55</td>\n      <td>85</td>\n      <td>122</td>\n      <td>58</td>\n      <td>75</td>\n      <td>99</td>\n      <td>6</td>\n      <td>False</td>\n    </tr>\n    <tr>\n      <th>711</th>\n      <td>GourgeistLarge Size</td>\n      <td>Ghost</td>\n      <td>Grass</td>\n      <td>75</td>\n      <td>95</td>\n      <td>122</td>\n      <td>58</td>\n      <td>75</td>\n      <td>69</td>\n      <td>6</td>\n      <td>False</td>\n    </tr>\n    <tr>\n      <th>711</th>\n      <td>GourgeistSuper Size</td>\n      <td>Ghost</td>\n      <td>Grass</td>\n      <td>85</td>\n      <td>100</td>\n      <td>122</td>\n      <td>58</td>\n      <td>75</td>\n      <td>54</td>\n      <td>6</td>\n      <td>False</td>\n    </tr>\n    <tr>\n      <th>712</th>\n      <td>Bergmite</td>\n      <td>Ice</td>\n      <td>NaN</td>\n      <td>55</td>\n      <td>69</td>\n      <td>85</td>\n      <td>32</td>\n      <td>35</td>\n      <td>28</td>\n      <td>6</td>\n      <td>False</td>\n    </tr>\n    <tr>\n      <th>713</th>\n      <td>Avalugg</td>\n      <td>Ice</td>\n      <td>NaN</td>\n      <td>95</td>\n      <td>117</td>\n      <td>184</td>\n      <td>44</td>\n      <td>46</td>\n      <td>28</td>\n      <td>6</td>\n      <td>False</td>\n    </tr>\n    <tr>\n      <th>714</th>\n      <td>Noibat</td>\n      <td>Flying</td>\n      <td>Dragon</td>\n      <td>40</td>\n      <td>30</td>\n      <td>35</td>\n      <td>45</td>\n      <td>40</td>\n      <td>55</td>\n      <td>6</td>\n      <td>False</td>\n    </tr>\n    <tr>\n      <th>715</th>\n      <td>Noivern</td>\n      <td>Flying</td>\n      <td>Dragon</td>\n      <td>85</td>\n      <td>70</td>\n      <td>80</td>\n      <td>97</td>\n      <td>80</td>\n      <td>123</td>\n      <td>6</td>\n      <td>False</td>\n    </tr>\n    <tr>\n      <th>716</th>\n      <td>Xerneas</td>\n      <td>Fairy</td>\n      <td>NaN</td>\n      <td>126</td>\n      <td>131</td>\n      <td>95</td>\n      <td>131</td>\n      <td>98</td>\n      <td>99</td>\n      <td>6</td>\n      <td>True</td>\n    </tr>\n    <tr>\n      <th>717</th>\n      <td>Yveltal</td>\n      <td>Dark</td>\n      <td>Flying</td>\n      <td>126</td>\n      <td>131</td>\n      <td>95</td>\n      <td>131</td>\n      <td>98</td>\n      <td>99</td>\n      <td>6</td>\n      <td>True</td>\n    </tr>\n    <tr>\n      <th>718</th>\n      <td>Zygarde50% Forme</td>\n      <td>Dragon</td>\n      <td>Ground</td>\n      <td>108</td>\n      <td>100</td>\n      <td>121</td>\n      <td>81</td>\n      <td>95</td>\n      <td>95</td>\n      <td>6</td>\n      <td>True</td>\n    </tr>\n    <tr>\n      <th>719</th>\n      <td>Diancie</td>\n      <td>Rock</td>\n      <td>Fairy</td>\n      <td>50</td>\n      <td>100</td>\n      <td>150</td>\n      <td>100</td>\n      <td>150</td>\n      <td>50</td>\n      <td>6</td>\n      <td>True</td>\n    </tr>\n    <tr>\n      <th>719</th>\n      <td>DiancieMega Diancie</td>\n      <td>Rock</td>\n      <td>Fairy</td>\n      <td>50</td>\n      <td>160</td>\n      <td>110</td>\n      <td>160</td>\n      <td>110</td>\n      <td>110</td>\n      <td>6</td>\n      <td>True</td>\n    </tr>\n    <tr>\n      <th>720</th>\n      <td>HoopaHoopa Confined</td>\n      <td>Psychic</td>\n      <td>Ghost</td>\n      <td>80</td>\n      <td>110</td>\n      <td>60</td>\n      <td>150</td>\n      <td>130</td>\n      <td>70</td>\n      <td>6</td>\n      <td>True</td>\n    </tr>\n    <tr>\n      <th>720</th>\n      <td>HoopaHoopa Unbound</td>\n      <td>Psychic</td>\n      <td>Dark</td>\n      <td>80</td>\n      <td>160</td>\n      <td>60</td>\n      <td>170</td>\n      <td>130</td>\n      <td>80</td>\n      <td>6</td>\n      <td>True</td>\n    </tr>\n    <tr>\n      <th>721</th>\n      <td>Volcanion</td>\n      <td>Fire</td>\n      <td>Water</td>\n      <td>80</td>\n      <td>110</td>\n      <td>120</td>\n      <td>130</td>\n      <td>90</td>\n      <td>70</td>\n      <td>6</td>\n      <td>True</td>\n    </tr>\n  </tbody>\n</table>\n<p>800 rows × 11 columns</p>\n</div>"
     },
     "metadata": {},
     "execution_count": 126
    }
   ],
   "source": [
    "pokedf"
   ]
  },
  {
   "cell_type": "code",
   "execution_count": 127,
   "metadata": {},
   "outputs": [
    {
     "output_type": "execute_result",
     "data": {
      "text/plain": [
       "array(['Grass', 'Fire', 'Water', 'Bug', 'Normal', 'Poison', 'Electric',\n",
       "       'Ground', 'Fairy', 'Fighting', 'Psychic', 'Rock', 'Ghost', 'Ice',\n",
       "       'Dragon', 'Dark', 'Steel', 'Flying'], dtype=object)"
      ]
     },
     "metadata": {},
     "execution_count": 127
    }
   ],
   "source": [
    "pokedf['Type 1'].unique()"
   ]
  },
  {
   "cell_type": "code",
   "execution_count": 128,
   "metadata": {},
   "outputs": [],
   "source": [
    "#top 10 poke with non legendary/gen 1/attack>100/def>100/type1= fire, water , ground , electric , grass ,psychic\n",
    "gen_filt= (pokedf['Generation'] == 1 )\n",
    "#type1_filt= (pokedf['Type 1']== \"Fire\") & (pokedf['Type 1']== \"Water\") & (pokedf['Type 1']== \"Ground\") & (pokedf['Type 1']== \"Electric\") & (pokedf['Type 1']== \"Grass\") & (pokedf['Type 1']== \"Psychic\") \n",
    "subset=['Fire','Water','Ground','Electric','Grass','Psychic']\n",
    "type1_filt= pokedf['Type 1'].isin(subset)\n",
    "ability_filt= (pokedf['Attack'] >= 100) & (pokedf['Defense'] >= 100)\n",
    "legend_filt= pokedf['Legendary'] == False"
   ]
  },
  {
   "cell_type": "code",
   "execution_count": 129,
   "metadata": {},
   "outputs": [
    {
     "output_type": "execute_result",
     "data": {
      "text/plain": [
       "                    Name Type 1  Type 2  HP  Attack  Defense  Sp. Atk  \\\n",
       "#                                                                       \n",
       "1              Bulbasaur  Grass  Poison  45      49       49       65   \n",
       "2                Ivysaur  Grass  Poison  60      62       63       80   \n",
       "3               Venusaur  Grass  Poison  80      82       83      100   \n",
       "3  VenusaurMega Venusaur  Grass  Poison  80     100      123      122   \n",
       "4             Charmander   Fire     NaN  39      52       43       60   \n",
       "\n",
       "   Sp. Def  Speed  Generation  Legendary  \n",
       "#                                         \n",
       "1       65     45           1      False  \n",
       "2       80     60           1      False  \n",
       "3      100     80           1      False  \n",
       "3      120     80           1      False  \n",
       "4       50     65           1      False  "
      ],
      "text/html": "<div>\n<style scoped>\n    .dataframe tbody tr th:only-of-type {\n        vertical-align: middle;\n    }\n\n    .dataframe tbody tr th {\n        vertical-align: top;\n    }\n\n    .dataframe thead th {\n        text-align: right;\n    }\n</style>\n<table border=\"1\" class=\"dataframe\">\n  <thead>\n    <tr style=\"text-align: right;\">\n      <th></th>\n      <th>Name</th>\n      <th>Type 1</th>\n      <th>Type 2</th>\n      <th>HP</th>\n      <th>Attack</th>\n      <th>Defense</th>\n      <th>Sp. Atk</th>\n      <th>Sp. Def</th>\n      <th>Speed</th>\n      <th>Generation</th>\n      <th>Legendary</th>\n    </tr>\n    <tr>\n      <th>#</th>\n      <th></th>\n      <th></th>\n      <th></th>\n      <th></th>\n      <th></th>\n      <th></th>\n      <th></th>\n      <th></th>\n      <th></th>\n      <th></th>\n      <th></th>\n    </tr>\n  </thead>\n  <tbody>\n    <tr>\n      <th>1</th>\n      <td>Bulbasaur</td>\n      <td>Grass</td>\n      <td>Poison</td>\n      <td>45</td>\n      <td>49</td>\n      <td>49</td>\n      <td>65</td>\n      <td>65</td>\n      <td>45</td>\n      <td>1</td>\n      <td>False</td>\n    </tr>\n    <tr>\n      <th>2</th>\n      <td>Ivysaur</td>\n      <td>Grass</td>\n      <td>Poison</td>\n      <td>60</td>\n      <td>62</td>\n      <td>63</td>\n      <td>80</td>\n      <td>80</td>\n      <td>60</td>\n      <td>1</td>\n      <td>False</td>\n    </tr>\n    <tr>\n      <th>3</th>\n      <td>Venusaur</td>\n      <td>Grass</td>\n      <td>Poison</td>\n      <td>80</td>\n      <td>82</td>\n      <td>83</td>\n      <td>100</td>\n      <td>100</td>\n      <td>80</td>\n      <td>1</td>\n      <td>False</td>\n    </tr>\n    <tr>\n      <th>3</th>\n      <td>VenusaurMega Venusaur</td>\n      <td>Grass</td>\n      <td>Poison</td>\n      <td>80</td>\n      <td>100</td>\n      <td>123</td>\n      <td>122</td>\n      <td>120</td>\n      <td>80</td>\n      <td>1</td>\n      <td>False</td>\n    </tr>\n    <tr>\n      <th>4</th>\n      <td>Charmander</td>\n      <td>Fire</td>\n      <td>NaN</td>\n      <td>39</td>\n      <td>52</td>\n      <td>43</td>\n      <td>60</td>\n      <td>50</td>\n      <td>65</td>\n      <td>1</td>\n      <td>False</td>\n    </tr>\n  </tbody>\n</table>\n</div>"
     },
     "metadata": {},
     "execution_count": 129
    }
   ],
   "source": [
    "gen1_only = pokedf.loc[gen_filt]\n",
    "gen1_only.head()"
   ]
  },
  {
   "cell_type": "code",
   "execution_count": 130,
   "metadata": {},
   "outputs": [
    {
     "output_type": "execute_result",
     "data": {
      "text/plain": [
       "                    Name Type 1  Type 2  HP  Attack  Defense  Sp. Atk  \\\n",
       "#                                                                       \n",
       "1              Bulbasaur  Grass  Poison  45      49       49       65   \n",
       "2                Ivysaur  Grass  Poison  60      62       63       80   \n",
       "3               Venusaur  Grass  Poison  80      82       83      100   \n",
       "3  VenusaurMega Venusaur  Grass  Poison  80     100      123      122   \n",
       "4             Charmander   Fire     NaN  39      52       43       60   \n",
       "\n",
       "   Sp. Def  Speed  Generation  Legendary  \n",
       "#                                         \n",
       "1       65     45           1      False  \n",
       "2       80     60           1      False  \n",
       "3      100     80           1      False  \n",
       "3      120     80           1      False  \n",
       "4       50     65           1      False  "
      ],
      "text/html": "<div>\n<style scoped>\n    .dataframe tbody tr th:only-of-type {\n        vertical-align: middle;\n    }\n\n    .dataframe tbody tr th {\n        vertical-align: top;\n    }\n\n    .dataframe thead th {\n        text-align: right;\n    }\n</style>\n<table border=\"1\" class=\"dataframe\">\n  <thead>\n    <tr style=\"text-align: right;\">\n      <th></th>\n      <th>Name</th>\n      <th>Type 1</th>\n      <th>Type 2</th>\n      <th>HP</th>\n      <th>Attack</th>\n      <th>Defense</th>\n      <th>Sp. Atk</th>\n      <th>Sp. Def</th>\n      <th>Speed</th>\n      <th>Generation</th>\n      <th>Legendary</th>\n    </tr>\n    <tr>\n      <th>#</th>\n      <th></th>\n      <th></th>\n      <th></th>\n      <th></th>\n      <th></th>\n      <th></th>\n      <th></th>\n      <th></th>\n      <th></th>\n      <th></th>\n      <th></th>\n    </tr>\n  </thead>\n  <tbody>\n    <tr>\n      <th>1</th>\n      <td>Bulbasaur</td>\n      <td>Grass</td>\n      <td>Poison</td>\n      <td>45</td>\n      <td>49</td>\n      <td>49</td>\n      <td>65</td>\n      <td>65</td>\n      <td>45</td>\n      <td>1</td>\n      <td>False</td>\n    </tr>\n    <tr>\n      <th>2</th>\n      <td>Ivysaur</td>\n      <td>Grass</td>\n      <td>Poison</td>\n      <td>60</td>\n      <td>62</td>\n      <td>63</td>\n      <td>80</td>\n      <td>80</td>\n      <td>60</td>\n      <td>1</td>\n      <td>False</td>\n    </tr>\n    <tr>\n      <th>3</th>\n      <td>Venusaur</td>\n      <td>Grass</td>\n      <td>Poison</td>\n      <td>80</td>\n      <td>82</td>\n      <td>83</td>\n      <td>100</td>\n      <td>100</td>\n      <td>80</td>\n      <td>1</td>\n      <td>False</td>\n    </tr>\n    <tr>\n      <th>3</th>\n      <td>VenusaurMega Venusaur</td>\n      <td>Grass</td>\n      <td>Poison</td>\n      <td>80</td>\n      <td>100</td>\n      <td>123</td>\n      <td>122</td>\n      <td>120</td>\n      <td>80</td>\n      <td>1</td>\n      <td>False</td>\n    </tr>\n    <tr>\n      <th>4</th>\n      <td>Charmander</td>\n      <td>Fire</td>\n      <td>NaN</td>\n      <td>39</td>\n      <td>52</td>\n      <td>43</td>\n      <td>60</td>\n      <td>50</td>\n      <td>65</td>\n      <td>1</td>\n      <td>False</td>\n    </tr>\n  </tbody>\n</table>\n</div>"
     },
     "metadata": {},
     "execution_count": 130
    }
   ],
   "source": [
    "type1_only = pokedf.loc[type1_filt]\n",
    "type1_only.head()"
   ]
  },
  {
   "cell_type": "code",
   "execution_count": 131,
   "metadata": {},
   "outputs": [
    {
     "output_type": "execute_result",
     "data": {
      "text/plain": [
       "                         Name  Type 1  Type 2  HP  Attack  Defense  Sp. Atk  \\\n",
       "#                                                                             \n",
       "3       VenusaurMega Venusaur   Grass  Poison  80     100      123      122   \n",
       "6   CharizardMega Charizard X    Fire  Dragon  78     130      111      130   \n",
       "9     BlastoiseMega Blastoise   Water     NaN  79     103      120      135   \n",
       "28                  Sandslash  Ground     NaN  75     100      110       45   \n",
       "76                      Golem    Rock  Ground  80     120      130       55   \n",
       "\n",
       "    Sp. Def  Speed  Generation  Legendary  \n",
       "#                                          \n",
       "3       120     80           1      False  \n",
       "6        85    100           1      False  \n",
       "9       115     78           1      False  \n",
       "28       55     65           1      False  \n",
       "76       65     45           1      False  "
      ],
      "text/html": "<div>\n<style scoped>\n    .dataframe tbody tr th:only-of-type {\n        vertical-align: middle;\n    }\n\n    .dataframe tbody tr th {\n        vertical-align: top;\n    }\n\n    .dataframe thead th {\n        text-align: right;\n    }\n</style>\n<table border=\"1\" class=\"dataframe\">\n  <thead>\n    <tr style=\"text-align: right;\">\n      <th></th>\n      <th>Name</th>\n      <th>Type 1</th>\n      <th>Type 2</th>\n      <th>HP</th>\n      <th>Attack</th>\n      <th>Defense</th>\n      <th>Sp. Atk</th>\n      <th>Sp. Def</th>\n      <th>Speed</th>\n      <th>Generation</th>\n      <th>Legendary</th>\n    </tr>\n    <tr>\n      <th>#</th>\n      <th></th>\n      <th></th>\n      <th></th>\n      <th></th>\n      <th></th>\n      <th></th>\n      <th></th>\n      <th></th>\n      <th></th>\n      <th></th>\n      <th></th>\n    </tr>\n  </thead>\n  <tbody>\n    <tr>\n      <th>3</th>\n      <td>VenusaurMega Venusaur</td>\n      <td>Grass</td>\n      <td>Poison</td>\n      <td>80</td>\n      <td>100</td>\n      <td>123</td>\n      <td>122</td>\n      <td>120</td>\n      <td>80</td>\n      <td>1</td>\n      <td>False</td>\n    </tr>\n    <tr>\n      <th>6</th>\n      <td>CharizardMega Charizard X</td>\n      <td>Fire</td>\n      <td>Dragon</td>\n      <td>78</td>\n      <td>130</td>\n      <td>111</td>\n      <td>130</td>\n      <td>85</td>\n      <td>100</td>\n      <td>1</td>\n      <td>False</td>\n    </tr>\n    <tr>\n      <th>9</th>\n      <td>BlastoiseMega Blastoise</td>\n      <td>Water</td>\n      <td>NaN</td>\n      <td>79</td>\n      <td>103</td>\n      <td>120</td>\n      <td>135</td>\n      <td>115</td>\n      <td>78</td>\n      <td>1</td>\n      <td>False</td>\n    </tr>\n    <tr>\n      <th>28</th>\n      <td>Sandslash</td>\n      <td>Ground</td>\n      <td>NaN</td>\n      <td>75</td>\n      <td>100</td>\n      <td>110</td>\n      <td>45</td>\n      <td>55</td>\n      <td>65</td>\n      <td>1</td>\n      <td>False</td>\n    </tr>\n    <tr>\n      <th>76</th>\n      <td>Golem</td>\n      <td>Rock</td>\n      <td>Ground</td>\n      <td>80</td>\n      <td>120</td>\n      <td>130</td>\n      <td>55</td>\n      <td>65</td>\n      <td>45</td>\n      <td>1</td>\n      <td>False</td>\n    </tr>\n  </tbody>\n</table>\n</div>"
     },
     "metadata": {},
     "execution_count": 131
    }
   ],
   "source": [
    "two_abilities_only = pokedf.loc[ability_filt]\n",
    "two_abilities_only.head()\n",
    "#T10_two_abilities_only = two_abilities_only.largest( 10 ,)"
   ]
  },
  {
   "cell_type": "code",
   "execution_count": 132,
   "metadata": {},
   "outputs": [
    {
     "output_type": "execute_result",
     "data": {
      "text/plain": [
       "                          Name    Type 1  Type 2   HP  Attack  Defense  \\\n",
       "#                                                                        \n",
       "1                    Bulbasaur     Grass  Poison   45      49       49   \n",
       "2                      Ivysaur     Grass  Poison   60      62       63   \n",
       "3                     Venusaur     Grass  Poison   80      82       83   \n",
       "3        VenusaurMega Venusaur     Grass  Poison   80     100      123   \n",
       "4                   Charmander      Fire     NaN   39      52       43   \n",
       "5                   Charmeleon      Fire     NaN   58      64       58   \n",
       "6                    Charizard      Fire  Flying   78      84       78   \n",
       "6    CharizardMega Charizard X      Fire  Dragon   78     130      111   \n",
       "6    CharizardMega Charizard Y      Fire  Flying   78     104       78   \n",
       "7                     Squirtle     Water     NaN   44      48       65   \n",
       "8                    Wartortle     Water     NaN   59      63       80   \n",
       "9                    Blastoise     Water     NaN   79      83      100   \n",
       "9      BlastoiseMega Blastoise     Water     NaN   79     103      120   \n",
       "10                    Caterpie       Bug     NaN   45      30       35   \n",
       "11                     Metapod       Bug     NaN   50      20       55   \n",
       "12                  Butterfree       Bug  Flying   60      45       50   \n",
       "13                      Weedle       Bug  Poison   40      35       30   \n",
       "14                      Kakuna       Bug  Poison   45      25       50   \n",
       "15                    Beedrill       Bug  Poison   65      90       40   \n",
       "15       BeedrillMega Beedrill       Bug  Poison   65     150       40   \n",
       "16                      Pidgey    Normal  Flying   40      45       40   \n",
       "17                   Pidgeotto    Normal  Flying   63      60       55   \n",
       "18                     Pidgeot    Normal  Flying   83      80       75   \n",
       "18         PidgeotMega Pidgeot    Normal  Flying   83      80       80   \n",
       "19                     Rattata    Normal     NaN   30      56       35   \n",
       "20                    Raticate    Normal     NaN   55      81       60   \n",
       "21                     Spearow    Normal  Flying   40      60       30   \n",
       "22                      Fearow    Normal  Flying   65      90       65   \n",
       "23                       Ekans    Poison     NaN   35      60       44   \n",
       "24                       Arbok    Poison     NaN   60      85       69   \n",
       "..                         ...       ...     ...  ...     ...      ...   \n",
       "692                  Clauncher     Water     NaN   50      53       62   \n",
       "693                  Clawitzer     Water     NaN   71      73       88   \n",
       "694                 Helioptile  Electric  Normal   44      38       33   \n",
       "695                  Heliolisk  Electric  Normal   62      55       52   \n",
       "696                     Tyrunt      Rock  Dragon   58      89       77   \n",
       "697                  Tyrantrum      Rock  Dragon   82     121      119   \n",
       "698                     Amaura      Rock     Ice   77      59       50   \n",
       "699                    Aurorus      Rock     Ice  123      77       72   \n",
       "700                    Sylveon     Fairy     NaN   95      65       65   \n",
       "701                   Hawlucha  Fighting  Flying   78      92       75   \n",
       "702                    Dedenne  Electric   Fairy   67      58       57   \n",
       "703                    Carbink      Rock   Fairy   50      50      150   \n",
       "704                      Goomy    Dragon     NaN   45      50       35   \n",
       "705                    Sliggoo    Dragon     NaN   68      75       53   \n",
       "706                     Goodra    Dragon     NaN   90     100       70   \n",
       "707                     Klefki     Steel   Fairy   57      80       91   \n",
       "708                   Phantump     Ghost   Grass   43      70       48   \n",
       "709                  Trevenant     Ghost   Grass   85     110       76   \n",
       "710      PumpkabooAverage Size     Ghost   Grass   49      66       70   \n",
       "710        PumpkabooSmall Size     Ghost   Grass   44      66       70   \n",
       "710        PumpkabooLarge Size     Ghost   Grass   54      66       70   \n",
       "710        PumpkabooSuper Size     Ghost   Grass   59      66       70   \n",
       "711      GourgeistAverage Size     Ghost   Grass   65      90      122   \n",
       "711        GourgeistSmall Size     Ghost   Grass   55      85      122   \n",
       "711        GourgeistLarge Size     Ghost   Grass   75      95      122   \n",
       "711        GourgeistSuper Size     Ghost   Grass   85     100      122   \n",
       "712                   Bergmite       Ice     NaN   55      69       85   \n",
       "713                    Avalugg       Ice     NaN   95     117      184   \n",
       "714                     Noibat    Flying  Dragon   40      30       35   \n",
       "715                    Noivern    Flying  Dragon   85      70       80   \n",
       "\n",
       "     Sp. Atk  Sp. Def  Speed  Generation  Legendary  \n",
       "#                                                    \n",
       "1         65       65     45           1      False  \n",
       "2         80       80     60           1      False  \n",
       "3        100      100     80           1      False  \n",
       "3        122      120     80           1      False  \n",
       "4         60       50     65           1      False  \n",
       "5         80       65     80           1      False  \n",
       "6        109       85    100           1      False  \n",
       "6        130       85    100           1      False  \n",
       "6        159      115    100           1      False  \n",
       "7         50       64     43           1      False  \n",
       "8         65       80     58           1      False  \n",
       "9         85      105     78           1      False  \n",
       "9        135      115     78           1      False  \n",
       "10        20       20     45           1      False  \n",
       "11        25       25     30           1      False  \n",
       "12        90       80     70           1      False  \n",
       "13        20       20     50           1      False  \n",
       "14        25       25     35           1      False  \n",
       "15        45       80     75           1      False  \n",
       "15        15       80    145           1      False  \n",
       "16        35       35     56           1      False  \n",
       "17        50       50     71           1      False  \n",
       "18        70       70    101           1      False  \n",
       "18       135       80    121           1      False  \n",
       "19        25       35     72           1      False  \n",
       "20        50       70     97           1      False  \n",
       "21        31       31     70           1      False  \n",
       "22        61       61    100           1      False  \n",
       "23        40       54     55           1      False  \n",
       "24        65       79     80           1      False  \n",
       "..       ...      ...    ...         ...        ...  \n",
       "692       58       63     44           6      False  \n",
       "693      120       89     59           6      False  \n",
       "694       61       43     70           6      False  \n",
       "695      109       94    109           6      False  \n",
       "696       45       45     48           6      False  \n",
       "697       69       59     71           6      False  \n",
       "698       67       63     46           6      False  \n",
       "699       99       92     58           6      False  \n",
       "700      110      130     60           6      False  \n",
       "701       74       63    118           6      False  \n",
       "702       81       67    101           6      False  \n",
       "703       50      150     50           6      False  \n",
       "704       55       75     40           6      False  \n",
       "705       83      113     60           6      False  \n",
       "706      110      150     80           6      False  \n",
       "707       80       87     75           6      False  \n",
       "708       50       60     38           6      False  \n",
       "709       65       82     56           6      False  \n",
       "710       44       55     51           6      False  \n",
       "710       44       55     56           6      False  \n",
       "710       44       55     46           6      False  \n",
       "710       44       55     41           6      False  \n",
       "711       58       75     84           6      False  \n",
       "711       58       75     99           6      False  \n",
       "711       58       75     69           6      False  \n",
       "711       58       75     54           6      False  \n",
       "712       32       35     28           6      False  \n",
       "713       44       46     28           6      False  \n",
       "714       45       40     55           6      False  \n",
       "715       97       80    123           6      False  \n",
       "\n",
       "[735 rows x 11 columns]"
      ],
      "text/html": "<div>\n<style scoped>\n    .dataframe tbody tr th:only-of-type {\n        vertical-align: middle;\n    }\n\n    .dataframe tbody tr th {\n        vertical-align: top;\n    }\n\n    .dataframe thead th {\n        text-align: right;\n    }\n</style>\n<table border=\"1\" class=\"dataframe\">\n  <thead>\n    <tr style=\"text-align: right;\">\n      <th></th>\n      <th>Name</th>\n      <th>Type 1</th>\n      <th>Type 2</th>\n      <th>HP</th>\n      <th>Attack</th>\n      <th>Defense</th>\n      <th>Sp. Atk</th>\n      <th>Sp. Def</th>\n      <th>Speed</th>\n      <th>Generation</th>\n      <th>Legendary</th>\n    </tr>\n    <tr>\n      <th>#</th>\n      <th></th>\n      <th></th>\n      <th></th>\n      <th></th>\n      <th></th>\n      <th></th>\n      <th></th>\n      <th></th>\n      <th></th>\n      <th></th>\n      <th></th>\n    </tr>\n  </thead>\n  <tbody>\n    <tr>\n      <th>1</th>\n      <td>Bulbasaur</td>\n      <td>Grass</td>\n      <td>Poison</td>\n      <td>45</td>\n      <td>49</td>\n      <td>49</td>\n      <td>65</td>\n      <td>65</td>\n      <td>45</td>\n      <td>1</td>\n      <td>False</td>\n    </tr>\n    <tr>\n      <th>2</th>\n      <td>Ivysaur</td>\n      <td>Grass</td>\n      <td>Poison</td>\n      <td>60</td>\n      <td>62</td>\n      <td>63</td>\n      <td>80</td>\n      <td>80</td>\n      <td>60</td>\n      <td>1</td>\n      <td>False</td>\n    </tr>\n    <tr>\n      <th>3</th>\n      <td>Venusaur</td>\n      <td>Grass</td>\n      <td>Poison</td>\n      <td>80</td>\n      <td>82</td>\n      <td>83</td>\n      <td>100</td>\n      <td>100</td>\n      <td>80</td>\n      <td>1</td>\n      <td>False</td>\n    </tr>\n    <tr>\n      <th>3</th>\n      <td>VenusaurMega Venusaur</td>\n      <td>Grass</td>\n      <td>Poison</td>\n      <td>80</td>\n      <td>100</td>\n      <td>123</td>\n      <td>122</td>\n      <td>120</td>\n      <td>80</td>\n      <td>1</td>\n      <td>False</td>\n    </tr>\n    <tr>\n      <th>4</th>\n      <td>Charmander</td>\n      <td>Fire</td>\n      <td>NaN</td>\n      <td>39</td>\n      <td>52</td>\n      <td>43</td>\n      <td>60</td>\n      <td>50</td>\n      <td>65</td>\n      <td>1</td>\n      <td>False</td>\n    </tr>\n    <tr>\n      <th>5</th>\n      <td>Charmeleon</td>\n      <td>Fire</td>\n      <td>NaN</td>\n      <td>58</td>\n      <td>64</td>\n      <td>58</td>\n      <td>80</td>\n      <td>65</td>\n      <td>80</td>\n      <td>1</td>\n      <td>False</td>\n    </tr>\n    <tr>\n      <th>6</th>\n      <td>Charizard</td>\n      <td>Fire</td>\n      <td>Flying</td>\n      <td>78</td>\n      <td>84</td>\n      <td>78</td>\n      <td>109</td>\n      <td>85</td>\n      <td>100</td>\n      <td>1</td>\n      <td>False</td>\n    </tr>\n    <tr>\n      <th>6</th>\n      <td>CharizardMega Charizard X</td>\n      <td>Fire</td>\n      <td>Dragon</td>\n      <td>78</td>\n      <td>130</td>\n      <td>111</td>\n      <td>130</td>\n      <td>85</td>\n      <td>100</td>\n      <td>1</td>\n      <td>False</td>\n    </tr>\n    <tr>\n      <th>6</th>\n      <td>CharizardMega Charizard Y</td>\n      <td>Fire</td>\n      <td>Flying</td>\n      <td>78</td>\n      <td>104</td>\n      <td>78</td>\n      <td>159</td>\n      <td>115</td>\n      <td>100</td>\n      <td>1</td>\n      <td>False</td>\n    </tr>\n    <tr>\n      <th>7</th>\n      <td>Squirtle</td>\n      <td>Water</td>\n      <td>NaN</td>\n      <td>44</td>\n      <td>48</td>\n      <td>65</td>\n      <td>50</td>\n      <td>64</td>\n      <td>43</td>\n      <td>1</td>\n      <td>False</td>\n    </tr>\n    <tr>\n      <th>8</th>\n      <td>Wartortle</td>\n      <td>Water</td>\n      <td>NaN</td>\n      <td>59</td>\n      <td>63</td>\n      <td>80</td>\n      <td>65</td>\n      <td>80</td>\n      <td>58</td>\n      <td>1</td>\n      <td>False</td>\n    </tr>\n    <tr>\n      <th>9</th>\n      <td>Blastoise</td>\n      <td>Water</td>\n      <td>NaN</td>\n      <td>79</td>\n      <td>83</td>\n      <td>100</td>\n      <td>85</td>\n      <td>105</td>\n      <td>78</td>\n      <td>1</td>\n      <td>False</td>\n    </tr>\n    <tr>\n      <th>9</th>\n      <td>BlastoiseMega Blastoise</td>\n      <td>Water</td>\n      <td>NaN</td>\n      <td>79</td>\n      <td>103</td>\n      <td>120</td>\n      <td>135</td>\n      <td>115</td>\n      <td>78</td>\n      <td>1</td>\n      <td>False</td>\n    </tr>\n    <tr>\n      <th>10</th>\n      <td>Caterpie</td>\n      <td>Bug</td>\n      <td>NaN</td>\n      <td>45</td>\n      <td>30</td>\n      <td>35</td>\n      <td>20</td>\n      <td>20</td>\n      <td>45</td>\n      <td>1</td>\n      <td>False</td>\n    </tr>\n    <tr>\n      <th>11</th>\n      <td>Metapod</td>\n      <td>Bug</td>\n      <td>NaN</td>\n      <td>50</td>\n      <td>20</td>\n      <td>55</td>\n      <td>25</td>\n      <td>25</td>\n      <td>30</td>\n      <td>1</td>\n      <td>False</td>\n    </tr>\n    <tr>\n      <th>12</th>\n      <td>Butterfree</td>\n      <td>Bug</td>\n      <td>Flying</td>\n      <td>60</td>\n      <td>45</td>\n      <td>50</td>\n      <td>90</td>\n      <td>80</td>\n      <td>70</td>\n      <td>1</td>\n      <td>False</td>\n    </tr>\n    <tr>\n      <th>13</th>\n      <td>Weedle</td>\n      <td>Bug</td>\n      <td>Poison</td>\n      <td>40</td>\n      <td>35</td>\n      <td>30</td>\n      <td>20</td>\n      <td>20</td>\n      <td>50</td>\n      <td>1</td>\n      <td>False</td>\n    </tr>\n    <tr>\n      <th>14</th>\n      <td>Kakuna</td>\n      <td>Bug</td>\n      <td>Poison</td>\n      <td>45</td>\n      <td>25</td>\n      <td>50</td>\n      <td>25</td>\n      <td>25</td>\n      <td>35</td>\n      <td>1</td>\n      <td>False</td>\n    </tr>\n    <tr>\n      <th>15</th>\n      <td>Beedrill</td>\n      <td>Bug</td>\n      <td>Poison</td>\n      <td>65</td>\n      <td>90</td>\n      <td>40</td>\n      <td>45</td>\n      <td>80</td>\n      <td>75</td>\n      <td>1</td>\n      <td>False</td>\n    </tr>\n    <tr>\n      <th>15</th>\n      <td>BeedrillMega Beedrill</td>\n      <td>Bug</td>\n      <td>Poison</td>\n      <td>65</td>\n      <td>150</td>\n      <td>40</td>\n      <td>15</td>\n      <td>80</td>\n      <td>145</td>\n      <td>1</td>\n      <td>False</td>\n    </tr>\n    <tr>\n      <th>16</th>\n      <td>Pidgey</td>\n      <td>Normal</td>\n      <td>Flying</td>\n      <td>40</td>\n      <td>45</td>\n      <td>40</td>\n      <td>35</td>\n      <td>35</td>\n      <td>56</td>\n      <td>1</td>\n      <td>False</td>\n    </tr>\n    <tr>\n      <th>17</th>\n      <td>Pidgeotto</td>\n      <td>Normal</td>\n      <td>Flying</td>\n      <td>63</td>\n      <td>60</td>\n      <td>55</td>\n      <td>50</td>\n      <td>50</td>\n      <td>71</td>\n      <td>1</td>\n      <td>False</td>\n    </tr>\n    <tr>\n      <th>18</th>\n      <td>Pidgeot</td>\n      <td>Normal</td>\n      <td>Flying</td>\n      <td>83</td>\n      <td>80</td>\n      <td>75</td>\n      <td>70</td>\n      <td>70</td>\n      <td>101</td>\n      <td>1</td>\n      <td>False</td>\n    </tr>\n    <tr>\n      <th>18</th>\n      <td>PidgeotMega Pidgeot</td>\n      <td>Normal</td>\n      <td>Flying</td>\n      <td>83</td>\n      <td>80</td>\n      <td>80</td>\n      <td>135</td>\n      <td>80</td>\n      <td>121</td>\n      <td>1</td>\n      <td>False</td>\n    </tr>\n    <tr>\n      <th>19</th>\n      <td>Rattata</td>\n      <td>Normal</td>\n      <td>NaN</td>\n      <td>30</td>\n      <td>56</td>\n      <td>35</td>\n      <td>25</td>\n      <td>35</td>\n      <td>72</td>\n      <td>1</td>\n      <td>False</td>\n    </tr>\n    <tr>\n      <th>20</th>\n      <td>Raticate</td>\n      <td>Normal</td>\n      <td>NaN</td>\n      <td>55</td>\n      <td>81</td>\n      <td>60</td>\n      <td>50</td>\n      <td>70</td>\n      <td>97</td>\n      <td>1</td>\n      <td>False</td>\n    </tr>\n    <tr>\n      <th>21</th>\n      <td>Spearow</td>\n      <td>Normal</td>\n      <td>Flying</td>\n      <td>40</td>\n      <td>60</td>\n      <td>30</td>\n      <td>31</td>\n      <td>31</td>\n      <td>70</td>\n      <td>1</td>\n      <td>False</td>\n    </tr>\n    <tr>\n      <th>22</th>\n      <td>Fearow</td>\n      <td>Normal</td>\n      <td>Flying</td>\n      <td>65</td>\n      <td>90</td>\n      <td>65</td>\n      <td>61</td>\n      <td>61</td>\n      <td>100</td>\n      <td>1</td>\n      <td>False</td>\n    </tr>\n    <tr>\n      <th>23</th>\n      <td>Ekans</td>\n      <td>Poison</td>\n      <td>NaN</td>\n      <td>35</td>\n      <td>60</td>\n      <td>44</td>\n      <td>40</td>\n      <td>54</td>\n      <td>55</td>\n      <td>1</td>\n      <td>False</td>\n    </tr>\n    <tr>\n      <th>24</th>\n      <td>Arbok</td>\n      <td>Poison</td>\n      <td>NaN</td>\n      <td>60</td>\n      <td>85</td>\n      <td>69</td>\n      <td>65</td>\n      <td>79</td>\n      <td>80</td>\n      <td>1</td>\n      <td>False</td>\n    </tr>\n    <tr>\n      <th>...</th>\n      <td>...</td>\n      <td>...</td>\n      <td>...</td>\n      <td>...</td>\n      <td>...</td>\n      <td>...</td>\n      <td>...</td>\n      <td>...</td>\n      <td>...</td>\n      <td>...</td>\n      <td>...</td>\n    </tr>\n    <tr>\n      <th>692</th>\n      <td>Clauncher</td>\n      <td>Water</td>\n      <td>NaN</td>\n      <td>50</td>\n      <td>53</td>\n      <td>62</td>\n      <td>58</td>\n      <td>63</td>\n      <td>44</td>\n      <td>6</td>\n      <td>False</td>\n    </tr>\n    <tr>\n      <th>693</th>\n      <td>Clawitzer</td>\n      <td>Water</td>\n      <td>NaN</td>\n      <td>71</td>\n      <td>73</td>\n      <td>88</td>\n      <td>120</td>\n      <td>89</td>\n      <td>59</td>\n      <td>6</td>\n      <td>False</td>\n    </tr>\n    <tr>\n      <th>694</th>\n      <td>Helioptile</td>\n      <td>Electric</td>\n      <td>Normal</td>\n      <td>44</td>\n      <td>38</td>\n      <td>33</td>\n      <td>61</td>\n      <td>43</td>\n      <td>70</td>\n      <td>6</td>\n      <td>False</td>\n    </tr>\n    <tr>\n      <th>695</th>\n      <td>Heliolisk</td>\n      <td>Electric</td>\n      <td>Normal</td>\n      <td>62</td>\n      <td>55</td>\n      <td>52</td>\n      <td>109</td>\n      <td>94</td>\n      <td>109</td>\n      <td>6</td>\n      <td>False</td>\n    </tr>\n    <tr>\n      <th>696</th>\n      <td>Tyrunt</td>\n      <td>Rock</td>\n      <td>Dragon</td>\n      <td>58</td>\n      <td>89</td>\n      <td>77</td>\n      <td>45</td>\n      <td>45</td>\n      <td>48</td>\n      <td>6</td>\n      <td>False</td>\n    </tr>\n    <tr>\n      <th>697</th>\n      <td>Tyrantrum</td>\n      <td>Rock</td>\n      <td>Dragon</td>\n      <td>82</td>\n      <td>121</td>\n      <td>119</td>\n      <td>69</td>\n      <td>59</td>\n      <td>71</td>\n      <td>6</td>\n      <td>False</td>\n    </tr>\n    <tr>\n      <th>698</th>\n      <td>Amaura</td>\n      <td>Rock</td>\n      <td>Ice</td>\n      <td>77</td>\n      <td>59</td>\n      <td>50</td>\n      <td>67</td>\n      <td>63</td>\n      <td>46</td>\n      <td>6</td>\n      <td>False</td>\n    </tr>\n    <tr>\n      <th>699</th>\n      <td>Aurorus</td>\n      <td>Rock</td>\n      <td>Ice</td>\n      <td>123</td>\n      <td>77</td>\n      <td>72</td>\n      <td>99</td>\n      <td>92</td>\n      <td>58</td>\n      <td>6</td>\n      <td>False</td>\n    </tr>\n    <tr>\n      <th>700</th>\n      <td>Sylveon</td>\n      <td>Fairy</td>\n      <td>NaN</td>\n      <td>95</td>\n      <td>65</td>\n      <td>65</td>\n      <td>110</td>\n      <td>130</td>\n      <td>60</td>\n      <td>6</td>\n      <td>False</td>\n    </tr>\n    <tr>\n      <th>701</th>\n      <td>Hawlucha</td>\n      <td>Fighting</td>\n      <td>Flying</td>\n      <td>78</td>\n      <td>92</td>\n      <td>75</td>\n      <td>74</td>\n      <td>63</td>\n      <td>118</td>\n      <td>6</td>\n      <td>False</td>\n    </tr>\n    <tr>\n      <th>702</th>\n      <td>Dedenne</td>\n      <td>Electric</td>\n      <td>Fairy</td>\n      <td>67</td>\n      <td>58</td>\n      <td>57</td>\n      <td>81</td>\n      <td>67</td>\n      <td>101</td>\n      <td>6</td>\n      <td>False</td>\n    </tr>\n    <tr>\n      <th>703</th>\n      <td>Carbink</td>\n      <td>Rock</td>\n      <td>Fairy</td>\n      <td>50</td>\n      <td>50</td>\n      <td>150</td>\n      <td>50</td>\n      <td>150</td>\n      <td>50</td>\n      <td>6</td>\n      <td>False</td>\n    </tr>\n    <tr>\n      <th>704</th>\n      <td>Goomy</td>\n      <td>Dragon</td>\n      <td>NaN</td>\n      <td>45</td>\n      <td>50</td>\n      <td>35</td>\n      <td>55</td>\n      <td>75</td>\n      <td>40</td>\n      <td>6</td>\n      <td>False</td>\n    </tr>\n    <tr>\n      <th>705</th>\n      <td>Sliggoo</td>\n      <td>Dragon</td>\n      <td>NaN</td>\n      <td>68</td>\n      <td>75</td>\n      <td>53</td>\n      <td>83</td>\n      <td>113</td>\n      <td>60</td>\n      <td>6</td>\n      <td>False</td>\n    </tr>\n    <tr>\n      <th>706</th>\n      <td>Goodra</td>\n      <td>Dragon</td>\n      <td>NaN</td>\n      <td>90</td>\n      <td>100</td>\n      <td>70</td>\n      <td>110</td>\n      <td>150</td>\n      <td>80</td>\n      <td>6</td>\n      <td>False</td>\n    </tr>\n    <tr>\n      <th>707</th>\n      <td>Klefki</td>\n      <td>Steel</td>\n      <td>Fairy</td>\n      <td>57</td>\n      <td>80</td>\n      <td>91</td>\n      <td>80</td>\n      <td>87</td>\n      <td>75</td>\n      <td>6</td>\n      <td>False</td>\n    </tr>\n    <tr>\n      <th>708</th>\n      <td>Phantump</td>\n      <td>Ghost</td>\n      <td>Grass</td>\n      <td>43</td>\n      <td>70</td>\n      <td>48</td>\n      <td>50</td>\n      <td>60</td>\n      <td>38</td>\n      <td>6</td>\n      <td>False</td>\n    </tr>\n    <tr>\n      <th>709</th>\n      <td>Trevenant</td>\n      <td>Ghost</td>\n      <td>Grass</td>\n      <td>85</td>\n      <td>110</td>\n      <td>76</td>\n      <td>65</td>\n      <td>82</td>\n      <td>56</td>\n      <td>6</td>\n      <td>False</td>\n    </tr>\n    <tr>\n      <th>710</th>\n      <td>PumpkabooAverage Size</td>\n      <td>Ghost</td>\n      <td>Grass</td>\n      <td>49</td>\n      <td>66</td>\n      <td>70</td>\n      <td>44</td>\n      <td>55</td>\n      <td>51</td>\n      <td>6</td>\n      <td>False</td>\n    </tr>\n    <tr>\n      <th>710</th>\n      <td>PumpkabooSmall Size</td>\n      <td>Ghost</td>\n      <td>Grass</td>\n      <td>44</td>\n      <td>66</td>\n      <td>70</td>\n      <td>44</td>\n      <td>55</td>\n      <td>56</td>\n      <td>6</td>\n      <td>False</td>\n    </tr>\n    <tr>\n      <th>710</th>\n      <td>PumpkabooLarge Size</td>\n      <td>Ghost</td>\n      <td>Grass</td>\n      <td>54</td>\n      <td>66</td>\n      <td>70</td>\n      <td>44</td>\n      <td>55</td>\n      <td>46</td>\n      <td>6</td>\n      <td>False</td>\n    </tr>\n    <tr>\n      <th>710</th>\n      <td>PumpkabooSuper Size</td>\n      <td>Ghost</td>\n      <td>Grass</td>\n      <td>59</td>\n      <td>66</td>\n      <td>70</td>\n      <td>44</td>\n      <td>55</td>\n      <td>41</td>\n      <td>6</td>\n      <td>False</td>\n    </tr>\n    <tr>\n      <th>711</th>\n      <td>GourgeistAverage Size</td>\n      <td>Ghost</td>\n      <td>Grass</td>\n      <td>65</td>\n      <td>90</td>\n      <td>122</td>\n      <td>58</td>\n      <td>75</td>\n      <td>84</td>\n      <td>6</td>\n      <td>False</td>\n    </tr>\n    <tr>\n      <th>711</th>\n      <td>GourgeistSmall Size</td>\n      <td>Ghost</td>\n      <td>Grass</td>\n      <td>55</td>\n      <td>85</td>\n      <td>122</td>\n      <td>58</td>\n      <td>75</td>\n      <td>99</td>\n      <td>6</td>\n      <td>False</td>\n    </tr>\n    <tr>\n      <th>711</th>\n      <td>GourgeistLarge Size</td>\n      <td>Ghost</td>\n      <td>Grass</td>\n      <td>75</td>\n      <td>95</td>\n      <td>122</td>\n      <td>58</td>\n      <td>75</td>\n      <td>69</td>\n      <td>6</td>\n      <td>False</td>\n    </tr>\n    <tr>\n      <th>711</th>\n      <td>GourgeistSuper Size</td>\n      <td>Ghost</td>\n      <td>Grass</td>\n      <td>85</td>\n      <td>100</td>\n      <td>122</td>\n      <td>58</td>\n      <td>75</td>\n      <td>54</td>\n      <td>6</td>\n      <td>False</td>\n    </tr>\n    <tr>\n      <th>712</th>\n      <td>Bergmite</td>\n      <td>Ice</td>\n      <td>NaN</td>\n      <td>55</td>\n      <td>69</td>\n      <td>85</td>\n      <td>32</td>\n      <td>35</td>\n      <td>28</td>\n      <td>6</td>\n      <td>False</td>\n    </tr>\n    <tr>\n      <th>713</th>\n      <td>Avalugg</td>\n      <td>Ice</td>\n      <td>NaN</td>\n      <td>95</td>\n      <td>117</td>\n      <td>184</td>\n      <td>44</td>\n      <td>46</td>\n      <td>28</td>\n      <td>6</td>\n      <td>False</td>\n    </tr>\n    <tr>\n      <th>714</th>\n      <td>Noibat</td>\n      <td>Flying</td>\n      <td>Dragon</td>\n      <td>40</td>\n      <td>30</td>\n      <td>35</td>\n      <td>45</td>\n      <td>40</td>\n      <td>55</td>\n      <td>6</td>\n      <td>False</td>\n    </tr>\n    <tr>\n      <th>715</th>\n      <td>Noivern</td>\n      <td>Flying</td>\n      <td>Dragon</td>\n      <td>85</td>\n      <td>70</td>\n      <td>80</td>\n      <td>97</td>\n      <td>80</td>\n      <td>123</td>\n      <td>6</td>\n      <td>False</td>\n    </tr>\n  </tbody>\n</table>\n<p>735 rows × 11 columns</p>\n</div>"
     },
     "metadata": {},
     "execution_count": 132
    }
   ],
   "source": [
    "non_legend_only = pokedf.loc[legend_filt]\n",
    "non_legend_only"
   ]
  },
  {
   "cell_type": "code",
   "execution_count": 133,
   "metadata": {},
   "outputs": [
    {
     "output_type": "execute_result",
     "data": {
      "text/plain": [
       "                          Name   Type 1  Type 2   HP  Attack  Defense  \\\n",
       "#                                                                       \n",
       "6    CharizardMega Charizard X     Fire  Dragon   78     130      111   \n",
       "151                        Mew  Psychic     NaN  100     100      100   \n",
       "251                     Celebi  Psychic   Grass  100     100      100   \n",
       "490                    Manaphy    Water     NaN  100     100      100   \n",
       "\n",
       "     Sp. Atk  Sp. Def  Speed  Generation  Legendary  \n",
       "#                                                    \n",
       "6        130       85    100           1      False  \n",
       "151      100      100    100           1      False  \n",
       "251      100      100    100           2      False  \n",
       "490      100      100    100           4      False  "
      ],
      "text/html": "<div>\n<style scoped>\n    .dataframe tbody tr th:only-of-type {\n        vertical-align: middle;\n    }\n\n    .dataframe tbody tr th {\n        vertical-align: top;\n    }\n\n    .dataframe thead th {\n        text-align: right;\n    }\n</style>\n<table border=\"1\" class=\"dataframe\">\n  <thead>\n    <tr style=\"text-align: right;\">\n      <th></th>\n      <th>Name</th>\n      <th>Type 1</th>\n      <th>Type 2</th>\n      <th>HP</th>\n      <th>Attack</th>\n      <th>Defense</th>\n      <th>Sp. Atk</th>\n      <th>Sp. Def</th>\n      <th>Speed</th>\n      <th>Generation</th>\n      <th>Legendary</th>\n    </tr>\n    <tr>\n      <th>#</th>\n      <th></th>\n      <th></th>\n      <th></th>\n      <th></th>\n      <th></th>\n      <th></th>\n      <th></th>\n      <th></th>\n      <th></th>\n      <th></th>\n      <th></th>\n    </tr>\n  </thead>\n  <tbody>\n    <tr>\n      <th>6</th>\n      <td>CharizardMega Charizard X</td>\n      <td>Fire</td>\n      <td>Dragon</td>\n      <td>78</td>\n      <td>130</td>\n      <td>111</td>\n      <td>130</td>\n      <td>85</td>\n      <td>100</td>\n      <td>1</td>\n      <td>False</td>\n    </tr>\n    <tr>\n      <th>151</th>\n      <td>Mew</td>\n      <td>Psychic</td>\n      <td>NaN</td>\n      <td>100</td>\n      <td>100</td>\n      <td>100</td>\n      <td>100</td>\n      <td>100</td>\n      <td>100</td>\n      <td>1</td>\n      <td>False</td>\n    </tr>\n    <tr>\n      <th>251</th>\n      <td>Celebi</td>\n      <td>Psychic</td>\n      <td>Grass</td>\n      <td>100</td>\n      <td>100</td>\n      <td>100</td>\n      <td>100</td>\n      <td>100</td>\n      <td>100</td>\n      <td>2</td>\n      <td>False</td>\n    </tr>\n    <tr>\n      <th>490</th>\n      <td>Manaphy</td>\n      <td>Water</td>\n      <td>NaN</td>\n      <td>100</td>\n      <td>100</td>\n      <td>100</td>\n      <td>100</td>\n      <td>100</td>\n      <td>100</td>\n      <td>4</td>\n      <td>False</td>\n    </tr>\n  </tbody>\n</table>\n</div>"
     },
     "metadata": {},
     "execution_count": 133
    }
   ],
   "source": [
    "#Q1.) top10 -- type1: fire,water,psychic,fire,grass,electric,ground -- generation: 1,2,3,4,5 -- non legendary -- attack >=100 -- defense>=100 -- HP > 60 -- speed > 100\n",
    "subset=['Fire','Water','Ground','Electric','Grass','Psychic']\n",
    "gensubset=['1','2','3','4','5']\n",
    "ultra_filt_one= (pokedf['Type 1'].isin(subset) ) & (pokedf['Generation'].isin(gensubset)) & (pokedf['Legendary'] == False) & (pokedf['Attack'] >= 100) & (pokedf['Defense'] >= 100) & (pokedf['HP'] >= 60) & (pokedf['Speed'] >= 100)\n",
    "pokedf.loc[ultra_filt_one]"
   ]
  },
  {
   "cell_type": "code",
   "execution_count": 134,
   "metadata": {},
   "outputs": [],
   "source": [
    "Q1df = pokedf.loc[ultra_filt_one]\n",
    "Q1df.to_csv('D:\\DataAnalysis\\Q1df.csv')"
   ]
  },
  {
   "cell_type": "code",
   "execution_count": 142,
   "metadata": {},
   "outputs": [
    {
     "output_type": "execute_result",
     "data": {
      "text/plain": [
       "array([1, 2, 3, 4, 5, 6], dtype=int64)"
      ]
     },
     "metadata": {},
     "execution_count": 142
    }
   ],
   "source": [
    "pokedf['Generation'].unique()"
   ]
  },
  {
   "cell_type": "code",
   "execution_count": 151,
   "metadata": {},
   "outputs": [],
   "source": [
    "#Q2: compare strongest non-legendary poke fire & water -- type1: fire,water -- type2: any -- gen: 1,2\n",
    "t1set=['Fire','Water']\n",
    "genset=['1','2','3']\n",
    "pokedf['strongness']=pokedf[['Attack','Defense','HP','Sp. Atk','Sp. Def','Speed']].mean(axis=1)\n",
    "#ultra_filt_q2 = "
   ]
  },
  {
   "cell_type": "code",
   "execution_count": 152,
   "metadata": {},
   "outputs": [
    {
     "output_type": "execute_result",
     "data": {
      "text/plain": [
       "                    Name Type 1  Type 2  HP  Attack  Defense  Sp. Atk  \\\n",
       "#                                                                       \n",
       "1              Bulbasaur  Grass  Poison  45      49       49       65   \n",
       "2                Ivysaur  Grass  Poison  60      62       63       80   \n",
       "3               Venusaur  Grass  Poison  80      82       83      100   \n",
       "3  VenusaurMega Venusaur  Grass  Poison  80     100      123      122   \n",
       "4             Charmander   Fire     NaN  39      52       43       60   \n",
       "\n",
       "   Sp. Def  Speed  Generation  Legendary  strongness  \n",
       "#                                                     \n",
       "1       65     45           1      False   53.000000  \n",
       "2       80     60           1      False   67.500000  \n",
       "3      100     80           1      False   87.500000  \n",
       "3      120     80           1      False  104.166667  \n",
       "4       50     65           1      False   51.500000  "
      ],
      "text/html": "<div>\n<style scoped>\n    .dataframe tbody tr th:only-of-type {\n        vertical-align: middle;\n    }\n\n    .dataframe tbody tr th {\n        vertical-align: top;\n    }\n\n    .dataframe thead th {\n        text-align: right;\n    }\n</style>\n<table border=\"1\" class=\"dataframe\">\n  <thead>\n    <tr style=\"text-align: right;\">\n      <th></th>\n      <th>Name</th>\n      <th>Type 1</th>\n      <th>Type 2</th>\n      <th>HP</th>\n      <th>Attack</th>\n      <th>Defense</th>\n      <th>Sp. Atk</th>\n      <th>Sp. Def</th>\n      <th>Speed</th>\n      <th>Generation</th>\n      <th>Legendary</th>\n      <th>strongness</th>\n    </tr>\n    <tr>\n      <th>#</th>\n      <th></th>\n      <th></th>\n      <th></th>\n      <th></th>\n      <th></th>\n      <th></th>\n      <th></th>\n      <th></th>\n      <th></th>\n      <th></th>\n      <th></th>\n      <th></th>\n    </tr>\n  </thead>\n  <tbody>\n    <tr>\n      <th>1</th>\n      <td>Bulbasaur</td>\n      <td>Grass</td>\n      <td>Poison</td>\n      <td>45</td>\n      <td>49</td>\n      <td>49</td>\n      <td>65</td>\n      <td>65</td>\n      <td>45</td>\n      <td>1</td>\n      <td>False</td>\n      <td>53.000000</td>\n    </tr>\n    <tr>\n      <th>2</th>\n      <td>Ivysaur</td>\n      <td>Grass</td>\n      <td>Poison</td>\n      <td>60</td>\n      <td>62</td>\n      <td>63</td>\n      <td>80</td>\n      <td>80</td>\n      <td>60</td>\n      <td>1</td>\n      <td>False</td>\n      <td>67.500000</td>\n    </tr>\n    <tr>\n      <th>3</th>\n      <td>Venusaur</td>\n      <td>Grass</td>\n      <td>Poison</td>\n      <td>80</td>\n      <td>82</td>\n      <td>83</td>\n      <td>100</td>\n      <td>100</td>\n      <td>80</td>\n      <td>1</td>\n      <td>False</td>\n      <td>87.500000</td>\n    </tr>\n    <tr>\n      <th>3</th>\n      <td>VenusaurMega Venusaur</td>\n      <td>Grass</td>\n      <td>Poison</td>\n      <td>80</td>\n      <td>100</td>\n      <td>123</td>\n      <td>122</td>\n      <td>120</td>\n      <td>80</td>\n      <td>1</td>\n      <td>False</td>\n      <td>104.166667</td>\n    </tr>\n    <tr>\n      <th>4</th>\n      <td>Charmander</td>\n      <td>Fire</td>\n      <td>NaN</td>\n      <td>39</td>\n      <td>52</td>\n      <td>43</td>\n      <td>60</td>\n      <td>50</td>\n      <td>65</td>\n      <td>1</td>\n      <td>False</td>\n      <td>51.500000</td>\n    </tr>\n  </tbody>\n</table>\n</div>"
     },
     "metadata": {},
     "execution_count": 152
    }
   ],
   "source": [
    "pokedf.head()"
   ]
  },
  {
   "cell_type": "code",
   "execution_count": 153,
   "metadata": {},
   "outputs": [
    {
     "output_type": "execute_result",
     "data": {
      "text/plain": [
       "                        Name Type 1  Type 2  HP  Attack  Defense  Sp. Atk  \\\n",
       "#                                                                           \n",
       "4                 Charmander   Fire     NaN  39      52       43       60   \n",
       "5                 Charmeleon   Fire     NaN  58      64       58       80   \n",
       "6                  Charizard   Fire  Flying  78      84       78      109   \n",
       "6  CharizardMega Charizard X   Fire  Dragon  78     130      111      130   \n",
       "6  CharizardMega Charizard Y   Fire  Flying  78     104       78      159   \n",
       "\n",
       "   Sp. Def  Speed  Generation  Legendary  strongness  \n",
       "#                                                     \n",
       "4       50     65           1      False   51.500000  \n",
       "5       65     80           1      False   67.500000  \n",
       "6       85    100           1      False   89.000000  \n",
       "6       85    100           1      False  105.666667  \n",
       "6      115    100           1      False  105.666667  "
      ],
      "text/html": "<div>\n<style scoped>\n    .dataframe tbody tr th:only-of-type {\n        vertical-align: middle;\n    }\n\n    .dataframe tbody tr th {\n        vertical-align: top;\n    }\n\n    .dataframe thead th {\n        text-align: right;\n    }\n</style>\n<table border=\"1\" class=\"dataframe\">\n  <thead>\n    <tr style=\"text-align: right;\">\n      <th></th>\n      <th>Name</th>\n      <th>Type 1</th>\n      <th>Type 2</th>\n      <th>HP</th>\n      <th>Attack</th>\n      <th>Defense</th>\n      <th>Sp. Atk</th>\n      <th>Sp. Def</th>\n      <th>Speed</th>\n      <th>Generation</th>\n      <th>Legendary</th>\n      <th>strongness</th>\n    </tr>\n    <tr>\n      <th>#</th>\n      <th></th>\n      <th></th>\n      <th></th>\n      <th></th>\n      <th></th>\n      <th></th>\n      <th></th>\n      <th></th>\n      <th></th>\n      <th></th>\n      <th></th>\n      <th></th>\n    </tr>\n  </thead>\n  <tbody>\n    <tr>\n      <th>4</th>\n      <td>Charmander</td>\n      <td>Fire</td>\n      <td>NaN</td>\n      <td>39</td>\n      <td>52</td>\n      <td>43</td>\n      <td>60</td>\n      <td>50</td>\n      <td>65</td>\n      <td>1</td>\n      <td>False</td>\n      <td>51.500000</td>\n    </tr>\n    <tr>\n      <th>5</th>\n      <td>Charmeleon</td>\n      <td>Fire</td>\n      <td>NaN</td>\n      <td>58</td>\n      <td>64</td>\n      <td>58</td>\n      <td>80</td>\n      <td>65</td>\n      <td>80</td>\n      <td>1</td>\n      <td>False</td>\n      <td>67.500000</td>\n    </tr>\n    <tr>\n      <th>6</th>\n      <td>Charizard</td>\n      <td>Fire</td>\n      <td>Flying</td>\n      <td>78</td>\n      <td>84</td>\n      <td>78</td>\n      <td>109</td>\n      <td>85</td>\n      <td>100</td>\n      <td>1</td>\n      <td>False</td>\n      <td>89.000000</td>\n    </tr>\n    <tr>\n      <th>6</th>\n      <td>CharizardMega Charizard X</td>\n      <td>Fire</td>\n      <td>Dragon</td>\n      <td>78</td>\n      <td>130</td>\n      <td>111</td>\n      <td>130</td>\n      <td>85</td>\n      <td>100</td>\n      <td>1</td>\n      <td>False</td>\n      <td>105.666667</td>\n    </tr>\n    <tr>\n      <th>6</th>\n      <td>CharizardMega Charizard Y</td>\n      <td>Fire</td>\n      <td>Flying</td>\n      <td>78</td>\n      <td>104</td>\n      <td>78</td>\n      <td>159</td>\n      <td>115</td>\n      <td>100</td>\n      <td>1</td>\n      <td>False</td>\n      <td>105.666667</td>\n    </tr>\n  </tbody>\n</table>\n</div>"
     },
     "metadata": {},
     "execution_count": 153
    }
   ],
   "source": [
    "ultra_filt_q2= (pokedf['Type 1'].isin(t1set)) & (pokedf['Generation'].isin(genset)) \n",
    "pokedf[ultra_filt_q2].head()"
   ]
  },
  {
   "cell_type": "code",
   "execution_count": 164,
   "metadata": {},
   "outputs": [
    {
     "output_type": "execute_result",
     "data": {
      "text/plain": [
       "                          Name Type 1    Type 2   HP  Attack  Defense  \\\n",
       "#                                                                       \n",
       "4                   Charmander   Fire       NaN   39      52       43   \n",
       "5                   Charmeleon   Fire       NaN   58      64       58   \n",
       "6                    Charizard   Fire    Flying   78      84       78   \n",
       "6    CharizardMega Charizard X   Fire    Dragon   78     130      111   \n",
       "6    CharizardMega Charizard Y   Fire    Flying   78     104       78   \n",
       "7                     Squirtle  Water       NaN   44      48       65   \n",
       "8                    Wartortle  Water       NaN   59      63       80   \n",
       "9                    Blastoise  Water       NaN   79      83      100   \n",
       "9      BlastoiseMega Blastoise  Water       NaN   79     103      120   \n",
       "37                      Vulpix   Fire       NaN   38      41       40   \n",
       "38                   Ninetales   Fire       NaN   73      76       75   \n",
       "54                     Psyduck  Water       NaN   50      52       48   \n",
       "55                     Golduck  Water       NaN   80      82       78   \n",
       "58                   Growlithe   Fire       NaN   55      70       45   \n",
       "59                    Arcanine   Fire       NaN   90     110       80   \n",
       "60                     Poliwag  Water       NaN   40      50       40   \n",
       "61                   Poliwhirl  Water       NaN   65      65       65   \n",
       "62                   Poliwrath  Water  Fighting   90      95       95   \n",
       "72                   Tentacool  Water    Poison   40      40       35   \n",
       "73                  Tentacruel  Water    Poison   80      70       65   \n",
       "77                      Ponyta   Fire       NaN   50      85       55   \n",
       "78                    Rapidash   Fire       NaN   65     100       70   \n",
       "79                    Slowpoke  Water   Psychic   90      65       65   \n",
       "80                     Slowbro  Water   Psychic   95      75      110   \n",
       "80         SlowbroMega Slowbro  Water   Psychic   95      75      180   \n",
       "86                        Seel  Water       NaN   65      45       55   \n",
       "87                     Dewgong  Water       Ice   90      70       80   \n",
       "90                    Shellder  Water       NaN   30      65      100   \n",
       "91                    Cloyster  Water       Ice   50      95      180   \n",
       "98                      Krabby  Water       NaN   30     105       90   \n",
       "..                         ...    ...       ...  ...     ...      ...   \n",
       "259                  Marshtomp  Water    Ground   70      85       70   \n",
       "260                   Swampert  Water    Ground  100     110       90   \n",
       "260      SwampertMega Swampert  Water    Ground  100     150      110   \n",
       "270                      Lotad  Water     Grass   40      30       30   \n",
       "271                     Lombre  Water     Grass   60      50       50   \n",
       "272                   Ludicolo  Water     Grass   80      70       70   \n",
       "278                    Wingull  Water    Flying   40      30       30   \n",
       "279                   Pelipper  Water    Flying   60      50      100   \n",
       "318                   Carvanha  Water      Dark   45      90       20   \n",
       "319                   Sharpedo  Water      Dark   70     120       40   \n",
       "319      SharpedoMega Sharpedo  Water      Dark   70     140       70   \n",
       "320                    Wailmer  Water       NaN  130      70       35   \n",
       "321                    Wailord  Water       NaN  170      90       45   \n",
       "322                      Numel   Fire    Ground   60      60       40   \n",
       "323                   Camerupt   Fire    Ground   70     100       70   \n",
       "323      CameruptMega Camerupt   Fire    Ground   70     120      100   \n",
       "324                    Torkoal   Fire       NaN   70      85      140   \n",
       "339                   Barboach  Water    Ground   50      48       43   \n",
       "340                   Whiscash  Water    Ground  110      78       73   \n",
       "341                   Corphish  Water       NaN   43      80       65   \n",
       "342                  Crawdaunt  Water      Dark   63     120       85   \n",
       "349                     Feebas  Water       NaN   20      15       20   \n",
       "350                    Milotic  Water       NaN   95      60       79   \n",
       "366                   Clamperl  Water       NaN   35      64       85   \n",
       "367                    Huntail  Water       NaN   55     104      105   \n",
       "368                   Gorebyss  Water       NaN   55      84      105   \n",
       "369                  Relicanth  Water      Rock  100      90      130   \n",
       "370                    Luvdisc  Water       NaN   43      30       55   \n",
       "382                     Kyogre  Water       NaN  100     100       90   \n",
       "382        KyogrePrimal Kyogre  Water       NaN  100     150       90   \n",
       "\n",
       "     Sp. Atk  Sp. Def  Speed  Generation  Legendary  strongness  \n",
       "#                                                                \n",
       "4         60       50     65           1      False   51.500000  \n",
       "5         80       65     80           1      False   67.500000  \n",
       "6        109       85    100           1      False   89.000000  \n",
       "6        130       85    100           1      False  105.666667  \n",
       "6        159      115    100           1      False  105.666667  \n",
       "7         50       64     43           1      False   52.333333  \n",
       "8         65       80     58           1      False   67.500000  \n",
       "9         85      105     78           1      False   88.333333  \n",
       "9        135      115     78           1      False  105.000000  \n",
       "37        50       65     65           1      False   49.833333  \n",
       "38        81      100    100           1      False   84.166667  \n",
       "54        65       50     55           1      False   53.333333  \n",
       "55        95       80     85           1      False   83.333333  \n",
       "58        70       50     60           1      False   58.333333  \n",
       "59       100       80     95           1      False   92.500000  \n",
       "60        40       40     90           1      False   50.000000  \n",
       "61        50       50     90           1      False   64.166667  \n",
       "62        70       90     70           1      False   85.000000  \n",
       "72        50      100     70           1      False   55.833333  \n",
       "73        80      120    100           1      False   85.833333  \n",
       "77        65       65     90           1      False   68.333333  \n",
       "78        80       80    105           1      False   83.333333  \n",
       "79        40       40     15           1      False   52.500000  \n",
       "80       100       80     30           1      False   81.666667  \n",
       "80       130       80     30           1      False   98.333333  \n",
       "86        45       70     45           1      False   54.166667  \n",
       "87        70       95     70           1      False   79.166667  \n",
       "90        45       25     40           1      False   50.833333  \n",
       "91        85       45     70           1      False   87.500000  \n",
       "98        25       25     50           1      False   54.166667  \n",
       "..       ...      ...    ...         ...        ...         ...  \n",
       "259       60       70     50           3      False   67.500000  \n",
       "260       85       90     60           3      False   89.166667  \n",
       "260       95      110     70           3      False  105.833333  \n",
       "270       40       50     30           3      False   36.666667  \n",
       "271       60       70     50           3      False   56.666667  \n",
       "272       90      100     70           3      False   80.000000  \n",
       "278       55       30     85           3      False   45.000000  \n",
       "279       85       70     65           3      False   71.666667  \n",
       "318       65       20     65           3      False   50.833333  \n",
       "319       95       40     95           3      False   76.666667  \n",
       "319      110       65    105           3      False   93.333333  \n",
       "320       70       35     60           3      False   66.666667  \n",
       "321       90       45     60           3      False   83.333333  \n",
       "322       65       45     35           3      False   50.833333  \n",
       "323      105       75     40           3      False   76.666667  \n",
       "323      145      105     20           3      False   93.333333  \n",
       "324       85       70     20           3      False   78.333333  \n",
       "339       46       41     60           3      False   48.000000  \n",
       "340       76       71     60           3      False   78.000000  \n",
       "341       50       35     35           3      False   51.333333  \n",
       "342       90       55     55           3      False   78.000000  \n",
       "349       10       55     80           3      False   33.333333  \n",
       "350      100      125     81           3      False   90.000000  \n",
       "366       74       55     32           3      False   57.500000  \n",
       "367       94       75     52           3      False   80.833333  \n",
       "368      114       75     52           3      False   80.833333  \n",
       "369       45       65     55           3      False   80.833333  \n",
       "370       40       65     97           3      False   55.000000  \n",
       "382      150      140     90           3       True  111.666667  \n",
       "382      180      160     90           3       True  128.333333  \n",
       "\n",
       "[106 rows x 12 columns]"
      ],
      "text/html": "<div>\n<style scoped>\n    .dataframe tbody tr th:only-of-type {\n        vertical-align: middle;\n    }\n\n    .dataframe tbody tr th {\n        vertical-align: top;\n    }\n\n    .dataframe thead th {\n        text-align: right;\n    }\n</style>\n<table border=\"1\" class=\"dataframe\">\n  <thead>\n    <tr style=\"text-align: right;\">\n      <th></th>\n      <th>Name</th>\n      <th>Type 1</th>\n      <th>Type 2</th>\n      <th>HP</th>\n      <th>Attack</th>\n      <th>Defense</th>\n      <th>Sp. Atk</th>\n      <th>Sp. Def</th>\n      <th>Speed</th>\n      <th>Generation</th>\n      <th>Legendary</th>\n      <th>strongness</th>\n    </tr>\n    <tr>\n      <th>#</th>\n      <th></th>\n      <th></th>\n      <th></th>\n      <th></th>\n      <th></th>\n      <th></th>\n      <th></th>\n      <th></th>\n      <th></th>\n      <th></th>\n      <th></th>\n      <th></th>\n    </tr>\n  </thead>\n  <tbody>\n    <tr>\n      <th>4</th>\n      <td>Charmander</td>\n      <td>Fire</td>\n      <td>NaN</td>\n      <td>39</td>\n      <td>52</td>\n      <td>43</td>\n      <td>60</td>\n      <td>50</td>\n      <td>65</td>\n      <td>1</td>\n      <td>False</td>\n      <td>51.500000</td>\n    </tr>\n    <tr>\n      <th>5</th>\n      <td>Charmeleon</td>\n      <td>Fire</td>\n      <td>NaN</td>\n      <td>58</td>\n      <td>64</td>\n      <td>58</td>\n      <td>80</td>\n      <td>65</td>\n      <td>80</td>\n      <td>1</td>\n      <td>False</td>\n      <td>67.500000</td>\n    </tr>\n    <tr>\n      <th>6</th>\n      <td>Charizard</td>\n      <td>Fire</td>\n      <td>Flying</td>\n      <td>78</td>\n      <td>84</td>\n      <td>78</td>\n      <td>109</td>\n      <td>85</td>\n      <td>100</td>\n      <td>1</td>\n      <td>False</td>\n      <td>89.000000</td>\n    </tr>\n    <tr>\n      <th>6</th>\n      <td>CharizardMega Charizard X</td>\n      <td>Fire</td>\n      <td>Dragon</td>\n      <td>78</td>\n      <td>130</td>\n      <td>111</td>\n      <td>130</td>\n      <td>85</td>\n      <td>100</td>\n      <td>1</td>\n      <td>False</td>\n      <td>105.666667</td>\n    </tr>\n    <tr>\n      <th>6</th>\n      <td>CharizardMega Charizard Y</td>\n      <td>Fire</td>\n      <td>Flying</td>\n      <td>78</td>\n      <td>104</td>\n      <td>78</td>\n      <td>159</td>\n      <td>115</td>\n      <td>100</td>\n      <td>1</td>\n      <td>False</td>\n      <td>105.666667</td>\n    </tr>\n    <tr>\n      <th>7</th>\n      <td>Squirtle</td>\n      <td>Water</td>\n      <td>NaN</td>\n      <td>44</td>\n      <td>48</td>\n      <td>65</td>\n      <td>50</td>\n      <td>64</td>\n      <td>43</td>\n      <td>1</td>\n      <td>False</td>\n      <td>52.333333</td>\n    </tr>\n    <tr>\n      <th>8</th>\n      <td>Wartortle</td>\n      <td>Water</td>\n      <td>NaN</td>\n      <td>59</td>\n      <td>63</td>\n      <td>80</td>\n      <td>65</td>\n      <td>80</td>\n      <td>58</td>\n      <td>1</td>\n      <td>False</td>\n      <td>67.500000</td>\n    </tr>\n    <tr>\n      <th>9</th>\n      <td>Blastoise</td>\n      <td>Water</td>\n      <td>NaN</td>\n      <td>79</td>\n      <td>83</td>\n      <td>100</td>\n      <td>85</td>\n      <td>105</td>\n      <td>78</td>\n      <td>1</td>\n      <td>False</td>\n      <td>88.333333</td>\n    </tr>\n    <tr>\n      <th>9</th>\n      <td>BlastoiseMega Blastoise</td>\n      <td>Water</td>\n      <td>NaN</td>\n      <td>79</td>\n      <td>103</td>\n      <td>120</td>\n      <td>135</td>\n      <td>115</td>\n      <td>78</td>\n      <td>1</td>\n      <td>False</td>\n      <td>105.000000</td>\n    </tr>\n    <tr>\n      <th>37</th>\n      <td>Vulpix</td>\n      <td>Fire</td>\n      <td>NaN</td>\n      <td>38</td>\n      <td>41</td>\n      <td>40</td>\n      <td>50</td>\n      <td>65</td>\n      <td>65</td>\n      <td>1</td>\n      <td>False</td>\n      <td>49.833333</td>\n    </tr>\n    <tr>\n      <th>38</th>\n      <td>Ninetales</td>\n      <td>Fire</td>\n      <td>NaN</td>\n      <td>73</td>\n      <td>76</td>\n      <td>75</td>\n      <td>81</td>\n      <td>100</td>\n      <td>100</td>\n      <td>1</td>\n      <td>False</td>\n      <td>84.166667</td>\n    </tr>\n    <tr>\n      <th>54</th>\n      <td>Psyduck</td>\n      <td>Water</td>\n      <td>NaN</td>\n      <td>50</td>\n      <td>52</td>\n      <td>48</td>\n      <td>65</td>\n      <td>50</td>\n      <td>55</td>\n      <td>1</td>\n      <td>False</td>\n      <td>53.333333</td>\n    </tr>\n    <tr>\n      <th>55</th>\n      <td>Golduck</td>\n      <td>Water</td>\n      <td>NaN</td>\n      <td>80</td>\n      <td>82</td>\n      <td>78</td>\n      <td>95</td>\n      <td>80</td>\n      <td>85</td>\n      <td>1</td>\n      <td>False</td>\n      <td>83.333333</td>\n    </tr>\n    <tr>\n      <th>58</th>\n      <td>Growlithe</td>\n      <td>Fire</td>\n      <td>NaN</td>\n      <td>55</td>\n      <td>70</td>\n      <td>45</td>\n      <td>70</td>\n      <td>50</td>\n      <td>60</td>\n      <td>1</td>\n      <td>False</td>\n      <td>58.333333</td>\n    </tr>\n    <tr>\n      <th>59</th>\n      <td>Arcanine</td>\n      <td>Fire</td>\n      <td>NaN</td>\n      <td>90</td>\n      <td>110</td>\n      <td>80</td>\n      <td>100</td>\n      <td>80</td>\n      <td>95</td>\n      <td>1</td>\n      <td>False</td>\n      <td>92.500000</td>\n    </tr>\n    <tr>\n      <th>60</th>\n      <td>Poliwag</td>\n      <td>Water</td>\n      <td>NaN</td>\n      <td>40</td>\n      <td>50</td>\n      <td>40</td>\n      <td>40</td>\n      <td>40</td>\n      <td>90</td>\n      <td>1</td>\n      <td>False</td>\n      <td>50.000000</td>\n    </tr>\n    <tr>\n      <th>61</th>\n      <td>Poliwhirl</td>\n      <td>Water</td>\n      <td>NaN</td>\n      <td>65</td>\n      <td>65</td>\n      <td>65</td>\n      <td>50</td>\n      <td>50</td>\n      <td>90</td>\n      <td>1</td>\n      <td>False</td>\n      <td>64.166667</td>\n    </tr>\n    <tr>\n      <th>62</th>\n      <td>Poliwrath</td>\n      <td>Water</td>\n      <td>Fighting</td>\n      <td>90</td>\n      <td>95</td>\n      <td>95</td>\n      <td>70</td>\n      <td>90</td>\n      <td>70</td>\n      <td>1</td>\n      <td>False</td>\n      <td>85.000000</td>\n    </tr>\n    <tr>\n      <th>72</th>\n      <td>Tentacool</td>\n      <td>Water</td>\n      <td>Poison</td>\n      <td>40</td>\n      <td>40</td>\n      <td>35</td>\n      <td>50</td>\n      <td>100</td>\n      <td>70</td>\n      <td>1</td>\n      <td>False</td>\n      <td>55.833333</td>\n    </tr>\n    <tr>\n      <th>73</th>\n      <td>Tentacruel</td>\n      <td>Water</td>\n      <td>Poison</td>\n      <td>80</td>\n      <td>70</td>\n      <td>65</td>\n      <td>80</td>\n      <td>120</td>\n      <td>100</td>\n      <td>1</td>\n      <td>False</td>\n      <td>85.833333</td>\n    </tr>\n    <tr>\n      <th>77</th>\n      <td>Ponyta</td>\n      <td>Fire</td>\n      <td>NaN</td>\n      <td>50</td>\n      <td>85</td>\n      <td>55</td>\n      <td>65</td>\n      <td>65</td>\n      <td>90</td>\n      <td>1</td>\n      <td>False</td>\n      <td>68.333333</td>\n    </tr>\n    <tr>\n      <th>78</th>\n      <td>Rapidash</td>\n      <td>Fire</td>\n      <td>NaN</td>\n      <td>65</td>\n      <td>100</td>\n      <td>70</td>\n      <td>80</td>\n      <td>80</td>\n      <td>105</td>\n      <td>1</td>\n      <td>False</td>\n      <td>83.333333</td>\n    </tr>\n    <tr>\n      <th>79</th>\n      <td>Slowpoke</td>\n      <td>Water</td>\n      <td>Psychic</td>\n      <td>90</td>\n      <td>65</td>\n      <td>65</td>\n      <td>40</td>\n      <td>40</td>\n      <td>15</td>\n      <td>1</td>\n      <td>False</td>\n      <td>52.500000</td>\n    </tr>\n    <tr>\n      <th>80</th>\n      <td>Slowbro</td>\n      <td>Water</td>\n      <td>Psychic</td>\n      <td>95</td>\n      <td>75</td>\n      <td>110</td>\n      <td>100</td>\n      <td>80</td>\n      <td>30</td>\n      <td>1</td>\n      <td>False</td>\n      <td>81.666667</td>\n    </tr>\n    <tr>\n      <th>80</th>\n      <td>SlowbroMega Slowbro</td>\n      <td>Water</td>\n      <td>Psychic</td>\n      <td>95</td>\n      <td>75</td>\n      <td>180</td>\n      <td>130</td>\n      <td>80</td>\n      <td>30</td>\n      <td>1</td>\n      <td>False</td>\n      <td>98.333333</td>\n    </tr>\n    <tr>\n      <th>86</th>\n      <td>Seel</td>\n      <td>Water</td>\n      <td>NaN</td>\n      <td>65</td>\n      <td>45</td>\n      <td>55</td>\n      <td>45</td>\n      <td>70</td>\n      <td>45</td>\n      <td>1</td>\n      <td>False</td>\n      <td>54.166667</td>\n    </tr>\n    <tr>\n      <th>87</th>\n      <td>Dewgong</td>\n      <td>Water</td>\n      <td>Ice</td>\n      <td>90</td>\n      <td>70</td>\n      <td>80</td>\n      <td>70</td>\n      <td>95</td>\n      <td>70</td>\n      <td>1</td>\n      <td>False</td>\n      <td>79.166667</td>\n    </tr>\n    <tr>\n      <th>90</th>\n      <td>Shellder</td>\n      <td>Water</td>\n      <td>NaN</td>\n      <td>30</td>\n      <td>65</td>\n      <td>100</td>\n      <td>45</td>\n      <td>25</td>\n      <td>40</td>\n      <td>1</td>\n      <td>False</td>\n      <td>50.833333</td>\n    </tr>\n    <tr>\n      <th>91</th>\n      <td>Cloyster</td>\n      <td>Water</td>\n      <td>Ice</td>\n      <td>50</td>\n      <td>95</td>\n      <td>180</td>\n      <td>85</td>\n      <td>45</td>\n      <td>70</td>\n      <td>1</td>\n      <td>False</td>\n      <td>87.500000</td>\n    </tr>\n    <tr>\n      <th>98</th>\n      <td>Krabby</td>\n      <td>Water</td>\n      <td>NaN</td>\n      <td>30</td>\n      <td>105</td>\n      <td>90</td>\n      <td>25</td>\n      <td>25</td>\n      <td>50</td>\n      <td>1</td>\n      <td>False</td>\n      <td>54.166667</td>\n    </tr>\n    <tr>\n      <th>...</th>\n      <td>...</td>\n      <td>...</td>\n      <td>...</td>\n      <td>...</td>\n      <td>...</td>\n      <td>...</td>\n      <td>...</td>\n      <td>...</td>\n      <td>...</td>\n      <td>...</td>\n      <td>...</td>\n      <td>...</td>\n    </tr>\n    <tr>\n      <th>259</th>\n      <td>Marshtomp</td>\n      <td>Water</td>\n      <td>Ground</td>\n      <td>70</td>\n      <td>85</td>\n      <td>70</td>\n      <td>60</td>\n      <td>70</td>\n      <td>50</td>\n      <td>3</td>\n      <td>False</td>\n      <td>67.500000</td>\n    </tr>\n    <tr>\n      <th>260</th>\n      <td>Swampert</td>\n      <td>Water</td>\n      <td>Ground</td>\n      <td>100</td>\n      <td>110</td>\n      <td>90</td>\n      <td>85</td>\n      <td>90</td>\n      <td>60</td>\n      <td>3</td>\n      <td>False</td>\n      <td>89.166667</td>\n    </tr>\n    <tr>\n      <th>260</th>\n      <td>SwampertMega Swampert</td>\n      <td>Water</td>\n      <td>Ground</td>\n      <td>100</td>\n      <td>150</td>\n      <td>110</td>\n      <td>95</td>\n      <td>110</td>\n      <td>70</td>\n      <td>3</td>\n      <td>False</td>\n      <td>105.833333</td>\n    </tr>\n    <tr>\n      <th>270</th>\n      <td>Lotad</td>\n      <td>Water</td>\n      <td>Grass</td>\n      <td>40</td>\n      <td>30</td>\n      <td>30</td>\n      <td>40</td>\n      <td>50</td>\n      <td>30</td>\n      <td>3</td>\n      <td>False</td>\n      <td>36.666667</td>\n    </tr>\n    <tr>\n      <th>271</th>\n      <td>Lombre</td>\n      <td>Water</td>\n      <td>Grass</td>\n      <td>60</td>\n      <td>50</td>\n      <td>50</td>\n      <td>60</td>\n      <td>70</td>\n      <td>50</td>\n      <td>3</td>\n      <td>False</td>\n      <td>56.666667</td>\n    </tr>\n    <tr>\n      <th>272</th>\n      <td>Ludicolo</td>\n      <td>Water</td>\n      <td>Grass</td>\n      <td>80</td>\n      <td>70</td>\n      <td>70</td>\n      <td>90</td>\n      <td>100</td>\n      <td>70</td>\n      <td>3</td>\n      <td>False</td>\n      <td>80.000000</td>\n    </tr>\n    <tr>\n      <th>278</th>\n      <td>Wingull</td>\n      <td>Water</td>\n      <td>Flying</td>\n      <td>40</td>\n      <td>30</td>\n      <td>30</td>\n      <td>55</td>\n      <td>30</td>\n      <td>85</td>\n      <td>3</td>\n      <td>False</td>\n      <td>45.000000</td>\n    </tr>\n    <tr>\n      <th>279</th>\n      <td>Pelipper</td>\n      <td>Water</td>\n      <td>Flying</td>\n      <td>60</td>\n      <td>50</td>\n      <td>100</td>\n      <td>85</td>\n      <td>70</td>\n      <td>65</td>\n      <td>3</td>\n      <td>False</td>\n      <td>71.666667</td>\n    </tr>\n    <tr>\n      <th>318</th>\n      <td>Carvanha</td>\n      <td>Water</td>\n      <td>Dark</td>\n      <td>45</td>\n      <td>90</td>\n      <td>20</td>\n      <td>65</td>\n      <td>20</td>\n      <td>65</td>\n      <td>3</td>\n      <td>False</td>\n      <td>50.833333</td>\n    </tr>\n    <tr>\n      <th>319</th>\n      <td>Sharpedo</td>\n      <td>Water</td>\n      <td>Dark</td>\n      <td>70</td>\n      <td>120</td>\n      <td>40</td>\n      <td>95</td>\n      <td>40</td>\n      <td>95</td>\n      <td>3</td>\n      <td>False</td>\n      <td>76.666667</td>\n    </tr>\n    <tr>\n      <th>319</th>\n      <td>SharpedoMega Sharpedo</td>\n      <td>Water</td>\n      <td>Dark</td>\n      <td>70</td>\n      <td>140</td>\n      <td>70</td>\n      <td>110</td>\n      <td>65</td>\n      <td>105</td>\n      <td>3</td>\n      <td>False</td>\n      <td>93.333333</td>\n    </tr>\n    <tr>\n      <th>320</th>\n      <td>Wailmer</td>\n      <td>Water</td>\n      <td>NaN</td>\n      <td>130</td>\n      <td>70</td>\n      <td>35</td>\n      <td>70</td>\n      <td>35</td>\n      <td>60</td>\n      <td>3</td>\n      <td>False</td>\n      <td>66.666667</td>\n    </tr>\n    <tr>\n      <th>321</th>\n      <td>Wailord</td>\n      <td>Water</td>\n      <td>NaN</td>\n      <td>170</td>\n      <td>90</td>\n      <td>45</td>\n      <td>90</td>\n      <td>45</td>\n      <td>60</td>\n      <td>3</td>\n      <td>False</td>\n      <td>83.333333</td>\n    </tr>\n    <tr>\n      <th>322</th>\n      <td>Numel</td>\n      <td>Fire</td>\n      <td>Ground</td>\n      <td>60</td>\n      <td>60</td>\n      <td>40</td>\n      <td>65</td>\n      <td>45</td>\n      <td>35</td>\n      <td>3</td>\n      <td>False</td>\n      <td>50.833333</td>\n    </tr>\n    <tr>\n      <th>323</th>\n      <td>Camerupt</td>\n      <td>Fire</td>\n      <td>Ground</td>\n      <td>70</td>\n      <td>100</td>\n      <td>70</td>\n      <td>105</td>\n      <td>75</td>\n      <td>40</td>\n      <td>3</td>\n      <td>False</td>\n      <td>76.666667</td>\n    </tr>\n    <tr>\n      <th>323</th>\n      <td>CameruptMega Camerupt</td>\n      <td>Fire</td>\n      <td>Ground</td>\n      <td>70</td>\n      <td>120</td>\n      <td>100</td>\n      <td>145</td>\n      <td>105</td>\n      <td>20</td>\n      <td>3</td>\n      <td>False</td>\n      <td>93.333333</td>\n    </tr>\n    <tr>\n      <th>324</th>\n      <td>Torkoal</td>\n      <td>Fire</td>\n      <td>NaN</td>\n      <td>70</td>\n      <td>85</td>\n      <td>140</td>\n      <td>85</td>\n      <td>70</td>\n      <td>20</td>\n      <td>3</td>\n      <td>False</td>\n      <td>78.333333</td>\n    </tr>\n    <tr>\n      <th>339</th>\n      <td>Barboach</td>\n      <td>Water</td>\n      <td>Ground</td>\n      <td>50</td>\n      <td>48</td>\n      <td>43</td>\n      <td>46</td>\n      <td>41</td>\n      <td>60</td>\n      <td>3</td>\n      <td>False</td>\n      <td>48.000000</td>\n    </tr>\n    <tr>\n      <th>340</th>\n      <td>Whiscash</td>\n      <td>Water</td>\n      <td>Ground</td>\n      <td>110</td>\n      <td>78</td>\n      <td>73</td>\n      <td>76</td>\n      <td>71</td>\n      <td>60</td>\n      <td>3</td>\n      <td>False</td>\n      <td>78.000000</td>\n    </tr>\n    <tr>\n      <th>341</th>\n      <td>Corphish</td>\n      <td>Water</td>\n      <td>NaN</td>\n      <td>43</td>\n      <td>80</td>\n      <td>65</td>\n      <td>50</td>\n      <td>35</td>\n      <td>35</td>\n      <td>3</td>\n      <td>False</td>\n      <td>51.333333</td>\n    </tr>\n    <tr>\n      <th>342</th>\n      <td>Crawdaunt</td>\n      <td>Water</td>\n      <td>Dark</td>\n      <td>63</td>\n      <td>120</td>\n      <td>85</td>\n      <td>90</td>\n      <td>55</td>\n      <td>55</td>\n      <td>3</td>\n      <td>False</td>\n      <td>78.000000</td>\n    </tr>\n    <tr>\n      <th>349</th>\n      <td>Feebas</td>\n      <td>Water</td>\n      <td>NaN</td>\n      <td>20</td>\n      <td>15</td>\n      <td>20</td>\n      <td>10</td>\n      <td>55</td>\n      <td>80</td>\n      <td>3</td>\n      <td>False</td>\n      <td>33.333333</td>\n    </tr>\n    <tr>\n      <th>350</th>\n      <td>Milotic</td>\n      <td>Water</td>\n      <td>NaN</td>\n      <td>95</td>\n      <td>60</td>\n      <td>79</td>\n      <td>100</td>\n      <td>125</td>\n      <td>81</td>\n      <td>3</td>\n      <td>False</td>\n      <td>90.000000</td>\n    </tr>\n    <tr>\n      <th>366</th>\n      <td>Clamperl</td>\n      <td>Water</td>\n      <td>NaN</td>\n      <td>35</td>\n      <td>64</td>\n      <td>85</td>\n      <td>74</td>\n      <td>55</td>\n      <td>32</td>\n      <td>3</td>\n      <td>False</td>\n      <td>57.500000</td>\n    </tr>\n    <tr>\n      <th>367</th>\n      <td>Huntail</td>\n      <td>Water</td>\n      <td>NaN</td>\n      <td>55</td>\n      <td>104</td>\n      <td>105</td>\n      <td>94</td>\n      <td>75</td>\n      <td>52</td>\n      <td>3</td>\n      <td>False</td>\n      <td>80.833333</td>\n    </tr>\n    <tr>\n      <th>368</th>\n      <td>Gorebyss</td>\n      <td>Water</td>\n      <td>NaN</td>\n      <td>55</td>\n      <td>84</td>\n      <td>105</td>\n      <td>114</td>\n      <td>75</td>\n      <td>52</td>\n      <td>3</td>\n      <td>False</td>\n      <td>80.833333</td>\n    </tr>\n    <tr>\n      <th>369</th>\n      <td>Relicanth</td>\n      <td>Water</td>\n      <td>Rock</td>\n      <td>100</td>\n      <td>90</td>\n      <td>130</td>\n      <td>45</td>\n      <td>65</td>\n      <td>55</td>\n      <td>3</td>\n      <td>False</td>\n      <td>80.833333</td>\n    </tr>\n    <tr>\n      <th>370</th>\n      <td>Luvdisc</td>\n      <td>Water</td>\n      <td>NaN</td>\n      <td>43</td>\n      <td>30</td>\n      <td>55</td>\n      <td>40</td>\n      <td>65</td>\n      <td>97</td>\n      <td>3</td>\n      <td>False</td>\n      <td>55.000000</td>\n    </tr>\n    <tr>\n      <th>382</th>\n      <td>Kyogre</td>\n      <td>Water</td>\n      <td>NaN</td>\n      <td>100</td>\n      <td>100</td>\n      <td>90</td>\n      <td>150</td>\n      <td>140</td>\n      <td>90</td>\n      <td>3</td>\n      <td>True</td>\n      <td>111.666667</td>\n    </tr>\n    <tr>\n      <th>382</th>\n      <td>KyogrePrimal Kyogre</td>\n      <td>Water</td>\n      <td>NaN</td>\n      <td>100</td>\n      <td>150</td>\n      <td>90</td>\n      <td>180</td>\n      <td>160</td>\n      <td>90</td>\n      <td>3</td>\n      <td>True</td>\n      <td>128.333333</td>\n    </tr>\n  </tbody>\n</table>\n<p>106 rows × 12 columns</p>\n</div>"
     },
     "metadata": {},
     "execution_count": 164
    }
   ],
   "source": [
    "Q2df = pokedf[ultra_filt_q2]\n",
    "Q2df"
   ]
  },
  {
   "cell_type": "code",
   "execution_count": 166,
   "metadata": {},
   "outputs": [
    {
     "output_type": "execute_result",
     "data": {
      "text/plain": [
       "                          Name Type 1  Generation  strongness\n",
       "#                                                            \n",
       "4                   Charmander   Fire           1   51.500000\n",
       "5                   Charmeleon   Fire           1   67.500000\n",
       "6                    Charizard   Fire           1   89.000000\n",
       "6    CharizardMega Charizard X   Fire           1  105.666667\n",
       "6    CharizardMega Charizard Y   Fire           1  105.666667\n",
       "7                     Squirtle  Water           1   52.333333\n",
       "8                    Wartortle  Water           1   67.500000\n",
       "9                    Blastoise  Water           1   88.333333\n",
       "9      BlastoiseMega Blastoise  Water           1  105.000000\n",
       "37                      Vulpix   Fire           1   49.833333\n",
       "38                   Ninetales   Fire           1   84.166667\n",
       "54                     Psyduck  Water           1   53.333333\n",
       "55                     Golduck  Water           1   83.333333\n",
       "58                   Growlithe   Fire           1   58.333333\n",
       "59                    Arcanine   Fire           1   92.500000\n",
       "60                     Poliwag  Water           1   50.000000\n",
       "61                   Poliwhirl  Water           1   64.166667\n",
       "62                   Poliwrath  Water           1   85.000000\n",
       "72                   Tentacool  Water           1   55.833333\n",
       "73                  Tentacruel  Water           1   85.833333\n",
       "77                      Ponyta   Fire           1   68.333333\n",
       "78                    Rapidash   Fire           1   83.333333\n",
       "79                    Slowpoke  Water           1   52.500000\n",
       "80                     Slowbro  Water           1   81.666667\n",
       "80         SlowbroMega Slowbro  Water           1   98.333333\n",
       "86                        Seel  Water           1   54.166667\n",
       "87                     Dewgong  Water           1   79.166667\n",
       "90                    Shellder  Water           1   50.833333\n",
       "91                    Cloyster  Water           1   87.500000\n",
       "98                      Krabby  Water           1   54.166667\n",
       "..                         ...    ...         ...         ...\n",
       "259                  Marshtomp  Water           3   67.500000\n",
       "260                   Swampert  Water           3   89.166667\n",
       "260      SwampertMega Swampert  Water           3  105.833333\n",
       "270                      Lotad  Water           3   36.666667\n",
       "271                     Lombre  Water           3   56.666667\n",
       "272                   Ludicolo  Water           3   80.000000\n",
       "278                    Wingull  Water           3   45.000000\n",
       "279                   Pelipper  Water           3   71.666667\n",
       "318                   Carvanha  Water           3   50.833333\n",
       "319                   Sharpedo  Water           3   76.666667\n",
       "319      SharpedoMega Sharpedo  Water           3   93.333333\n",
       "320                    Wailmer  Water           3   66.666667\n",
       "321                    Wailord  Water           3   83.333333\n",
       "322                      Numel   Fire           3   50.833333\n",
       "323                   Camerupt   Fire           3   76.666667\n",
       "323      CameruptMega Camerupt   Fire           3   93.333333\n",
       "324                    Torkoal   Fire           3   78.333333\n",
       "339                   Barboach  Water           3   48.000000\n",
       "340                   Whiscash  Water           3   78.000000\n",
       "341                   Corphish  Water           3   51.333333\n",
       "342                  Crawdaunt  Water           3   78.000000\n",
       "349                     Feebas  Water           3   33.333333\n",
       "350                    Milotic  Water           3   90.000000\n",
       "366                   Clamperl  Water           3   57.500000\n",
       "367                    Huntail  Water           3   80.833333\n",
       "368                   Gorebyss  Water           3   80.833333\n",
       "369                  Relicanth  Water           3   80.833333\n",
       "370                    Luvdisc  Water           3   55.000000\n",
       "382                     Kyogre  Water           3  111.666667\n",
       "382        KyogrePrimal Kyogre  Water           3  128.333333\n",
       "\n",
       "[106 rows x 4 columns]"
      ],
      "text/html": "<div>\n<style scoped>\n    .dataframe tbody tr th:only-of-type {\n        vertical-align: middle;\n    }\n\n    .dataframe tbody tr th {\n        vertical-align: top;\n    }\n\n    .dataframe thead th {\n        text-align: right;\n    }\n</style>\n<table border=\"1\" class=\"dataframe\">\n  <thead>\n    <tr style=\"text-align: right;\">\n      <th></th>\n      <th>Name</th>\n      <th>Type 1</th>\n      <th>Generation</th>\n      <th>strongness</th>\n    </tr>\n    <tr>\n      <th>#</th>\n      <th></th>\n      <th></th>\n      <th></th>\n      <th></th>\n    </tr>\n  </thead>\n  <tbody>\n    <tr>\n      <th>4</th>\n      <td>Charmander</td>\n      <td>Fire</td>\n      <td>1</td>\n      <td>51.500000</td>\n    </tr>\n    <tr>\n      <th>5</th>\n      <td>Charmeleon</td>\n      <td>Fire</td>\n      <td>1</td>\n      <td>67.500000</td>\n    </tr>\n    <tr>\n      <th>6</th>\n      <td>Charizard</td>\n      <td>Fire</td>\n      <td>1</td>\n      <td>89.000000</td>\n    </tr>\n    <tr>\n      <th>6</th>\n      <td>CharizardMega Charizard X</td>\n      <td>Fire</td>\n      <td>1</td>\n      <td>105.666667</td>\n    </tr>\n    <tr>\n      <th>6</th>\n      <td>CharizardMega Charizard Y</td>\n      <td>Fire</td>\n      <td>1</td>\n      <td>105.666667</td>\n    </tr>\n    <tr>\n      <th>7</th>\n      <td>Squirtle</td>\n      <td>Water</td>\n      <td>1</td>\n      <td>52.333333</td>\n    </tr>\n    <tr>\n      <th>8</th>\n      <td>Wartortle</td>\n      <td>Water</td>\n      <td>1</td>\n      <td>67.500000</td>\n    </tr>\n    <tr>\n      <th>9</th>\n      <td>Blastoise</td>\n      <td>Water</td>\n      <td>1</td>\n      <td>88.333333</td>\n    </tr>\n    <tr>\n      <th>9</th>\n      <td>BlastoiseMega Blastoise</td>\n      <td>Water</td>\n      <td>1</td>\n      <td>105.000000</td>\n    </tr>\n    <tr>\n      <th>37</th>\n      <td>Vulpix</td>\n      <td>Fire</td>\n      <td>1</td>\n      <td>49.833333</td>\n    </tr>\n    <tr>\n      <th>38</th>\n      <td>Ninetales</td>\n      <td>Fire</td>\n      <td>1</td>\n      <td>84.166667</td>\n    </tr>\n    <tr>\n      <th>54</th>\n      <td>Psyduck</td>\n      <td>Water</td>\n      <td>1</td>\n      <td>53.333333</td>\n    </tr>\n    <tr>\n      <th>55</th>\n      <td>Golduck</td>\n      <td>Water</td>\n      <td>1</td>\n      <td>83.333333</td>\n    </tr>\n    <tr>\n      <th>58</th>\n      <td>Growlithe</td>\n      <td>Fire</td>\n      <td>1</td>\n      <td>58.333333</td>\n    </tr>\n    <tr>\n      <th>59</th>\n      <td>Arcanine</td>\n      <td>Fire</td>\n      <td>1</td>\n      <td>92.500000</td>\n    </tr>\n    <tr>\n      <th>60</th>\n      <td>Poliwag</td>\n      <td>Water</td>\n      <td>1</td>\n      <td>50.000000</td>\n    </tr>\n    <tr>\n      <th>61</th>\n      <td>Poliwhirl</td>\n      <td>Water</td>\n      <td>1</td>\n      <td>64.166667</td>\n    </tr>\n    <tr>\n      <th>62</th>\n      <td>Poliwrath</td>\n      <td>Water</td>\n      <td>1</td>\n      <td>85.000000</td>\n    </tr>\n    <tr>\n      <th>72</th>\n      <td>Tentacool</td>\n      <td>Water</td>\n      <td>1</td>\n      <td>55.833333</td>\n    </tr>\n    <tr>\n      <th>73</th>\n      <td>Tentacruel</td>\n      <td>Water</td>\n      <td>1</td>\n      <td>85.833333</td>\n    </tr>\n    <tr>\n      <th>77</th>\n      <td>Ponyta</td>\n      <td>Fire</td>\n      <td>1</td>\n      <td>68.333333</td>\n    </tr>\n    <tr>\n      <th>78</th>\n      <td>Rapidash</td>\n      <td>Fire</td>\n      <td>1</td>\n      <td>83.333333</td>\n    </tr>\n    <tr>\n      <th>79</th>\n      <td>Slowpoke</td>\n      <td>Water</td>\n      <td>1</td>\n      <td>52.500000</td>\n    </tr>\n    <tr>\n      <th>80</th>\n      <td>Slowbro</td>\n      <td>Water</td>\n      <td>1</td>\n      <td>81.666667</td>\n    </tr>\n    <tr>\n      <th>80</th>\n      <td>SlowbroMega Slowbro</td>\n      <td>Water</td>\n      <td>1</td>\n      <td>98.333333</td>\n    </tr>\n    <tr>\n      <th>86</th>\n      <td>Seel</td>\n      <td>Water</td>\n      <td>1</td>\n      <td>54.166667</td>\n    </tr>\n    <tr>\n      <th>87</th>\n      <td>Dewgong</td>\n      <td>Water</td>\n      <td>1</td>\n      <td>79.166667</td>\n    </tr>\n    <tr>\n      <th>90</th>\n      <td>Shellder</td>\n      <td>Water</td>\n      <td>1</td>\n      <td>50.833333</td>\n    </tr>\n    <tr>\n      <th>91</th>\n      <td>Cloyster</td>\n      <td>Water</td>\n      <td>1</td>\n      <td>87.500000</td>\n    </tr>\n    <tr>\n      <th>98</th>\n      <td>Krabby</td>\n      <td>Water</td>\n      <td>1</td>\n      <td>54.166667</td>\n    </tr>\n    <tr>\n      <th>...</th>\n      <td>...</td>\n      <td>...</td>\n      <td>...</td>\n      <td>...</td>\n    </tr>\n    <tr>\n      <th>259</th>\n      <td>Marshtomp</td>\n      <td>Water</td>\n      <td>3</td>\n      <td>67.500000</td>\n    </tr>\n    <tr>\n      <th>260</th>\n      <td>Swampert</td>\n      <td>Water</td>\n      <td>3</td>\n      <td>89.166667</td>\n    </tr>\n    <tr>\n      <th>260</th>\n      <td>SwampertMega Swampert</td>\n      <td>Water</td>\n      <td>3</td>\n      <td>105.833333</td>\n    </tr>\n    <tr>\n      <th>270</th>\n      <td>Lotad</td>\n      <td>Water</td>\n      <td>3</td>\n      <td>36.666667</td>\n    </tr>\n    <tr>\n      <th>271</th>\n      <td>Lombre</td>\n      <td>Water</td>\n      <td>3</td>\n      <td>56.666667</td>\n    </tr>\n    <tr>\n      <th>272</th>\n      <td>Ludicolo</td>\n      <td>Water</td>\n      <td>3</td>\n      <td>80.000000</td>\n    </tr>\n    <tr>\n      <th>278</th>\n      <td>Wingull</td>\n      <td>Water</td>\n      <td>3</td>\n      <td>45.000000</td>\n    </tr>\n    <tr>\n      <th>279</th>\n      <td>Pelipper</td>\n      <td>Water</td>\n      <td>3</td>\n      <td>71.666667</td>\n    </tr>\n    <tr>\n      <th>318</th>\n      <td>Carvanha</td>\n      <td>Water</td>\n      <td>3</td>\n      <td>50.833333</td>\n    </tr>\n    <tr>\n      <th>319</th>\n      <td>Sharpedo</td>\n      <td>Water</td>\n      <td>3</td>\n      <td>76.666667</td>\n    </tr>\n    <tr>\n      <th>319</th>\n      <td>SharpedoMega Sharpedo</td>\n      <td>Water</td>\n      <td>3</td>\n      <td>93.333333</td>\n    </tr>\n    <tr>\n      <th>320</th>\n      <td>Wailmer</td>\n      <td>Water</td>\n      <td>3</td>\n      <td>66.666667</td>\n    </tr>\n    <tr>\n      <th>321</th>\n      <td>Wailord</td>\n      <td>Water</td>\n      <td>3</td>\n      <td>83.333333</td>\n    </tr>\n    <tr>\n      <th>322</th>\n      <td>Numel</td>\n      <td>Fire</td>\n      <td>3</td>\n      <td>50.833333</td>\n    </tr>\n    <tr>\n      <th>323</th>\n      <td>Camerupt</td>\n      <td>Fire</td>\n      <td>3</td>\n      <td>76.666667</td>\n    </tr>\n    <tr>\n      <th>323</th>\n      <td>CameruptMega Camerupt</td>\n      <td>Fire</td>\n      <td>3</td>\n      <td>93.333333</td>\n    </tr>\n    <tr>\n      <th>324</th>\n      <td>Torkoal</td>\n      <td>Fire</td>\n      <td>3</td>\n      <td>78.333333</td>\n    </tr>\n    <tr>\n      <th>339</th>\n      <td>Barboach</td>\n      <td>Water</td>\n      <td>3</td>\n      <td>48.000000</td>\n    </tr>\n    <tr>\n      <th>340</th>\n      <td>Whiscash</td>\n      <td>Water</td>\n      <td>3</td>\n      <td>78.000000</td>\n    </tr>\n    <tr>\n      <th>341</th>\n      <td>Corphish</td>\n      <td>Water</td>\n      <td>3</td>\n      <td>51.333333</td>\n    </tr>\n    <tr>\n      <th>342</th>\n      <td>Crawdaunt</td>\n      <td>Water</td>\n      <td>3</td>\n      <td>78.000000</td>\n    </tr>\n    <tr>\n      <th>349</th>\n      <td>Feebas</td>\n      <td>Water</td>\n      <td>3</td>\n      <td>33.333333</td>\n    </tr>\n    <tr>\n      <th>350</th>\n      <td>Milotic</td>\n      <td>Water</td>\n      <td>3</td>\n      <td>90.000000</td>\n    </tr>\n    <tr>\n      <th>366</th>\n      <td>Clamperl</td>\n      <td>Water</td>\n      <td>3</td>\n      <td>57.500000</td>\n    </tr>\n    <tr>\n      <th>367</th>\n      <td>Huntail</td>\n      <td>Water</td>\n      <td>3</td>\n      <td>80.833333</td>\n    </tr>\n    <tr>\n      <th>368</th>\n      <td>Gorebyss</td>\n      <td>Water</td>\n      <td>3</td>\n      <td>80.833333</td>\n    </tr>\n    <tr>\n      <th>369</th>\n      <td>Relicanth</td>\n      <td>Water</td>\n      <td>3</td>\n      <td>80.833333</td>\n    </tr>\n    <tr>\n      <th>370</th>\n      <td>Luvdisc</td>\n      <td>Water</td>\n      <td>3</td>\n      <td>55.000000</td>\n    </tr>\n    <tr>\n      <th>382</th>\n      <td>Kyogre</td>\n      <td>Water</td>\n      <td>3</td>\n      <td>111.666667</td>\n    </tr>\n    <tr>\n      <th>382</th>\n      <td>KyogrePrimal Kyogre</td>\n      <td>Water</td>\n      <td>3</td>\n      <td>128.333333</td>\n    </tr>\n  </tbody>\n</table>\n<p>106 rows × 4 columns</p>\n</div>"
     },
     "metadata": {},
     "execution_count": 166
    }
   ],
   "source": [
    " Q2dfclean=Q2df.drop(columns=['Type 2','HP','Attack','Defense','Sp. Atk','Sp. Def','Speed','Legendary'], axis='columns')\n",
    " Q2dfclean"
   ]
  },
  {
   "cell_type": "code",
   "execution_count": 167,
   "metadata": {},
   "outputs": [],
   "source": [
    "Q2dfclean.to_csv('D:\\DataAnalysis\\Q2df.csv')"
   ]
  },
  {
   "cell_type": "code",
   "execution_count": 5,
   "metadata": {},
   "outputs": [
    {
     "output_type": "execute_result",
     "data": {
      "text/plain": [
       "                          Name    Type 1  Type 2   HP  Attack  Defense  \\\n",
       "#                                                                        \n",
       "1                    Bulbasaur     Grass  Poison   45      49       49   \n",
       "2                      Ivysaur     Grass  Poison   60      62       63   \n",
       "3                     Venusaur     Grass  Poison   80      82       83   \n",
       "3        VenusaurMega Venusaur     Grass  Poison   80     100      123   \n",
       "4                   Charmander      Fire     NaN   39      52       43   \n",
       "5                   Charmeleon      Fire     NaN   58      64       58   \n",
       "6                    Charizard      Fire  Flying   78      84       78   \n",
       "6    CharizardMega Charizard X      Fire  Dragon   78     130      111   \n",
       "6    CharizardMega Charizard Y      Fire  Flying   78     104       78   \n",
       "7                     Squirtle     Water     NaN   44      48       65   \n",
       "8                    Wartortle     Water     NaN   59      63       80   \n",
       "9                    Blastoise     Water     NaN   79      83      100   \n",
       "9      BlastoiseMega Blastoise     Water     NaN   79     103      120   \n",
       "10                    Caterpie       Bug     NaN   45      30       35   \n",
       "11                     Metapod       Bug     NaN   50      20       55   \n",
       "12                  Butterfree       Bug  Flying   60      45       50   \n",
       "13                      Weedle       Bug  Poison   40      35       30   \n",
       "14                      Kakuna       Bug  Poison   45      25       50   \n",
       "15                    Beedrill       Bug  Poison   65      90       40   \n",
       "15       BeedrillMega Beedrill       Bug  Poison   65     150       40   \n",
       "16                      Pidgey    Normal  Flying   40      45       40   \n",
       "17                   Pidgeotto    Normal  Flying   63      60       55   \n",
       "18                     Pidgeot    Normal  Flying   83      80       75   \n",
       "18         PidgeotMega Pidgeot    Normal  Flying   83      80       80   \n",
       "19                     Rattata    Normal     NaN   30      56       35   \n",
       "20                    Raticate    Normal     NaN   55      81       60   \n",
       "21                     Spearow    Normal  Flying   40      60       30   \n",
       "22                      Fearow    Normal  Flying   65      90       65   \n",
       "23                       Ekans    Poison     NaN   35      60       44   \n",
       "24                       Arbok    Poison     NaN   60      85       69   \n",
       "..                         ...       ...     ...  ...     ...      ...   \n",
       "700                    Sylveon     Fairy     NaN   95      65       65   \n",
       "701                   Hawlucha  Fighting  Flying   78      92       75   \n",
       "702                    Dedenne  Electric   Fairy   67      58       57   \n",
       "703                    Carbink      Rock   Fairy   50      50      150   \n",
       "704                      Goomy    Dragon     NaN   45      50       35   \n",
       "705                    Sliggoo    Dragon     NaN   68      75       53   \n",
       "706                     Goodra    Dragon     NaN   90     100       70   \n",
       "707                     Klefki     Steel   Fairy   57      80       91   \n",
       "708                   Phantump     Ghost   Grass   43      70       48   \n",
       "709                  Trevenant     Ghost   Grass   85     110       76   \n",
       "710      PumpkabooAverage Size     Ghost   Grass   49      66       70   \n",
       "710        PumpkabooSmall Size     Ghost   Grass   44      66       70   \n",
       "710        PumpkabooLarge Size     Ghost   Grass   54      66       70   \n",
       "710        PumpkabooSuper Size     Ghost   Grass   59      66       70   \n",
       "711      GourgeistAverage Size     Ghost   Grass   65      90      122   \n",
       "711        GourgeistSmall Size     Ghost   Grass   55      85      122   \n",
       "711        GourgeistLarge Size     Ghost   Grass   75      95      122   \n",
       "711        GourgeistSuper Size     Ghost   Grass   85     100      122   \n",
       "712                   Bergmite       Ice     NaN   55      69       85   \n",
       "713                    Avalugg       Ice     NaN   95     117      184   \n",
       "714                     Noibat    Flying  Dragon   40      30       35   \n",
       "715                    Noivern    Flying  Dragon   85      70       80   \n",
       "716                    Xerneas     Fairy     NaN  126     131       95   \n",
       "717                    Yveltal      Dark  Flying  126     131       95   \n",
       "718           Zygarde50% Forme    Dragon  Ground  108     100      121   \n",
       "719                    Diancie      Rock   Fairy   50     100      150   \n",
       "719        DiancieMega Diancie      Rock   Fairy   50     160      110   \n",
       "720        HoopaHoopa Confined   Psychic   Ghost   80     110       60   \n",
       "720         HoopaHoopa Unbound   Psychic    Dark   80     160       60   \n",
       "721                  Volcanion      Fire   Water   80     110      120   \n",
       "\n",
       "     Sp. Atk  Sp. Def  Speed  Generation  Legendary  \n",
       "#                                                    \n",
       "1         65       65     45           1      False  \n",
       "2         80       80     60           1      False  \n",
       "3        100      100     80           1      False  \n",
       "3        122      120     80           1      False  \n",
       "4         60       50     65           1      False  \n",
       "5         80       65     80           1      False  \n",
       "6        109       85    100           1      False  \n",
       "6        130       85    100           1      False  \n",
       "6        159      115    100           1      False  \n",
       "7         50       64     43           1      False  \n",
       "8         65       80     58           1      False  \n",
       "9         85      105     78           1      False  \n",
       "9        135      115     78           1      False  \n",
       "10        20       20     45           1      False  \n",
       "11        25       25     30           1      False  \n",
       "12        90       80     70           1      False  \n",
       "13        20       20     50           1      False  \n",
       "14        25       25     35           1      False  \n",
       "15        45       80     75           1      False  \n",
       "15        15       80    145           1      False  \n",
       "16        35       35     56           1      False  \n",
       "17        50       50     71           1      False  \n",
       "18        70       70    101           1      False  \n",
       "18       135       80    121           1      False  \n",
       "19        25       35     72           1      False  \n",
       "20        50       70     97           1      False  \n",
       "21        31       31     70           1      False  \n",
       "22        61       61    100           1      False  \n",
       "23        40       54     55           1      False  \n",
       "24        65       79     80           1      False  \n",
       "..       ...      ...    ...         ...        ...  \n",
       "700      110      130     60           6      False  \n",
       "701       74       63    118           6      False  \n",
       "702       81       67    101           6      False  \n",
       "703       50      150     50           6      False  \n",
       "704       55       75     40           6      False  \n",
       "705       83      113     60           6      False  \n",
       "706      110      150     80           6      False  \n",
       "707       80       87     75           6      False  \n",
       "708       50       60     38           6      False  \n",
       "709       65       82     56           6      False  \n",
       "710       44       55     51           6      False  \n",
       "710       44       55     56           6      False  \n",
       "710       44       55     46           6      False  \n",
       "710       44       55     41           6      False  \n",
       "711       58       75     84           6      False  \n",
       "711       58       75     99           6      False  \n",
       "711       58       75     69           6      False  \n",
       "711       58       75     54           6      False  \n",
       "712       32       35     28           6      False  \n",
       "713       44       46     28           6      False  \n",
       "714       45       40     55           6      False  \n",
       "715       97       80    123           6      False  \n",
       "716      131       98     99           6       True  \n",
       "717      131       98     99           6       True  \n",
       "718       81       95     95           6       True  \n",
       "719      100      150     50           6       True  \n",
       "719      160      110    110           6       True  \n",
       "720      150      130     70           6       True  \n",
       "720      170      130     80           6       True  \n",
       "721      130       90     70           6       True  \n",
       "\n",
       "[800 rows x 11 columns]"
      ],
      "text/html": "<div>\n<style scoped>\n    .dataframe tbody tr th:only-of-type {\n        vertical-align: middle;\n    }\n\n    .dataframe tbody tr th {\n        vertical-align: top;\n    }\n\n    .dataframe thead th {\n        text-align: right;\n    }\n</style>\n<table border=\"1\" class=\"dataframe\">\n  <thead>\n    <tr style=\"text-align: right;\">\n      <th></th>\n      <th>Name</th>\n      <th>Type 1</th>\n      <th>Type 2</th>\n      <th>HP</th>\n      <th>Attack</th>\n      <th>Defense</th>\n      <th>Sp. Atk</th>\n      <th>Sp. Def</th>\n      <th>Speed</th>\n      <th>Generation</th>\n      <th>Legendary</th>\n    </tr>\n    <tr>\n      <th>#</th>\n      <th></th>\n      <th></th>\n      <th></th>\n      <th></th>\n      <th></th>\n      <th></th>\n      <th></th>\n      <th></th>\n      <th></th>\n      <th></th>\n      <th></th>\n    </tr>\n  </thead>\n  <tbody>\n    <tr>\n      <th>1</th>\n      <td>Bulbasaur</td>\n      <td>Grass</td>\n      <td>Poison</td>\n      <td>45</td>\n      <td>49</td>\n      <td>49</td>\n      <td>65</td>\n      <td>65</td>\n      <td>45</td>\n      <td>1</td>\n      <td>False</td>\n    </tr>\n    <tr>\n      <th>2</th>\n      <td>Ivysaur</td>\n      <td>Grass</td>\n      <td>Poison</td>\n      <td>60</td>\n      <td>62</td>\n      <td>63</td>\n      <td>80</td>\n      <td>80</td>\n      <td>60</td>\n      <td>1</td>\n      <td>False</td>\n    </tr>\n    <tr>\n      <th>3</th>\n      <td>Venusaur</td>\n      <td>Grass</td>\n      <td>Poison</td>\n      <td>80</td>\n      <td>82</td>\n      <td>83</td>\n      <td>100</td>\n      <td>100</td>\n      <td>80</td>\n      <td>1</td>\n      <td>False</td>\n    </tr>\n    <tr>\n      <th>3</th>\n      <td>VenusaurMega Venusaur</td>\n      <td>Grass</td>\n      <td>Poison</td>\n      <td>80</td>\n      <td>100</td>\n      <td>123</td>\n      <td>122</td>\n      <td>120</td>\n      <td>80</td>\n      <td>1</td>\n      <td>False</td>\n    </tr>\n    <tr>\n      <th>4</th>\n      <td>Charmander</td>\n      <td>Fire</td>\n      <td>NaN</td>\n      <td>39</td>\n      <td>52</td>\n      <td>43</td>\n      <td>60</td>\n      <td>50</td>\n      <td>65</td>\n      <td>1</td>\n      <td>False</td>\n    </tr>\n    <tr>\n      <th>5</th>\n      <td>Charmeleon</td>\n      <td>Fire</td>\n      <td>NaN</td>\n      <td>58</td>\n      <td>64</td>\n      <td>58</td>\n      <td>80</td>\n      <td>65</td>\n      <td>80</td>\n      <td>1</td>\n      <td>False</td>\n    </tr>\n    <tr>\n      <th>6</th>\n      <td>Charizard</td>\n      <td>Fire</td>\n      <td>Flying</td>\n      <td>78</td>\n      <td>84</td>\n      <td>78</td>\n      <td>109</td>\n      <td>85</td>\n      <td>100</td>\n      <td>1</td>\n      <td>False</td>\n    </tr>\n    <tr>\n      <th>6</th>\n      <td>CharizardMega Charizard X</td>\n      <td>Fire</td>\n      <td>Dragon</td>\n      <td>78</td>\n      <td>130</td>\n      <td>111</td>\n      <td>130</td>\n      <td>85</td>\n      <td>100</td>\n      <td>1</td>\n      <td>False</td>\n    </tr>\n    <tr>\n      <th>6</th>\n      <td>CharizardMega Charizard Y</td>\n      <td>Fire</td>\n      <td>Flying</td>\n      <td>78</td>\n      <td>104</td>\n      <td>78</td>\n      <td>159</td>\n      <td>115</td>\n      <td>100</td>\n      <td>1</td>\n      <td>False</td>\n    </tr>\n    <tr>\n      <th>7</th>\n      <td>Squirtle</td>\n      <td>Water</td>\n      <td>NaN</td>\n      <td>44</td>\n      <td>48</td>\n      <td>65</td>\n      <td>50</td>\n      <td>64</td>\n      <td>43</td>\n      <td>1</td>\n      <td>False</td>\n    </tr>\n    <tr>\n      <th>8</th>\n      <td>Wartortle</td>\n      <td>Water</td>\n      <td>NaN</td>\n      <td>59</td>\n      <td>63</td>\n      <td>80</td>\n      <td>65</td>\n      <td>80</td>\n      <td>58</td>\n      <td>1</td>\n      <td>False</td>\n    </tr>\n    <tr>\n      <th>9</th>\n      <td>Blastoise</td>\n      <td>Water</td>\n      <td>NaN</td>\n      <td>79</td>\n      <td>83</td>\n      <td>100</td>\n      <td>85</td>\n      <td>105</td>\n      <td>78</td>\n      <td>1</td>\n      <td>False</td>\n    </tr>\n    <tr>\n      <th>9</th>\n      <td>BlastoiseMega Blastoise</td>\n      <td>Water</td>\n      <td>NaN</td>\n      <td>79</td>\n      <td>103</td>\n      <td>120</td>\n      <td>135</td>\n      <td>115</td>\n      <td>78</td>\n      <td>1</td>\n      <td>False</td>\n    </tr>\n    <tr>\n      <th>10</th>\n      <td>Caterpie</td>\n      <td>Bug</td>\n      <td>NaN</td>\n      <td>45</td>\n      <td>30</td>\n      <td>35</td>\n      <td>20</td>\n      <td>20</td>\n      <td>45</td>\n      <td>1</td>\n      <td>False</td>\n    </tr>\n    <tr>\n      <th>11</th>\n      <td>Metapod</td>\n      <td>Bug</td>\n      <td>NaN</td>\n      <td>50</td>\n      <td>20</td>\n      <td>55</td>\n      <td>25</td>\n      <td>25</td>\n      <td>30</td>\n      <td>1</td>\n      <td>False</td>\n    </tr>\n    <tr>\n      <th>12</th>\n      <td>Butterfree</td>\n      <td>Bug</td>\n      <td>Flying</td>\n      <td>60</td>\n      <td>45</td>\n      <td>50</td>\n      <td>90</td>\n      <td>80</td>\n      <td>70</td>\n      <td>1</td>\n      <td>False</td>\n    </tr>\n    <tr>\n      <th>13</th>\n      <td>Weedle</td>\n      <td>Bug</td>\n      <td>Poison</td>\n      <td>40</td>\n      <td>35</td>\n      <td>30</td>\n      <td>20</td>\n      <td>20</td>\n      <td>50</td>\n      <td>1</td>\n      <td>False</td>\n    </tr>\n    <tr>\n      <th>14</th>\n      <td>Kakuna</td>\n      <td>Bug</td>\n      <td>Poison</td>\n      <td>45</td>\n      <td>25</td>\n      <td>50</td>\n      <td>25</td>\n      <td>25</td>\n      <td>35</td>\n      <td>1</td>\n      <td>False</td>\n    </tr>\n    <tr>\n      <th>15</th>\n      <td>Beedrill</td>\n      <td>Bug</td>\n      <td>Poison</td>\n      <td>65</td>\n      <td>90</td>\n      <td>40</td>\n      <td>45</td>\n      <td>80</td>\n      <td>75</td>\n      <td>1</td>\n      <td>False</td>\n    </tr>\n    <tr>\n      <th>15</th>\n      <td>BeedrillMega Beedrill</td>\n      <td>Bug</td>\n      <td>Poison</td>\n      <td>65</td>\n      <td>150</td>\n      <td>40</td>\n      <td>15</td>\n      <td>80</td>\n      <td>145</td>\n      <td>1</td>\n      <td>False</td>\n    </tr>\n    <tr>\n      <th>16</th>\n      <td>Pidgey</td>\n      <td>Normal</td>\n      <td>Flying</td>\n      <td>40</td>\n      <td>45</td>\n      <td>40</td>\n      <td>35</td>\n      <td>35</td>\n      <td>56</td>\n      <td>1</td>\n      <td>False</td>\n    </tr>\n    <tr>\n      <th>17</th>\n      <td>Pidgeotto</td>\n      <td>Normal</td>\n      <td>Flying</td>\n      <td>63</td>\n      <td>60</td>\n      <td>55</td>\n      <td>50</td>\n      <td>50</td>\n      <td>71</td>\n      <td>1</td>\n      <td>False</td>\n    </tr>\n    <tr>\n      <th>18</th>\n      <td>Pidgeot</td>\n      <td>Normal</td>\n      <td>Flying</td>\n      <td>83</td>\n      <td>80</td>\n      <td>75</td>\n      <td>70</td>\n      <td>70</td>\n      <td>101</td>\n      <td>1</td>\n      <td>False</td>\n    </tr>\n    <tr>\n      <th>18</th>\n      <td>PidgeotMega Pidgeot</td>\n      <td>Normal</td>\n      <td>Flying</td>\n      <td>83</td>\n      <td>80</td>\n      <td>80</td>\n      <td>135</td>\n      <td>80</td>\n      <td>121</td>\n      <td>1</td>\n      <td>False</td>\n    </tr>\n    <tr>\n      <th>19</th>\n      <td>Rattata</td>\n      <td>Normal</td>\n      <td>NaN</td>\n      <td>30</td>\n      <td>56</td>\n      <td>35</td>\n      <td>25</td>\n      <td>35</td>\n      <td>72</td>\n      <td>1</td>\n      <td>False</td>\n    </tr>\n    <tr>\n      <th>20</th>\n      <td>Raticate</td>\n      <td>Normal</td>\n      <td>NaN</td>\n      <td>55</td>\n      <td>81</td>\n      <td>60</td>\n      <td>50</td>\n      <td>70</td>\n      <td>97</td>\n      <td>1</td>\n      <td>False</td>\n    </tr>\n    <tr>\n      <th>21</th>\n      <td>Spearow</td>\n      <td>Normal</td>\n      <td>Flying</td>\n      <td>40</td>\n      <td>60</td>\n      <td>30</td>\n      <td>31</td>\n      <td>31</td>\n      <td>70</td>\n      <td>1</td>\n      <td>False</td>\n    </tr>\n    <tr>\n      <th>22</th>\n      <td>Fearow</td>\n      <td>Normal</td>\n      <td>Flying</td>\n      <td>65</td>\n      <td>90</td>\n      <td>65</td>\n      <td>61</td>\n      <td>61</td>\n      <td>100</td>\n      <td>1</td>\n      <td>False</td>\n    </tr>\n    <tr>\n      <th>23</th>\n      <td>Ekans</td>\n      <td>Poison</td>\n      <td>NaN</td>\n      <td>35</td>\n      <td>60</td>\n      <td>44</td>\n      <td>40</td>\n      <td>54</td>\n      <td>55</td>\n      <td>1</td>\n      <td>False</td>\n    </tr>\n    <tr>\n      <th>24</th>\n      <td>Arbok</td>\n      <td>Poison</td>\n      <td>NaN</td>\n      <td>60</td>\n      <td>85</td>\n      <td>69</td>\n      <td>65</td>\n      <td>79</td>\n      <td>80</td>\n      <td>1</td>\n      <td>False</td>\n    </tr>\n    <tr>\n      <th>...</th>\n      <td>...</td>\n      <td>...</td>\n      <td>...</td>\n      <td>...</td>\n      <td>...</td>\n      <td>...</td>\n      <td>...</td>\n      <td>...</td>\n      <td>...</td>\n      <td>...</td>\n      <td>...</td>\n    </tr>\n    <tr>\n      <th>700</th>\n      <td>Sylveon</td>\n      <td>Fairy</td>\n      <td>NaN</td>\n      <td>95</td>\n      <td>65</td>\n      <td>65</td>\n      <td>110</td>\n      <td>130</td>\n      <td>60</td>\n      <td>6</td>\n      <td>False</td>\n    </tr>\n    <tr>\n      <th>701</th>\n      <td>Hawlucha</td>\n      <td>Fighting</td>\n      <td>Flying</td>\n      <td>78</td>\n      <td>92</td>\n      <td>75</td>\n      <td>74</td>\n      <td>63</td>\n      <td>118</td>\n      <td>6</td>\n      <td>False</td>\n    </tr>\n    <tr>\n      <th>702</th>\n      <td>Dedenne</td>\n      <td>Electric</td>\n      <td>Fairy</td>\n      <td>67</td>\n      <td>58</td>\n      <td>57</td>\n      <td>81</td>\n      <td>67</td>\n      <td>101</td>\n      <td>6</td>\n      <td>False</td>\n    </tr>\n    <tr>\n      <th>703</th>\n      <td>Carbink</td>\n      <td>Rock</td>\n      <td>Fairy</td>\n      <td>50</td>\n      <td>50</td>\n      <td>150</td>\n      <td>50</td>\n      <td>150</td>\n      <td>50</td>\n      <td>6</td>\n      <td>False</td>\n    </tr>\n    <tr>\n      <th>704</th>\n      <td>Goomy</td>\n      <td>Dragon</td>\n      <td>NaN</td>\n      <td>45</td>\n      <td>50</td>\n      <td>35</td>\n      <td>55</td>\n      <td>75</td>\n      <td>40</td>\n      <td>6</td>\n      <td>False</td>\n    </tr>\n    <tr>\n      <th>705</th>\n      <td>Sliggoo</td>\n      <td>Dragon</td>\n      <td>NaN</td>\n      <td>68</td>\n      <td>75</td>\n      <td>53</td>\n      <td>83</td>\n      <td>113</td>\n      <td>60</td>\n      <td>6</td>\n      <td>False</td>\n    </tr>\n    <tr>\n      <th>706</th>\n      <td>Goodra</td>\n      <td>Dragon</td>\n      <td>NaN</td>\n      <td>90</td>\n      <td>100</td>\n      <td>70</td>\n      <td>110</td>\n      <td>150</td>\n      <td>80</td>\n      <td>6</td>\n      <td>False</td>\n    </tr>\n    <tr>\n      <th>707</th>\n      <td>Klefki</td>\n      <td>Steel</td>\n      <td>Fairy</td>\n      <td>57</td>\n      <td>80</td>\n      <td>91</td>\n      <td>80</td>\n      <td>87</td>\n      <td>75</td>\n      <td>6</td>\n      <td>False</td>\n    </tr>\n    <tr>\n      <th>708</th>\n      <td>Phantump</td>\n      <td>Ghost</td>\n      <td>Grass</td>\n      <td>43</td>\n      <td>70</td>\n      <td>48</td>\n      <td>50</td>\n      <td>60</td>\n      <td>38</td>\n      <td>6</td>\n      <td>False</td>\n    </tr>\n    <tr>\n      <th>709</th>\n      <td>Trevenant</td>\n      <td>Ghost</td>\n      <td>Grass</td>\n      <td>85</td>\n      <td>110</td>\n      <td>76</td>\n      <td>65</td>\n      <td>82</td>\n      <td>56</td>\n      <td>6</td>\n      <td>False</td>\n    </tr>\n    <tr>\n      <th>710</th>\n      <td>PumpkabooAverage Size</td>\n      <td>Ghost</td>\n      <td>Grass</td>\n      <td>49</td>\n      <td>66</td>\n      <td>70</td>\n      <td>44</td>\n      <td>55</td>\n      <td>51</td>\n      <td>6</td>\n      <td>False</td>\n    </tr>\n    <tr>\n      <th>710</th>\n      <td>PumpkabooSmall Size</td>\n      <td>Ghost</td>\n      <td>Grass</td>\n      <td>44</td>\n      <td>66</td>\n      <td>70</td>\n      <td>44</td>\n      <td>55</td>\n      <td>56</td>\n      <td>6</td>\n      <td>False</td>\n    </tr>\n    <tr>\n      <th>710</th>\n      <td>PumpkabooLarge Size</td>\n      <td>Ghost</td>\n      <td>Grass</td>\n      <td>54</td>\n      <td>66</td>\n      <td>70</td>\n      <td>44</td>\n      <td>55</td>\n      <td>46</td>\n      <td>6</td>\n      <td>False</td>\n    </tr>\n    <tr>\n      <th>710</th>\n      <td>PumpkabooSuper Size</td>\n      <td>Ghost</td>\n      <td>Grass</td>\n      <td>59</td>\n      <td>66</td>\n      <td>70</td>\n      <td>44</td>\n      <td>55</td>\n      <td>41</td>\n      <td>6</td>\n      <td>False</td>\n    </tr>\n    <tr>\n      <th>711</th>\n      <td>GourgeistAverage Size</td>\n      <td>Ghost</td>\n      <td>Grass</td>\n      <td>65</td>\n      <td>90</td>\n      <td>122</td>\n      <td>58</td>\n      <td>75</td>\n      <td>84</td>\n      <td>6</td>\n      <td>False</td>\n    </tr>\n    <tr>\n      <th>711</th>\n      <td>GourgeistSmall Size</td>\n      <td>Ghost</td>\n      <td>Grass</td>\n      <td>55</td>\n      <td>85</td>\n      <td>122</td>\n      <td>58</td>\n      <td>75</td>\n      <td>99</td>\n      <td>6</td>\n      <td>False</td>\n    </tr>\n    <tr>\n      <th>711</th>\n      <td>GourgeistLarge Size</td>\n      <td>Ghost</td>\n      <td>Grass</td>\n      <td>75</td>\n      <td>95</td>\n      <td>122</td>\n      <td>58</td>\n      <td>75</td>\n      <td>69</td>\n      <td>6</td>\n      <td>False</td>\n    </tr>\n    <tr>\n      <th>711</th>\n      <td>GourgeistSuper Size</td>\n      <td>Ghost</td>\n      <td>Grass</td>\n      <td>85</td>\n      <td>100</td>\n      <td>122</td>\n      <td>58</td>\n      <td>75</td>\n      <td>54</td>\n      <td>6</td>\n      <td>False</td>\n    </tr>\n    <tr>\n      <th>712</th>\n      <td>Bergmite</td>\n      <td>Ice</td>\n      <td>NaN</td>\n      <td>55</td>\n      <td>69</td>\n      <td>85</td>\n      <td>32</td>\n      <td>35</td>\n      <td>28</td>\n      <td>6</td>\n      <td>False</td>\n    </tr>\n    <tr>\n      <th>713</th>\n      <td>Avalugg</td>\n      <td>Ice</td>\n      <td>NaN</td>\n      <td>95</td>\n      <td>117</td>\n      <td>184</td>\n      <td>44</td>\n      <td>46</td>\n      <td>28</td>\n      <td>6</td>\n      <td>False</td>\n    </tr>\n    <tr>\n      <th>714</th>\n      <td>Noibat</td>\n      <td>Flying</td>\n      <td>Dragon</td>\n      <td>40</td>\n      <td>30</td>\n      <td>35</td>\n      <td>45</td>\n      <td>40</td>\n      <td>55</td>\n      <td>6</td>\n      <td>False</td>\n    </tr>\n    <tr>\n      <th>715</th>\n      <td>Noivern</td>\n      <td>Flying</td>\n      <td>Dragon</td>\n      <td>85</td>\n      <td>70</td>\n      <td>80</td>\n      <td>97</td>\n      <td>80</td>\n      <td>123</td>\n      <td>6</td>\n      <td>False</td>\n    </tr>\n    <tr>\n      <th>716</th>\n      <td>Xerneas</td>\n      <td>Fairy</td>\n      <td>NaN</td>\n      <td>126</td>\n      <td>131</td>\n      <td>95</td>\n      <td>131</td>\n      <td>98</td>\n      <td>99</td>\n      <td>6</td>\n      <td>True</td>\n    </tr>\n    <tr>\n      <th>717</th>\n      <td>Yveltal</td>\n      <td>Dark</td>\n      <td>Flying</td>\n      <td>126</td>\n      <td>131</td>\n      <td>95</td>\n      <td>131</td>\n      <td>98</td>\n      <td>99</td>\n      <td>6</td>\n      <td>True</td>\n    </tr>\n    <tr>\n      <th>718</th>\n      <td>Zygarde50% Forme</td>\n      <td>Dragon</td>\n      <td>Ground</td>\n      <td>108</td>\n      <td>100</td>\n      <td>121</td>\n      <td>81</td>\n      <td>95</td>\n      <td>95</td>\n      <td>6</td>\n      <td>True</td>\n    </tr>\n    <tr>\n      <th>719</th>\n      <td>Diancie</td>\n      <td>Rock</td>\n      <td>Fairy</td>\n      <td>50</td>\n      <td>100</td>\n      <td>150</td>\n      <td>100</td>\n      <td>150</td>\n      <td>50</td>\n      <td>6</td>\n      <td>True</td>\n    </tr>\n    <tr>\n      <th>719</th>\n      <td>DiancieMega Diancie</td>\n      <td>Rock</td>\n      <td>Fairy</td>\n      <td>50</td>\n      <td>160</td>\n      <td>110</td>\n      <td>160</td>\n      <td>110</td>\n      <td>110</td>\n      <td>6</td>\n      <td>True</td>\n    </tr>\n    <tr>\n      <th>720</th>\n      <td>HoopaHoopa Confined</td>\n      <td>Psychic</td>\n      <td>Ghost</td>\n      <td>80</td>\n      <td>110</td>\n      <td>60</td>\n      <td>150</td>\n      <td>130</td>\n      <td>70</td>\n      <td>6</td>\n      <td>True</td>\n    </tr>\n    <tr>\n      <th>720</th>\n      <td>HoopaHoopa Unbound</td>\n      <td>Psychic</td>\n      <td>Dark</td>\n      <td>80</td>\n      <td>160</td>\n      <td>60</td>\n      <td>170</td>\n      <td>130</td>\n      <td>80</td>\n      <td>6</td>\n      <td>True</td>\n    </tr>\n    <tr>\n      <th>721</th>\n      <td>Volcanion</td>\n      <td>Fire</td>\n      <td>Water</td>\n      <td>80</td>\n      <td>110</td>\n      <td>120</td>\n      <td>130</td>\n      <td>90</td>\n      <td>70</td>\n      <td>6</td>\n      <td>True</td>\n    </tr>\n  </tbody>\n</table>\n<p>800 rows × 11 columns</p>\n</div>"
     },
     "metadata": {},
     "execution_count": 5
    }
   ],
   "source": [
    "pokedf"
   ]
  },
  {
   "cell_type": "code",
   "execution_count": 6,
   "metadata": {},
   "outputs": [
    {
     "output_type": "execute_result",
     "data": {
      "text/plain": [
       "array([ 49,  62,  82, 100,  52,  64,  84, 130, 104,  48,  63,  83, 103,\n",
       "        30,  20,  45,  35,  25,  90, 150,  60,  80,  56,  81,  85,  55,\n",
       "        75,  47,  92,  57,  72, 102,  70,  41,  76,  50,  65,  95, 105,\n",
       "       110,  40, 120,  73,   5, 125,  67, 155,  10, 115, 135, 134, 190,\n",
       "        46,  38,  58,  33, 185, 164, 160,  51,  71,  91, 140,  43,  78,\n",
       "        15, 165,  68,  23, 145, 180,  89, 109,  66,  86,  42,  29,  59,\n",
       "        79,  69,  94, 136,  93,  24, 170, 112,  61, 106, 132, 123,  88,\n",
       "        53,  98,  77,  27, 117, 108,  44,  87, 147,  74, 124,  97, 129,\n",
       "       128, 107,  36,  22,  54, 121, 131], dtype=int64)"
      ]
     },
     "metadata": {},
     "execution_count": 6
    }
   ],
   "source": [
    "pokedf['Attack'].unique()"
   ]
  },
  {
   "cell_type": "code",
   "execution_count": 7,
   "metadata": {},
   "outputs": [
    {
     "output_type": "execute_result",
     "data": {
      "text/plain": [
       "Index(['Name', 'Type 1', 'Type 2', 'HP', 'Attack', 'Defense', 'Sp. Atk',\n",
       "       'Sp. Def', 'Speed', 'Generation', 'Legendary'],\n",
       "      dtype='object')"
      ]
     },
     "metadata": {},
     "execution_count": 7
    }
   ],
   "source": [
    "pokedf.columns"
   ]
  },
  {
   "cell_type": "code",
   "execution_count": 8,
   "metadata": {},
   "outputs": [
    {
     "output_type": "execute_result",
     "data": {
      "text/plain": [
       "array([ 49,  63,  83, 123,  43,  58,  78, 111,  65,  80, 100, 120,  35,\n",
       "        55,  50,  30,  40,  75,  60,  44,  69,  85, 110,  52,  67,  87,\n",
       "        57,  77,  48,  73,  20,  45,  70,  25,  95,  15, 115, 130, 180,\n",
       "       160,  90,  53,  79,   5, 109, 125, 105,  64,  34,  38,  28,  42,\n",
       "       140, 200, 230,  62,  37,  10, 150,  41,  61,  32,  23, 135,  97,\n",
       "        71,  68,  88,  51, 118, 168, 102,  66,  84,  94,  47,  86, 116,\n",
       "       108,  72,  56,  76, 145, 107, 106,  39, 126,  59,  99,  89, 103,\n",
       "       133,  82,  91, 131, 112, 129, 122,  54,  33, 119, 184, 121],\n",
       "      dtype=int64)"
      ]
     },
     "metadata": {},
     "execution_count": 8
    }
   ],
   "source": [
    "pokedf['Defense'].unique()"
   ]
  },
  {
   "cell_type": "code",
   "execution_count": 10,
   "metadata": {},
   "outputs": [
    {
     "output_type": "execute_result",
     "data": {
      "text/plain": [
       "array([ 45,  60,  80,  65, 100,  43,  58,  78,  30,  70,  50,  35,  75,\n",
       "       145,  56,  71, 101, 121,  72,  97,  55,  90, 110,  40,  41,  76,\n",
       "        85,  20,  25,  95, 120, 115, 105, 150,  15, 130,  42,  67, 140,\n",
       "        87,  63,  68,  93,  81,  48,  91,  33,   5,  83,  51,  61, 125,\n",
       "       160,  28, 135,  10,  23,  32,  52, 180,  31,  36, 108,  66,  34,\n",
       "        39, 112,  74,  84,  82, 102,  92,  47,  46,  86,  77, 127, 113,\n",
       "       106,  64,  24,  29, 116, 114,  88,  69,  57,  98,  22,  44,  59,\n",
       "        79, 103, 109,  38, 111, 128,  99,  73, 104, 122,  62, 126,  89,\n",
       "        49, 118,  54, 123], dtype=int64)"
      ]
     },
     "metadata": {},
     "execution_count": 10
    }
   ],
   "source": [
    "pokedf['Speed'].unique()"
   ]
  },
  {
   "cell_type": "code",
   "execution_count": 13,
   "metadata": {},
   "outputs": [
    {
     "output_type": "execute_result",
     "data": {
      "text/plain": [
       "                    Name Type 1  Type 2  HP  Attack  Defense  Sp.Attack  \\\n",
       "#                                                                         \n",
       "1              Bulbasaur  Grass  Poison  45      49       49         65   \n",
       "2                Ivysaur  Grass  Poison  60      62       63         80   \n",
       "3               Venusaur  Grass  Poison  80      82       83        100   \n",
       "3  VenusaurMega Venusaur  Grass  Poison  80     100      123        122   \n",
       "4             Charmander   Fire     NaN  39      52       43         60   \n",
       "\n",
       "   Sp.Defence  Speed  Generation  Legendary  \n",
       "#                                            \n",
       "1          65     45           1      False  \n",
       "2          80     60           1      False  \n",
       "3         100     80           1      False  \n",
       "3         120     80           1      False  \n",
       "4          50     65           1      False  "
      ],
      "text/html": "<div>\n<style scoped>\n    .dataframe tbody tr th:only-of-type {\n        vertical-align: middle;\n    }\n\n    .dataframe tbody tr th {\n        vertical-align: top;\n    }\n\n    .dataframe thead th {\n        text-align: right;\n    }\n</style>\n<table border=\"1\" class=\"dataframe\">\n  <thead>\n    <tr style=\"text-align: right;\">\n      <th></th>\n      <th>Name</th>\n      <th>Type 1</th>\n      <th>Type 2</th>\n      <th>HP</th>\n      <th>Attack</th>\n      <th>Defense</th>\n      <th>Sp.Attack</th>\n      <th>Sp.Defence</th>\n      <th>Speed</th>\n      <th>Generation</th>\n      <th>Legendary</th>\n    </tr>\n    <tr>\n      <th>#</th>\n      <th></th>\n      <th></th>\n      <th></th>\n      <th></th>\n      <th></th>\n      <th></th>\n      <th></th>\n      <th></th>\n      <th></th>\n      <th></th>\n      <th></th>\n    </tr>\n  </thead>\n  <tbody>\n    <tr>\n      <th>1</th>\n      <td>Bulbasaur</td>\n      <td>Grass</td>\n      <td>Poison</td>\n      <td>45</td>\n      <td>49</td>\n      <td>49</td>\n      <td>65</td>\n      <td>65</td>\n      <td>45</td>\n      <td>1</td>\n      <td>False</td>\n    </tr>\n    <tr>\n      <th>2</th>\n      <td>Ivysaur</td>\n      <td>Grass</td>\n      <td>Poison</td>\n      <td>60</td>\n      <td>62</td>\n      <td>63</td>\n      <td>80</td>\n      <td>80</td>\n      <td>60</td>\n      <td>1</td>\n      <td>False</td>\n    </tr>\n    <tr>\n      <th>3</th>\n      <td>Venusaur</td>\n      <td>Grass</td>\n      <td>Poison</td>\n      <td>80</td>\n      <td>82</td>\n      <td>83</td>\n      <td>100</td>\n      <td>100</td>\n      <td>80</td>\n      <td>1</td>\n      <td>False</td>\n    </tr>\n    <tr>\n      <th>3</th>\n      <td>VenusaurMega Venusaur</td>\n      <td>Grass</td>\n      <td>Poison</td>\n      <td>80</td>\n      <td>100</td>\n      <td>123</td>\n      <td>122</td>\n      <td>120</td>\n      <td>80</td>\n      <td>1</td>\n      <td>False</td>\n    </tr>\n    <tr>\n      <th>4</th>\n      <td>Charmander</td>\n      <td>Fire</td>\n      <td>NaN</td>\n      <td>39</td>\n      <td>52</td>\n      <td>43</td>\n      <td>60</td>\n      <td>50</td>\n      <td>65</td>\n      <td>1</td>\n      <td>False</td>\n    </tr>\n  </tbody>\n</table>\n</div>"
     },
     "metadata": {},
     "execution_count": 13
    }
   ],
   "source": [
    "pokedf.rename(columns={'Sp. Atk':'Sp.Attack','Sp. Def':'Sp.Defence'}, inplace=True)\n",
    "pokedf.head()"
   ]
  },
  {
   "cell_type": "code",
   "execution_count": 14,
   "metadata": {},
   "outputs": [
    {
     "output_type": "execute_result",
     "data": {
      "text/plain": [
       "array([ 65,  80, 100, 122,  60, 109, 130, 159,  50,  85, 135,  20,  25,\n",
       "        90,  45,  15,  35,  70,  31,  61,  40,  55,  75,  95,  81,  30,\n",
       "       110, 105, 120, 175,  58, 115, 170,  43,  73, 125,  48, 154, 194,\n",
       "        49,  63,  83,  44,  59,  79,  36,  76,  56, 165,  72,  33,  10,\n",
       "       140, 145,  51,  71,  91,  47,  46,  93,  23,  74,  94, 114, 160,\n",
       "       150, 180,  78, 104, 111,  42,  29,  69,  62,  87,  57,  92,  54,\n",
       "        64,  41,  24,  38,  68,  86, 132, 116, 108,  88,  53,  98,  67,\n",
       "       107,  77,  37, 106, 103, 112,  97, 129, 128,  32,  27,  99,  39,\n",
       "       131], dtype=int64)"
      ]
     },
     "metadata": {},
     "execution_count": 14
    }
   ],
   "source": [
    "pokedf['Sp.Attack'].unique()"
   ]
  },
  {
   "cell_type": "code",
   "execution_count": 15,
   "metadata": {},
   "outputs": [
    {
     "output_type": "execute_result",
     "data": {
      "text/plain": [
       "array([ 45,  60,  80,  39,  58,  78,  44,  59,  79,  50,  40,  65,  63,\n",
       "        83,  30,  55,  35,  75,  70,  90,  46,  61,  81,  95,  38,  73,\n",
       "       115, 140,  10,  25,  52, 105,  85, 250,  20, 130,  48, 160,  41,\n",
       "        91, 106, 100, 125, 190, 255,  28,  68, 150,  31,   1,  64,  84,\n",
       "       104,  72, 144, 170, 110,  43,  66,  86,  99,  76,  53,  37,  77,\n",
       "        67,  97, 111,  49,  71, 103,  57, 108, 135,  74,  69, 120, 116,\n",
       "        62,  54,  36,  51, 114, 165, 109,  89,  92,  56,  88, 123, 101,\n",
       "        82,  42, 126], dtype=int64)"
      ]
     },
     "metadata": {},
     "execution_count": 15
    }
   ],
   "source": [
    "pokedf['HP'].unique()"
   ]
  },
  {
   "cell_type": "code",
   "execution_count": 22,
   "metadata": {},
   "outputs": [
    {
     "output_type": "execute_result",
     "data": {
      "text/plain": [
       "        Name  Type 1 Type 2  HP  Attack  Defense  Sp.Attack  Sp.Defence  \\\n",
       "#                                                                         \n",
       "161  Sentret  Normal    NaN  35      46       34         35          45   \n",
       "298  Azurill  Normal  Fairy  50      20       40         20          40   \n",
       "\n",
       "     Speed  Generation  Legendary  \n",
       "#                                  \n",
       "161     20           2      False  \n",
       "298     20           3      False  "
      ],
      "text/html": "<div>\n<style scoped>\n    .dataframe tbody tr th:only-of-type {\n        vertical-align: middle;\n    }\n\n    .dataframe tbody tr th {\n        vertical-align: top;\n    }\n\n    .dataframe thead th {\n        text-align: right;\n    }\n</style>\n<table border=\"1\" class=\"dataframe\">\n  <thead>\n    <tr style=\"text-align: right;\">\n      <th></th>\n      <th>Name</th>\n      <th>Type 1</th>\n      <th>Type 2</th>\n      <th>HP</th>\n      <th>Attack</th>\n      <th>Defense</th>\n      <th>Sp.Attack</th>\n      <th>Sp.Defence</th>\n      <th>Speed</th>\n      <th>Generation</th>\n      <th>Legendary</th>\n    </tr>\n    <tr>\n      <th>#</th>\n      <th></th>\n      <th></th>\n      <th></th>\n      <th></th>\n      <th></th>\n      <th></th>\n      <th></th>\n      <th></th>\n      <th></th>\n      <th></th>\n      <th></th>\n    </tr>\n  </thead>\n  <tbody>\n    <tr>\n      <th>161</th>\n      <td>Sentret</td>\n      <td>Normal</td>\n      <td>NaN</td>\n      <td>35</td>\n      <td>46</td>\n      <td>34</td>\n      <td>35</td>\n      <td>45</td>\n      <td>20</td>\n      <td>2</td>\n      <td>False</td>\n    </tr>\n    <tr>\n      <th>298</th>\n      <td>Azurill</td>\n      <td>Normal</td>\n      <td>Fairy</td>\n      <td>50</td>\n      <td>20</td>\n      <td>40</td>\n      <td>20</td>\n      <td>40</td>\n      <td>20</td>\n      <td>3</td>\n      <td>False</td>\n    </tr>\n  </tbody>\n</table>\n</div>"
     },
     "metadata": {},
     "execution_count": 22
    }
   ],
   "source": [
    "#Q3: most useless pokemon among major types fire, water, grass, poison, psychic, rock, electric, gas, normal , ground, fighting under type1 which you can still expect to act as a buffer between your best pokemons. Strategic pokemon battles.\n",
    "genset3=['1','2','3']\n",
    "type3=['Fire','Water','Grass','Poison','Psychic','Rock','Electric','Gas','Normal','Ground','Fighting']\n",
    "filt3= (pokedf['Attack'] <= 60) & (pokedf['Defense'] <= 60) & (pokedf['Speed']<= 25) & (pokedf['Sp.Attack']<= 50) & (pokedf['Sp.Defence'] <= 50) & (pokedf['HP']<= 50) & (pokedf['Generation'].isin(genset3)) & (pokedf['Type 1'].isin(type3))\n",
    "pokedf[filt3]"
   ]
  },
  {
   "cell_type": "code",
   "execution_count": 26,
   "metadata": {},
   "outputs": [
    {
     "output_type": "execute_result",
     "data": {
      "text/plain": [
       "                    Name Type 1  Type 2  HP  Attack  Defense  Sp.Attack  \\\n",
       "#                                                                         \n",
       "1              Bulbasaur  Grass  Poison  45      49       49         65   \n",
       "2                Ivysaur  Grass  Poison  60      62       63         80   \n",
       "3               Venusaur  Grass  Poison  80      82       83        100   \n",
       "3  VenusaurMega Venusaur  Grass  Poison  80     100      123        122   \n",
       "4             Charmander   Fire     NaN  39      52       43         60   \n",
       "\n",
       "   Sp.Defence  Speed  Generation  Legendary  Strongness  \n",
       "#                                                        \n",
       "1          65     45           1      False   53.000000  \n",
       "2          80     60           1      False   67.500000  \n",
       "3         100     80           1      False   87.500000  \n",
       "3         120     80           1      False  104.166667  \n",
       "4          50     65           1      False   51.500000  "
      ],
      "text/html": "<div>\n<style scoped>\n    .dataframe tbody tr th:only-of-type {\n        vertical-align: middle;\n    }\n\n    .dataframe tbody tr th {\n        vertical-align: top;\n    }\n\n    .dataframe thead th {\n        text-align: right;\n    }\n</style>\n<table border=\"1\" class=\"dataframe\">\n  <thead>\n    <tr style=\"text-align: right;\">\n      <th></th>\n      <th>Name</th>\n      <th>Type 1</th>\n      <th>Type 2</th>\n      <th>HP</th>\n      <th>Attack</th>\n      <th>Defense</th>\n      <th>Sp.Attack</th>\n      <th>Sp.Defence</th>\n      <th>Speed</th>\n      <th>Generation</th>\n      <th>Legendary</th>\n      <th>Strongness</th>\n    </tr>\n    <tr>\n      <th>#</th>\n      <th></th>\n      <th></th>\n      <th></th>\n      <th></th>\n      <th></th>\n      <th></th>\n      <th></th>\n      <th></th>\n      <th></th>\n      <th></th>\n      <th></th>\n      <th></th>\n    </tr>\n  </thead>\n  <tbody>\n    <tr>\n      <th>1</th>\n      <td>Bulbasaur</td>\n      <td>Grass</td>\n      <td>Poison</td>\n      <td>45</td>\n      <td>49</td>\n      <td>49</td>\n      <td>65</td>\n      <td>65</td>\n      <td>45</td>\n      <td>1</td>\n      <td>False</td>\n      <td>53.000000</td>\n    </tr>\n    <tr>\n      <th>2</th>\n      <td>Ivysaur</td>\n      <td>Grass</td>\n      <td>Poison</td>\n      <td>60</td>\n      <td>62</td>\n      <td>63</td>\n      <td>80</td>\n      <td>80</td>\n      <td>60</td>\n      <td>1</td>\n      <td>False</td>\n      <td>67.500000</td>\n    </tr>\n    <tr>\n      <th>3</th>\n      <td>Venusaur</td>\n      <td>Grass</td>\n      <td>Poison</td>\n      <td>80</td>\n      <td>82</td>\n      <td>83</td>\n      <td>100</td>\n      <td>100</td>\n      <td>80</td>\n      <td>1</td>\n      <td>False</td>\n      <td>87.500000</td>\n    </tr>\n    <tr>\n      <th>3</th>\n      <td>VenusaurMega Venusaur</td>\n      <td>Grass</td>\n      <td>Poison</td>\n      <td>80</td>\n      <td>100</td>\n      <td>123</td>\n      <td>122</td>\n      <td>120</td>\n      <td>80</td>\n      <td>1</td>\n      <td>False</td>\n      <td>104.166667</td>\n    </tr>\n    <tr>\n      <th>4</th>\n      <td>Charmander</td>\n      <td>Fire</td>\n      <td>NaN</td>\n      <td>39</td>\n      <td>52</td>\n      <td>43</td>\n      <td>60</td>\n      <td>50</td>\n      <td>65</td>\n      <td>1</td>\n      <td>False</td>\n      <td>51.500000</td>\n    </tr>\n  </tbody>\n</table>\n</div>"
     },
     "metadata": {},
     "execution_count": 26
    }
   ],
   "source": [
    "pokedf['Strongness'] = pokedf[['Attack','Defense','Speed','Sp.Attack','Sp.Defence','HP',]].mean(axis=1)\n",
    "pokedf.head()"
   ]
  },
  {
   "cell_type": "code",
   "execution_count": 27,
   "metadata": {},
   "outputs": [
    {
     "output_type": "execute_result",
     "data": {
      "text/plain": [
       "array([ 53.        ,  67.5       ,  87.5       , 104.16666667,\n",
       "        51.5       ,  89.        , 105.66666667,  52.33333333,\n",
       "        88.33333333, 105.        ,  32.5       ,  34.16666667,\n",
       "        65.83333333,  82.5       ,  41.83333333,  58.16666667,\n",
       "        79.83333333,  96.5       ,  42.16666667,  68.83333333,\n",
       "        43.66666667,  73.66666667,  48.        ,  73.        ,\n",
       "        53.33333333,  80.83333333,  50.        ,  75.        ,\n",
       "        45.83333333,  60.83333333,  84.16666667,  45.5       ,\n",
       "        53.83333333,  80.5       ,  49.83333333,  45.        ,\n",
       "        72.5       ,  40.83333333,  75.83333333,  81.66666667,\n",
       "        47.5       ,  50.83333333,  44.16666667,  48.33333333,\n",
       "        73.33333333,  83.33333333,  58.33333333,  92.5       ,\n",
       "        64.16666667,  85.        ,  51.66666667,  66.66666667,\n",
       "        98.33333333,  65.        ,  55.83333333,  85.83333333,\n",
       "        68.33333333,  52.5       ,  54.16666667,  77.5       ,\n",
       "        58.66666667,  76.66666667,  79.16666667, 100.        ,\n",
       "        54.66666667,  55.        ,  80.        ,  86.66666667,\n",
       "        70.83333333,  56.66666667,  57.5       ,  49.16666667,\n",
       "        33.33333333,  90.        , 106.66666667,  89.16666667,\n",
       "        59.16666667, 102.5       ,  96.66666667,  70.        ,\n",
       "       113.33333333, 130.        ,  35.83333333,  69.16666667,\n",
       "        41.66666667,  36.33333333,  35.        ,  78.33333333,\n",
       "        46.66666667, 101.66666667,  60.        ,  30.        ,\n",
       "        71.66666667,  56.        ,  63.33333333, 116.66666667,\n",
       "       105.83333333,  36.66666667,  40.        ,  33.        ,\n",
       "        46.33333333,  86.33333333, 103.        ,  44.83333333,\n",
       "        69.        , 111.66666667,  44.33333333,  76.        ,\n",
       "        39.33333333,  39.5       ,  79.        ,  31.66666667,\n",
       "        62.5       ,  43.33333333,  95.83333333,  50.33333333,\n",
       "        77.83333333,  93.33333333,  76.33333333,  78.        ,\n",
       "        51.33333333,  94.16666667, 128.33333333,  32.33333333,\n",
       "        64.        ,  43.83333333,  60.5       ,  87.16666667,\n",
       "        37.33333333,  70.66666667,  40.66666667,  80.33333333,\n",
       "        58.        ,  83.        ,  75.33333333,  54.83333333,\n",
       "        68.5       ,  75.66666667,  55.66666667,  82.33333333,\n",
       "        99.        ,  90.83333333, 120.        ,  88.        ,\n",
       "        69.66666667,  42.5       ,  61.66666667,  46.83333333,\n",
       "        74.33333333,  52.66666667,  48.66666667,  81.16666667,\n",
       "        44.        ,  59.66666667,  81.33333333,  82.83333333,\n",
       "        52.16666667,  84.66666667,  74.16666667,  49.        ,\n",
       "        84.83333333,  58.5       ,  86.5       ,  76.83333333,\n",
       "        50.5       ,  66.83333333,  94.5       ,  78.83333333,\n",
       "        71.33333333,  77.33333333,  53.16666667,  78.66666667,\n",
       "        81.5       ,  78.5       ,  80.66666667,  91.66666667,\n",
       "       110.        ,  51.16666667,  68.16666667,  70.5       ,\n",
       "        63.66666667,  83.16666667,  35.5       ,  61.5       ,\n",
       "        84.5       ,  61.83333333,  92.        ,  88.5       ,\n",
       "        77.66666667,  74.66666667,  56.83333333,  77.        ,\n",
       "        51.        ,  48.16666667,  80.16666667,  60.33333333,\n",
       "        86.83333333,  71.83333333,  50.66666667,  85.66666667])"
      ]
     },
     "metadata": {},
     "execution_count": 27
    }
   ],
   "source": [
    "pokedf['Strongness'].unique()"
   ]
  },
  {
   "cell_type": "code",
   "execution_count": 28,
   "metadata": {},
   "outputs": [
    {
     "output_type": "execute_result",
     "data": {
      "text/plain": [
       "                    Name Type 1  Type 2  HP  Attack  Defense  Sp.Attack  \\\n",
       "#                                                                         \n",
       "1              Bulbasaur  Grass  Poison  45      49       49         65   \n",
       "2                Ivysaur  Grass  Poison  60      62       63         80   \n",
       "3               Venusaur  Grass  Poison  80      82       83        100   \n",
       "3  VenusaurMega Venusaur  Grass  Poison  80     100      123        122   \n",
       "4             Charmander   Fire     NaN  39      52       43         60   \n",
       "\n",
       "   Sp.Defence  Speed  Generation  Legendary  Strongness  \n",
       "#                                                        \n",
       "1          65     45           1      False   53.000000  \n",
       "2          80     60           1      False   67.500000  \n",
       "3         100     80           1      False   87.500000  \n",
       "3         120     80           1      False  104.166667  \n",
       "4          50     65           1      False   51.500000  "
      ],
      "text/html": "<div>\n<style scoped>\n    .dataframe tbody tr th:only-of-type {\n        vertical-align: middle;\n    }\n\n    .dataframe tbody tr th {\n        vertical-align: top;\n    }\n\n    .dataframe thead th {\n        text-align: right;\n    }\n</style>\n<table border=\"1\" class=\"dataframe\">\n  <thead>\n    <tr style=\"text-align: right;\">\n      <th></th>\n      <th>Name</th>\n      <th>Type 1</th>\n      <th>Type 2</th>\n      <th>HP</th>\n      <th>Attack</th>\n      <th>Defense</th>\n      <th>Sp.Attack</th>\n      <th>Sp.Defence</th>\n      <th>Speed</th>\n      <th>Generation</th>\n      <th>Legendary</th>\n      <th>Strongness</th>\n    </tr>\n    <tr>\n      <th>#</th>\n      <th></th>\n      <th></th>\n      <th></th>\n      <th></th>\n      <th></th>\n      <th></th>\n      <th></th>\n      <th></th>\n      <th></th>\n      <th></th>\n      <th></th>\n      <th></th>\n    </tr>\n  </thead>\n  <tbody>\n    <tr>\n      <th>1</th>\n      <td>Bulbasaur</td>\n      <td>Grass</td>\n      <td>Poison</td>\n      <td>45</td>\n      <td>49</td>\n      <td>49</td>\n      <td>65</td>\n      <td>65</td>\n      <td>45</td>\n      <td>1</td>\n      <td>False</td>\n      <td>53.000000</td>\n    </tr>\n    <tr>\n      <th>2</th>\n      <td>Ivysaur</td>\n      <td>Grass</td>\n      <td>Poison</td>\n      <td>60</td>\n      <td>62</td>\n      <td>63</td>\n      <td>80</td>\n      <td>80</td>\n      <td>60</td>\n      <td>1</td>\n      <td>False</td>\n      <td>67.500000</td>\n    </tr>\n    <tr>\n      <th>3</th>\n      <td>Venusaur</td>\n      <td>Grass</td>\n      <td>Poison</td>\n      <td>80</td>\n      <td>82</td>\n      <td>83</td>\n      <td>100</td>\n      <td>100</td>\n      <td>80</td>\n      <td>1</td>\n      <td>False</td>\n      <td>87.500000</td>\n    </tr>\n    <tr>\n      <th>3</th>\n      <td>VenusaurMega Venusaur</td>\n      <td>Grass</td>\n      <td>Poison</td>\n      <td>80</td>\n      <td>100</td>\n      <td>123</td>\n      <td>122</td>\n      <td>120</td>\n      <td>80</td>\n      <td>1</td>\n      <td>False</td>\n      <td>104.166667</td>\n    </tr>\n    <tr>\n      <th>4</th>\n      <td>Charmander</td>\n      <td>Fire</td>\n      <td>NaN</td>\n      <td>39</td>\n      <td>52</td>\n      <td>43</td>\n      <td>60</td>\n      <td>50</td>\n      <td>65</td>\n      <td>1</td>\n      <td>False</td>\n      <td>51.500000</td>\n    </tr>\n  </tbody>\n</table>\n</div>"
     },
     "metadata": {},
     "execution_count": 28
    }
   ],
   "source": [
    "pokedf.head()"
   ]
  },
  {
   "cell_type": "code",
   "execution_count": 35,
   "metadata": {},
   "outputs": [
    {
     "output_type": "execute_result",
     "data": {
      "text/plain": [
       "73.8425"
      ]
     },
     "metadata": {},
     "execution_count": 35
    }
   ],
   "source": [
    "pokedf['Defense'].mean(axis=0)\n"
   ]
  },
  {
   "cell_type": "code",
   "execution_count": 42,
   "metadata": {},
   "outputs": [
    {
     "output_type": "execute_result",
     "data": {
      "text/plain": [
       "          Name  Type 1    Type 2  HP  Attack  Defense  Sp.Attack  Sp.Defence  \\\n",
       "#                                                                              \n",
       "18     Pidgeot  Normal    Flying  83      80       75         70          70   \n",
       "195   Quagsire   Water    Ground  95      85       85         65          65   \n",
       "224  Octillery   Water       NaN  75     105       75        105          75   \n",
       "286    Breloom   Grass  Fighting  60     130       80         60          60   \n",
       "324    Torkoal    Fire       NaN  70      85      140         85          70   \n",
       "489     Phione   Water       NaN  80      80       80         80          80   \n",
       "569   Garbodor  Poison       NaN  80      95       82         60          82   \n",
       "\n",
       "     Speed  Generation  Legendary  Strongness  \n",
       "#                                              \n",
       "18     101           1      False   79.833333  \n",
       "195     35           2      False   71.666667  \n",
       "224     45           2      False   80.000000  \n",
       "286     70           3      False   76.666667  \n",
       "324     20           3      False   78.333333  \n",
       "489     80           4      False   80.000000  \n",
       "569     75           5      False   79.000000  "
      ],
      "text/html": "<div>\n<style scoped>\n    .dataframe tbody tr th:only-of-type {\n        vertical-align: middle;\n    }\n\n    .dataframe tbody tr th {\n        vertical-align: top;\n    }\n\n    .dataframe thead th {\n        text-align: right;\n    }\n</style>\n<table border=\"1\" class=\"dataframe\">\n  <thead>\n    <tr style=\"text-align: right;\">\n      <th></th>\n      <th>Name</th>\n      <th>Type 1</th>\n      <th>Type 2</th>\n      <th>HP</th>\n      <th>Attack</th>\n      <th>Defense</th>\n      <th>Sp.Attack</th>\n      <th>Sp.Defence</th>\n      <th>Speed</th>\n      <th>Generation</th>\n      <th>Legendary</th>\n      <th>Strongness</th>\n    </tr>\n    <tr>\n      <th>#</th>\n      <th></th>\n      <th></th>\n      <th></th>\n      <th></th>\n      <th></th>\n      <th></th>\n      <th></th>\n      <th></th>\n      <th></th>\n      <th></th>\n      <th></th>\n      <th></th>\n    </tr>\n  </thead>\n  <tbody>\n    <tr>\n      <th>18</th>\n      <td>Pidgeot</td>\n      <td>Normal</td>\n      <td>Flying</td>\n      <td>83</td>\n      <td>80</td>\n      <td>75</td>\n      <td>70</td>\n      <td>70</td>\n      <td>101</td>\n      <td>1</td>\n      <td>False</td>\n      <td>79.833333</td>\n    </tr>\n    <tr>\n      <th>195</th>\n      <td>Quagsire</td>\n      <td>Water</td>\n      <td>Ground</td>\n      <td>95</td>\n      <td>85</td>\n      <td>85</td>\n      <td>65</td>\n      <td>65</td>\n      <td>35</td>\n      <td>2</td>\n      <td>False</td>\n      <td>71.666667</td>\n    </tr>\n    <tr>\n      <th>224</th>\n      <td>Octillery</td>\n      <td>Water</td>\n      <td>NaN</td>\n      <td>75</td>\n      <td>105</td>\n      <td>75</td>\n      <td>105</td>\n      <td>75</td>\n      <td>45</td>\n      <td>2</td>\n      <td>False</td>\n      <td>80.000000</td>\n    </tr>\n    <tr>\n      <th>286</th>\n      <td>Breloom</td>\n      <td>Grass</td>\n      <td>Fighting</td>\n      <td>60</td>\n      <td>130</td>\n      <td>80</td>\n      <td>60</td>\n      <td>60</td>\n      <td>70</td>\n      <td>3</td>\n      <td>False</td>\n      <td>76.666667</td>\n    </tr>\n    <tr>\n      <th>324</th>\n      <td>Torkoal</td>\n      <td>Fire</td>\n      <td>NaN</td>\n      <td>70</td>\n      <td>85</td>\n      <td>140</td>\n      <td>85</td>\n      <td>70</td>\n      <td>20</td>\n      <td>3</td>\n      <td>False</td>\n      <td>78.333333</td>\n    </tr>\n    <tr>\n      <th>489</th>\n      <td>Phione</td>\n      <td>Water</td>\n      <td>NaN</td>\n      <td>80</td>\n      <td>80</td>\n      <td>80</td>\n      <td>80</td>\n      <td>80</td>\n      <td>80</td>\n      <td>4</td>\n      <td>False</td>\n      <td>80.000000</td>\n    </tr>\n    <tr>\n      <th>569</th>\n      <td>Garbodor</td>\n      <td>Poison</td>\n      <td>NaN</td>\n      <td>80</td>\n      <td>95</td>\n      <td>82</td>\n      <td>60</td>\n      <td>82</td>\n      <td>75</td>\n      <td>5</td>\n      <td>False</td>\n      <td>79.000000</td>\n    </tr>\n  </tbody>\n</table>\n</div>"
     },
     "metadata": {},
     "execution_count": 42
    }
   ],
   "source": [
    "genset3=['1','2','3','4','5']\n",
    "type3=['Fire','Water','Grass','Poison','Psychic','Rock','Electric','Gas','Normal','Ground','Fighting']\n",
    "superfilt3= (pokedf['Strongness']>=60) & (pokedf['Strongness']<=80) & (pokedf['Type 1'].isin(type3)) & (pokedf['Generation'].isin(genset3)) & (pokedf['Attack'] >= 75) & (pokedf['Defense'] >= 75) & (pokedf['Sp.Attack'] >= 60) & (pokedf['Sp.Defence'] >= 60)\n",
    "pokedf[superfilt3]"
   ]
  },
  {
   "cell_type": "code",
   "execution_count": 46,
   "metadata": {},
   "outputs": [
    {
     "output_type": "execute_result",
     "data": {
      "text/plain": [
       "          Name  Type 1    Type 2  HP  Attack  Defense  Sp.Attack  Sp.Defence  \\\n",
       "#                                                                              \n",
       "18     Pidgeot  Normal    Flying  83      80       75         70          70   \n",
       "195   Quagsire   Water    Ground  95      85       85         65          65   \n",
       "224  Octillery   Water       NaN  75     105       75        105          75   \n",
       "286    Breloom   Grass  Fighting  60     130       80         60          60   \n",
       "324    Torkoal    Fire       NaN  70      85      140         85          70   \n",
       "489     Phione   Water       NaN  80      80       80         80          80   \n",
       "569   Garbodor  Poison       NaN  80      95       82         60          82   \n",
       "\n",
       "     Speed  Generation  Legendary  Strongness  \n",
       "#                                              \n",
       "18     101           1      False   79.833333  \n",
       "195     35           2      False   71.666667  \n",
       "224     45           2      False   80.000000  \n",
       "286     70           3      False   76.666667  \n",
       "324     20           3      False   78.333333  \n",
       "489     80           4      False   80.000000  \n",
       "569     75           5      False   79.000000  "
      ],
      "text/html": "<div>\n<style scoped>\n    .dataframe tbody tr th:only-of-type {\n        vertical-align: middle;\n    }\n\n    .dataframe tbody tr th {\n        vertical-align: top;\n    }\n\n    .dataframe thead th {\n        text-align: right;\n    }\n</style>\n<table border=\"1\" class=\"dataframe\">\n  <thead>\n    <tr style=\"text-align: right;\">\n      <th></th>\n      <th>Name</th>\n      <th>Type 1</th>\n      <th>Type 2</th>\n      <th>HP</th>\n      <th>Attack</th>\n      <th>Defense</th>\n      <th>Sp.Attack</th>\n      <th>Sp.Defence</th>\n      <th>Speed</th>\n      <th>Generation</th>\n      <th>Legendary</th>\n      <th>Strongness</th>\n    </tr>\n    <tr>\n      <th>#</th>\n      <th></th>\n      <th></th>\n      <th></th>\n      <th></th>\n      <th></th>\n      <th></th>\n      <th></th>\n      <th></th>\n      <th></th>\n      <th></th>\n      <th></th>\n      <th></th>\n    </tr>\n  </thead>\n  <tbody>\n    <tr>\n      <th>18</th>\n      <td>Pidgeot</td>\n      <td>Normal</td>\n      <td>Flying</td>\n      <td>83</td>\n      <td>80</td>\n      <td>75</td>\n      <td>70</td>\n      <td>70</td>\n      <td>101</td>\n      <td>1</td>\n      <td>False</td>\n      <td>79.833333</td>\n    </tr>\n    <tr>\n      <th>195</th>\n      <td>Quagsire</td>\n      <td>Water</td>\n      <td>Ground</td>\n      <td>95</td>\n      <td>85</td>\n      <td>85</td>\n      <td>65</td>\n      <td>65</td>\n      <td>35</td>\n      <td>2</td>\n      <td>False</td>\n      <td>71.666667</td>\n    </tr>\n    <tr>\n      <th>224</th>\n      <td>Octillery</td>\n      <td>Water</td>\n      <td>NaN</td>\n      <td>75</td>\n      <td>105</td>\n      <td>75</td>\n      <td>105</td>\n      <td>75</td>\n      <td>45</td>\n      <td>2</td>\n      <td>False</td>\n      <td>80.000000</td>\n    </tr>\n    <tr>\n      <th>286</th>\n      <td>Breloom</td>\n      <td>Grass</td>\n      <td>Fighting</td>\n      <td>60</td>\n      <td>130</td>\n      <td>80</td>\n      <td>60</td>\n      <td>60</td>\n      <td>70</td>\n      <td>3</td>\n      <td>False</td>\n      <td>76.666667</td>\n    </tr>\n    <tr>\n      <th>324</th>\n      <td>Torkoal</td>\n      <td>Fire</td>\n      <td>NaN</td>\n      <td>70</td>\n      <td>85</td>\n      <td>140</td>\n      <td>85</td>\n      <td>70</td>\n      <td>20</td>\n      <td>3</td>\n      <td>False</td>\n      <td>78.333333</td>\n    </tr>\n    <tr>\n      <th>489</th>\n      <td>Phione</td>\n      <td>Water</td>\n      <td>NaN</td>\n      <td>80</td>\n      <td>80</td>\n      <td>80</td>\n      <td>80</td>\n      <td>80</td>\n      <td>80</td>\n      <td>4</td>\n      <td>False</td>\n      <td>80.000000</td>\n    </tr>\n    <tr>\n      <th>569</th>\n      <td>Garbodor</td>\n      <td>Poison</td>\n      <td>NaN</td>\n      <td>80</td>\n      <td>95</td>\n      <td>82</td>\n      <td>60</td>\n      <td>82</td>\n      <td>75</td>\n      <td>5</td>\n      <td>False</td>\n      <td>79.000000</td>\n    </tr>\n  </tbody>\n</table>\n</div>"
     },
     "metadata": {},
     "execution_count": 46
    }
   ],
   "source": [
    "q3df=pokedf[superfilt3]\n",
    "q3df"
   ]
  },
  {
   "cell_type": "code",
   "execution_count": 49,
   "metadata": {},
   "outputs": [
    {
     "output_type": "error",
     "ename": "KeyError",
     "evalue": "\"['Type 2' 'Legendary'] not found in axis\"",
     "traceback": [
      "\u001b[1;31m---------------------------------------------------------------------------\u001b[0m",
      "\u001b[1;31mKeyError\u001b[0m                                  Traceback (most recent call last)",
      "\u001b[1;32m<ipython-input-49-fe0d8a56ad47>\u001b[0m in \u001b[0;36m<module>\u001b[1;34m\u001b[0m\n\u001b[1;32m----> 1\u001b[1;33m \u001b[0mq3df\u001b[0m\u001b[1;33m.\u001b[0m\u001b[0mdrop\u001b[0m\u001b[1;33m(\u001b[0m\u001b[0mcolumns\u001b[0m\u001b[1;33m=\u001b[0m\u001b[1;33m[\u001b[0m\u001b[1;34m'Type 2'\u001b[0m\u001b[1;33m,\u001b[0m\u001b[1;34m'Legendary'\u001b[0m\u001b[1;33m]\u001b[0m\u001b[1;33m,\u001b[0m\u001b[0minplace\u001b[0m\u001b[1;33m=\u001b[0m\u001b[1;32mTrue\u001b[0m\u001b[1;33m)\u001b[0m\u001b[1;33m\u001b[0m\u001b[1;33m\u001b[0m\u001b[0m\n\u001b[0m\u001b[0;32m      2\u001b[0m \u001b[0mq3df\u001b[0m\u001b[1;33m\u001b[0m\u001b[1;33m\u001b[0m\u001b[0m\n",
      "\u001b[1;32m~\\AppData\\Local\\Programs\\Python\\Python37-32\\lib\\site-packages\\pandas\\core\\frame.py\u001b[0m in \u001b[0;36mdrop\u001b[1;34m(self, labels, axis, index, columns, level, inplace, errors)\u001b[0m\n\u001b[0;32m   3938\u001b[0m                                            \u001b[0mindex\u001b[0m\u001b[1;33m=\u001b[0m\u001b[0mindex\u001b[0m\u001b[1;33m,\u001b[0m \u001b[0mcolumns\u001b[0m\u001b[1;33m=\u001b[0m\u001b[0mcolumns\u001b[0m\u001b[1;33m,\u001b[0m\u001b[1;33m\u001b[0m\u001b[1;33m\u001b[0m\u001b[0m\n\u001b[0;32m   3939\u001b[0m                                            \u001b[0mlevel\u001b[0m\u001b[1;33m=\u001b[0m\u001b[0mlevel\u001b[0m\u001b[1;33m,\u001b[0m \u001b[0minplace\u001b[0m\u001b[1;33m=\u001b[0m\u001b[0minplace\u001b[0m\u001b[1;33m,\u001b[0m\u001b[1;33m\u001b[0m\u001b[1;33m\u001b[0m\u001b[0m\n\u001b[1;32m-> 3940\u001b[1;33m                                            errors=errors)\n\u001b[0m\u001b[0;32m   3941\u001b[0m \u001b[1;33m\u001b[0m\u001b[0m\n\u001b[0;32m   3942\u001b[0m     @rewrite_axis_style_signature('mapper', [('copy', True),\n",
      "\u001b[1;32m~\\AppData\\Local\\Programs\\Python\\Python37-32\\lib\\site-packages\\pandas\\core\\generic.py\u001b[0m in \u001b[0;36mdrop\u001b[1;34m(self, labels, axis, index, columns, level, inplace, errors)\u001b[0m\n\u001b[0;32m   3778\u001b[0m         \u001b[1;32mfor\u001b[0m \u001b[0maxis\u001b[0m\u001b[1;33m,\u001b[0m \u001b[0mlabels\u001b[0m \u001b[1;32min\u001b[0m \u001b[0maxes\u001b[0m\u001b[1;33m.\u001b[0m\u001b[0mitems\u001b[0m\u001b[1;33m(\u001b[0m\u001b[1;33m)\u001b[0m\u001b[1;33m:\u001b[0m\u001b[1;33m\u001b[0m\u001b[1;33m\u001b[0m\u001b[0m\n\u001b[0;32m   3779\u001b[0m             \u001b[1;32mif\u001b[0m \u001b[0mlabels\u001b[0m \u001b[1;32mis\u001b[0m \u001b[1;32mnot\u001b[0m \u001b[1;32mNone\u001b[0m\u001b[1;33m:\u001b[0m\u001b[1;33m\u001b[0m\u001b[1;33m\u001b[0m\u001b[0m\n\u001b[1;32m-> 3780\u001b[1;33m                 \u001b[0mobj\u001b[0m \u001b[1;33m=\u001b[0m \u001b[0mobj\u001b[0m\u001b[1;33m.\u001b[0m\u001b[0m_drop_axis\u001b[0m\u001b[1;33m(\u001b[0m\u001b[0mlabels\u001b[0m\u001b[1;33m,\u001b[0m \u001b[0maxis\u001b[0m\u001b[1;33m,\u001b[0m \u001b[0mlevel\u001b[0m\u001b[1;33m=\u001b[0m\u001b[0mlevel\u001b[0m\u001b[1;33m,\u001b[0m \u001b[0merrors\u001b[0m\u001b[1;33m=\u001b[0m\u001b[0merrors\u001b[0m\u001b[1;33m)\u001b[0m\u001b[1;33m\u001b[0m\u001b[1;33m\u001b[0m\u001b[0m\n\u001b[0m\u001b[0;32m   3781\u001b[0m \u001b[1;33m\u001b[0m\u001b[0m\n\u001b[0;32m   3782\u001b[0m         \u001b[1;32mif\u001b[0m \u001b[0minplace\u001b[0m\u001b[1;33m:\u001b[0m\u001b[1;33m\u001b[0m\u001b[1;33m\u001b[0m\u001b[0m\n",
      "\u001b[1;32m~\\AppData\\Local\\Programs\\Python\\Python37-32\\lib\\site-packages\\pandas\\core\\generic.py\u001b[0m in \u001b[0;36m_drop_axis\u001b[1;34m(self, labels, axis, level, errors)\u001b[0m\n\u001b[0;32m   3810\u001b[0m                 \u001b[0mnew_axis\u001b[0m \u001b[1;33m=\u001b[0m \u001b[0maxis\u001b[0m\u001b[1;33m.\u001b[0m\u001b[0mdrop\u001b[0m\u001b[1;33m(\u001b[0m\u001b[0mlabels\u001b[0m\u001b[1;33m,\u001b[0m \u001b[0mlevel\u001b[0m\u001b[1;33m=\u001b[0m\u001b[0mlevel\u001b[0m\u001b[1;33m,\u001b[0m \u001b[0merrors\u001b[0m\u001b[1;33m=\u001b[0m\u001b[0merrors\u001b[0m\u001b[1;33m)\u001b[0m\u001b[1;33m\u001b[0m\u001b[1;33m\u001b[0m\u001b[0m\n\u001b[0;32m   3811\u001b[0m             \u001b[1;32melse\u001b[0m\u001b[1;33m:\u001b[0m\u001b[1;33m\u001b[0m\u001b[1;33m\u001b[0m\u001b[0m\n\u001b[1;32m-> 3812\u001b[1;33m                 \u001b[0mnew_axis\u001b[0m \u001b[1;33m=\u001b[0m \u001b[0maxis\u001b[0m\u001b[1;33m.\u001b[0m\u001b[0mdrop\u001b[0m\u001b[1;33m(\u001b[0m\u001b[0mlabels\u001b[0m\u001b[1;33m,\u001b[0m \u001b[0merrors\u001b[0m\u001b[1;33m=\u001b[0m\u001b[0merrors\u001b[0m\u001b[1;33m)\u001b[0m\u001b[1;33m\u001b[0m\u001b[1;33m\u001b[0m\u001b[0m\n\u001b[0m\u001b[0;32m   3813\u001b[0m             \u001b[0mresult\u001b[0m \u001b[1;33m=\u001b[0m \u001b[0mself\u001b[0m\u001b[1;33m.\u001b[0m\u001b[0mreindex\u001b[0m\u001b[1;33m(\u001b[0m\u001b[1;33m**\u001b[0m\u001b[1;33m{\u001b[0m\u001b[0maxis_name\u001b[0m\u001b[1;33m:\u001b[0m \u001b[0mnew_axis\u001b[0m\u001b[1;33m}\u001b[0m\u001b[1;33m)\u001b[0m\u001b[1;33m\u001b[0m\u001b[1;33m\u001b[0m\u001b[0m\n\u001b[0;32m   3814\u001b[0m \u001b[1;33m\u001b[0m\u001b[0m\n",
      "\u001b[1;32m~\\AppData\\Local\\Programs\\Python\\Python37-32\\lib\\site-packages\\pandas\\core\\indexes\\base.py\u001b[0m in \u001b[0;36mdrop\u001b[1;34m(self, labels, errors)\u001b[0m\n\u001b[0;32m   4963\u001b[0m             \u001b[1;32mif\u001b[0m \u001b[0merrors\u001b[0m \u001b[1;33m!=\u001b[0m \u001b[1;34m'ignore'\u001b[0m\u001b[1;33m:\u001b[0m\u001b[1;33m\u001b[0m\u001b[1;33m\u001b[0m\u001b[0m\n\u001b[0;32m   4964\u001b[0m                 raise KeyError(\n\u001b[1;32m-> 4965\u001b[1;33m                     '{} not found in axis'.format(labels[mask]))\n\u001b[0m\u001b[0;32m   4966\u001b[0m             \u001b[0mindexer\u001b[0m \u001b[1;33m=\u001b[0m \u001b[0mindexer\u001b[0m\u001b[1;33m[\u001b[0m\u001b[1;33m~\u001b[0m\u001b[0mmask\u001b[0m\u001b[1;33m]\u001b[0m\u001b[1;33m\u001b[0m\u001b[1;33m\u001b[0m\u001b[0m\n\u001b[0;32m   4967\u001b[0m         \u001b[1;32mreturn\u001b[0m \u001b[0mself\u001b[0m\u001b[1;33m.\u001b[0m\u001b[0mdelete\u001b[0m\u001b[1;33m(\u001b[0m\u001b[0mindexer\u001b[0m\u001b[1;33m)\u001b[0m\u001b[1;33m\u001b[0m\u001b[1;33m\u001b[0m\u001b[0m\n",
      "\u001b[1;31mKeyError\u001b[0m: \"['Type 2' 'Legendary'] not found in axis\""
     ]
    }
   ],
   "source": [
    "q3df.drop(columns=['Type 2','Legendary'],inplace=True)\n"
   ]
  },
  {
   "cell_type": "code",
   "execution_count": 50,
   "metadata": {},
   "outputs": [
    {
     "output_type": "execute_result",
     "data": {
      "text/plain": [
       "          Name  Type 1  HP  Attack  Defense  Sp.Attack  Sp.Defence  Speed  \\\n",
       "#                                                                           \n",
       "18     Pidgeot  Normal  83      80       75         70          70    101   \n",
       "195   Quagsire   Water  95      85       85         65          65     35   \n",
       "224  Octillery   Water  75     105       75        105          75     45   \n",
       "286    Breloom   Grass  60     130       80         60          60     70   \n",
       "324    Torkoal    Fire  70      85      140         85          70     20   \n",
       "489     Phione   Water  80      80       80         80          80     80   \n",
       "569   Garbodor  Poison  80      95       82         60          82     75   \n",
       "\n",
       "     Generation  Strongness  \n",
       "#                            \n",
       "18            1   79.833333  \n",
       "195           2   71.666667  \n",
       "224           2   80.000000  \n",
       "286           3   76.666667  \n",
       "324           3   78.333333  \n",
       "489           4   80.000000  \n",
       "569           5   79.000000  "
      ],
      "text/html": "<div>\n<style scoped>\n    .dataframe tbody tr th:only-of-type {\n        vertical-align: middle;\n    }\n\n    .dataframe tbody tr th {\n        vertical-align: top;\n    }\n\n    .dataframe thead th {\n        text-align: right;\n    }\n</style>\n<table border=\"1\" class=\"dataframe\">\n  <thead>\n    <tr style=\"text-align: right;\">\n      <th></th>\n      <th>Name</th>\n      <th>Type 1</th>\n      <th>HP</th>\n      <th>Attack</th>\n      <th>Defense</th>\n      <th>Sp.Attack</th>\n      <th>Sp.Defence</th>\n      <th>Speed</th>\n      <th>Generation</th>\n      <th>Strongness</th>\n    </tr>\n    <tr>\n      <th>#</th>\n      <th></th>\n      <th></th>\n      <th></th>\n      <th></th>\n      <th></th>\n      <th></th>\n      <th></th>\n      <th></th>\n      <th></th>\n      <th></th>\n    </tr>\n  </thead>\n  <tbody>\n    <tr>\n      <th>18</th>\n      <td>Pidgeot</td>\n      <td>Normal</td>\n      <td>83</td>\n      <td>80</td>\n      <td>75</td>\n      <td>70</td>\n      <td>70</td>\n      <td>101</td>\n      <td>1</td>\n      <td>79.833333</td>\n    </tr>\n    <tr>\n      <th>195</th>\n      <td>Quagsire</td>\n      <td>Water</td>\n      <td>95</td>\n      <td>85</td>\n      <td>85</td>\n      <td>65</td>\n      <td>65</td>\n      <td>35</td>\n      <td>2</td>\n      <td>71.666667</td>\n    </tr>\n    <tr>\n      <th>224</th>\n      <td>Octillery</td>\n      <td>Water</td>\n      <td>75</td>\n      <td>105</td>\n      <td>75</td>\n      <td>105</td>\n      <td>75</td>\n      <td>45</td>\n      <td>2</td>\n      <td>80.000000</td>\n    </tr>\n    <tr>\n      <th>286</th>\n      <td>Breloom</td>\n      <td>Grass</td>\n      <td>60</td>\n      <td>130</td>\n      <td>80</td>\n      <td>60</td>\n      <td>60</td>\n      <td>70</td>\n      <td>3</td>\n      <td>76.666667</td>\n    </tr>\n    <tr>\n      <th>324</th>\n      <td>Torkoal</td>\n      <td>Fire</td>\n      <td>70</td>\n      <td>85</td>\n      <td>140</td>\n      <td>85</td>\n      <td>70</td>\n      <td>20</td>\n      <td>3</td>\n      <td>78.333333</td>\n    </tr>\n    <tr>\n      <th>489</th>\n      <td>Phione</td>\n      <td>Water</td>\n      <td>80</td>\n      <td>80</td>\n      <td>80</td>\n      <td>80</td>\n      <td>80</td>\n      <td>80</td>\n      <td>4</td>\n      <td>80.000000</td>\n    </tr>\n    <tr>\n      <th>569</th>\n      <td>Garbodor</td>\n      <td>Poison</td>\n      <td>80</td>\n      <td>95</td>\n      <td>82</td>\n      <td>60</td>\n      <td>82</td>\n      <td>75</td>\n      <td>5</td>\n      <td>79.000000</td>\n    </tr>\n  </tbody>\n</table>\n</div>"
     },
     "metadata": {},
     "execution_count": 50
    }
   ],
   "source": [
    "q3df"
   ]
  },
  {
   "cell_type": "code",
   "execution_count": 51,
   "metadata": {},
   "outputs": [],
   "source": [
    "q3df.to_csv('D:\\DataAnalysis\\Q3df.csv')"
   ]
  },
  {
   "cell_type": "code",
   "execution_count": null,
   "metadata": {},
   "outputs": [],
   "source": []
  }
 ]
}